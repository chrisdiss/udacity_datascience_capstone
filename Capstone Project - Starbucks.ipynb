{
 "cells": [
  {
   "cell_type": "markdown",
   "metadata": {},
   "source": [
    "## Starbucks Capstone Challenge\n",
    "### Introduction\n",
    "This data set contains simulated data that mimics customer behavior on the Starbucks rewards mobile app. Once every few days, Starbucks sends out an offer to users of the mobile app. An offer can be merely an advertisement for a drink or an actual offer such as a discount or BOGO (buy one get one free). Some users might not receive any offer during certain weeks.\n",
    "\n",
    "Not all users receive the same offer, and that is the challenge to solve with this data set.\n",
    "\n",
    "Your task is to combine transaction, demographic and offer data to determine which demographic groups respond best to which offer type. This data set is a simplified version of the real Starbucks app because the underlying simulator only has one product whereas Starbucks actually sells dozens of products.\n",
    "\n",
    "Every offer has a validity period before the offer expires. As an example, a BOGO offer might be valid for only 5 days. You'll see in the data set that informational offers have a validity period even though these ads are merely providing information about a product; for example, if an informational offer has 7 days of validity, you can assume the customer is feeling the influence of the offer for 7 days after receiving the advertisement.\n",
    "\n",
    "You'll be given transactional data showing user purchases made on the app including the timestamp of purchase and the amount of money spent on a purchase. This transactional data also has a record for each offer that a user receives as well as a record for when a user actually views the offer. There are also records for when a user completes an offer.\n",
    "\n",
    "Keep in mind as well that someone using the app might make a purchase through the app without having received an offer or seen an offer.\n",
    "\n",
    "### Example\n",
    "To give an example, a user could receive a discount offer buy 10 dollars get 2 off on Monday. The offer is valid for 10 days from receipt. If the customer accumulates at least 10 dollars in purchases during the validity period, the customer completes the offer.\n",
    "\n",
    "However, there are a few things to watch out for in this data set. Customers do not opt into the offers that they receive; in other words, a user can receive an offer, never actually view the offer, and still complete the offer. For example, a user might receive the \"buy 10 dollars get 2 dollars off offer\", but the user never opens the offer during the 10 day validity period. The customer spends 15 dollars during those ten days. There will be an offer completion record in the data set; however, the customer was not influenced by the offer because the customer never viewed the offer.\n",
    "\n",
    "### Cleaning\n",
    "This makes data cleaning especially important and tricky.\n",
    "\n",
    "You'll also want to take into account that some demographic groups will make purchases even if they don't receive an offer. From a business perspective, if a customer is going to make a 10 dollar purchase without an offer anyway, you wouldn't want to send a buy 10 dollars get 2 dollars off offer. You'll want to try to assess what a certain demographic group will buy when not receiving any offers.\n",
    "\n",
    "### Final Advice\n",
    "Because this is a capstone project, you are free to analyze the data any way you see fit. For example, you could build a machine learning model that predicts how much someone will spend based on demographics and offer type. Or you could build a model that predicts whether or not someone will respond to an offer. Or, you don't need to build a machine learning model at all. You could develop a set of heuristics that determine what offer you should send to each customer (i.e., 75 percent of women customers who were 35 years old responded to offer A vs 40 percent from the same demographic to offer B, so send offer A)."
   ]
  },
  {
   "cell_type": "markdown",
   "metadata": {},
   "source": [
    "### Data Sets\n",
    "The data is contained in three files:\n",
    "\n",
    "portfolio.json - containing offer ids and meta data about each offer (duration, type, etc.)<br>\n",
    "profile.json - demographic data for each customer<br>\n",
    "transcript.json - records for transactions, offers received, offers viewed, and offers completed<br>\n",
    "\n",
    "Here is the schema and explanation of each variable in the files:\n",
    "\n",
    "\n",
    "#### portfolio.json\n",
    "\n",
    "id (string) - offer id <br>\n",
    "offer_type (string) - type of offer ie BOGO, discount, informational<br>\n",
    "difficulty (int) - minimum required spend to complete an offer<br>\n",
    "reward (int) - reward given for completing an offer<br>\n",
    "duration (int) - time for offer to be open, in days<br>\n",
    "channels (list of strings)<br>\n",
    "#### profile.json\n",
    "\n",
    "age (int) - age of the customer<br>\n",
    "became_member_on (int) - date when customer created an app account<br>\n",
    "gender (str) - gender of the customer (note some entries contain 'O' for other rather than M or F)<br>\n",
    "id (str) - customer id<br>\n",
    "income (float) - customer's income<br>\n",
    "#### transcript.json\n",
    "\n",
    "event (str) - record description (ie transaction, offer received, offer viewed, etc.)<br>\n",
    "person (str) - customer id<br>\n",
    "time (int) - time in hours since start of test. The data begins at time t=0<br>\n",
    "value - (dict of strings) - either an offer id or transaction amount depending on the record<br>\n",
    "\n",
    "Note: If you are using the workspace, you will need to go to the terminal and run the command conda update pandas before reading in the files. This is because the version of pandas in the workspace cannot read in the transcript.json file correctly, but the newest version of pandas can. You can access the termnal from the orange icon in the top left of this notebook."
   ]
  },
  {
   "cell_type": "markdown",
   "metadata": {},
   "source": [
    "# Project"
   ]
  },
  {
   "cell_type": "markdown",
   "metadata": {},
   "source": [
    "### Objective & overview\n",
    "Goal of the project is to analyze data from Starbucks about their consumer behaviour regarding to certain offer strategies. It should be analyzed which offer strategies apply to which group of customers best, if there is a significant difference between groups. With this in mind Starbucks could gain insights about the way how to best promote and offer coupons and increase the efficacy of such offers.\n",
    "\n",
    "First, it is necessary to get familiar with the data and to perform some data wrangling and cleaning. After this some descriptive and some more advanced statistical analyses will be done to find possible insights in the data. The insights will be supported with useful visualizations. The single steps will be explained in detail below."
   ]
  },
  {
   "cell_type": "code",
   "execution_count": 1,
   "metadata": {},
   "outputs": [],
   "source": [
    "# Importing libraries\n",
    "import pandas as pd\n",
    "import numpy as np\n",
    "import matplotlib.pyplot as plt\n",
    "import seaborn as sns\n",
    "import math\n",
    "import json\n",
    "%matplotlib inline"
   ]
  },
  {
   "cell_type": "code",
   "execution_count": 2,
   "metadata": {},
   "outputs": [],
   "source": [
    "import pickle"
   ]
  },
  {
   "cell_type": "code",
   "execution_count": 3,
   "metadata": {},
   "outputs": [],
   "source": [
    "# Import data\n",
    "portfolio = pd.read_json('data/portfolio.json', orient='records', lines=True)\n",
    "profile = pd.read_json('data/profile.json', orient='records', lines=True)\n",
    "transcript = pd.read_json('data/transcript.json', orient='records', lines=True)"
   ]
  },
  {
   "cell_type": "markdown",
   "metadata": {},
   "source": [
    "## Data Wrangling & Cleaning"
   ]
  },
  {
   "cell_type": "code",
   "execution_count": 4,
   "metadata": {},
   "outputs": [
    {
     "data": {
      "text/html": [
       "<div>\n",
       "<style scoped>\n",
       "    .dataframe tbody tr th:only-of-type {\n",
       "        vertical-align: middle;\n",
       "    }\n",
       "\n",
       "    .dataframe tbody tr th {\n",
       "        vertical-align: top;\n",
       "    }\n",
       "\n",
       "    .dataframe thead th {\n",
       "        text-align: right;\n",
       "    }\n",
       "</style>\n",
       "<table border=\"1\" class=\"dataframe\">\n",
       "  <thead>\n",
       "    <tr style=\"text-align: right;\">\n",
       "      <th></th>\n",
       "      <th>reward</th>\n",
       "      <th>channels</th>\n",
       "      <th>difficulty</th>\n",
       "      <th>duration</th>\n",
       "      <th>offer_type</th>\n",
       "      <th>id</th>\n",
       "    </tr>\n",
       "  </thead>\n",
       "  <tbody>\n",
       "    <tr>\n",
       "      <td>0</td>\n",
       "      <td>10</td>\n",
       "      <td>[email, mobile, social]</td>\n",
       "      <td>10</td>\n",
       "      <td>7</td>\n",
       "      <td>bogo</td>\n",
       "      <td>ae264e3637204a6fb9bb56bc8210ddfd</td>\n",
       "    </tr>\n",
       "    <tr>\n",
       "      <td>1</td>\n",
       "      <td>10</td>\n",
       "      <td>[web, email, mobile, social]</td>\n",
       "      <td>10</td>\n",
       "      <td>5</td>\n",
       "      <td>bogo</td>\n",
       "      <td>4d5c57ea9a6940dd891ad53e9dbe8da0</td>\n",
       "    </tr>\n",
       "    <tr>\n",
       "      <td>2</td>\n",
       "      <td>0</td>\n",
       "      <td>[web, email, mobile]</td>\n",
       "      <td>0</td>\n",
       "      <td>4</td>\n",
       "      <td>informational</td>\n",
       "      <td>3f207df678b143eea3cee63160fa8bed</td>\n",
       "    </tr>\n",
       "    <tr>\n",
       "      <td>3</td>\n",
       "      <td>5</td>\n",
       "      <td>[web, email, mobile]</td>\n",
       "      <td>5</td>\n",
       "      <td>7</td>\n",
       "      <td>bogo</td>\n",
       "      <td>9b98b8c7a33c4b65b9aebfe6a799e6d9</td>\n",
       "    </tr>\n",
       "    <tr>\n",
       "      <td>4</td>\n",
       "      <td>5</td>\n",
       "      <td>[web, email]</td>\n",
       "      <td>20</td>\n",
       "      <td>10</td>\n",
       "      <td>discount</td>\n",
       "      <td>0b1e1539f2cc45b7b9fa7c272da2e1d7</td>\n",
       "    </tr>\n",
       "  </tbody>\n",
       "</table>\n",
       "</div>"
      ],
      "text/plain": [
       "   reward                      channels  difficulty  duration     offer_type  \\\n",
       "0      10       [email, mobile, social]          10         7           bogo   \n",
       "1      10  [web, email, mobile, social]          10         5           bogo   \n",
       "2       0          [web, email, mobile]           0         4  informational   \n",
       "3       5          [web, email, mobile]           5         7           bogo   \n",
       "4       5                  [web, email]          20        10       discount   \n",
       "\n",
       "                                 id  \n",
       "0  ae264e3637204a6fb9bb56bc8210ddfd  \n",
       "1  4d5c57ea9a6940dd891ad53e9dbe8da0  \n",
       "2  3f207df678b143eea3cee63160fa8bed  \n",
       "3  9b98b8c7a33c4b65b9aebfe6a799e6d9  \n",
       "4  0b1e1539f2cc45b7b9fa7c272da2e1d7  "
      ]
     },
     "execution_count": 4,
     "metadata": {},
     "output_type": "execute_result"
    }
   ],
   "source": [
    "# get overview of the data\n",
    "portfolio.head()"
   ]
  },
  {
   "cell_type": "code",
   "execution_count": 5,
   "metadata": {},
   "outputs": [
    {
     "name": "stdout",
     "output_type": "stream",
     "text": [
      "<class 'pandas.core.frame.DataFrame'>\n",
      "RangeIndex: 10 entries, 0 to 9\n",
      "Data columns (total 6 columns):\n",
      "reward        10 non-null int64\n",
      "channels      10 non-null object\n",
      "difficulty    10 non-null int64\n",
      "duration      10 non-null int64\n",
      "offer_type    10 non-null object\n",
      "id            10 non-null object\n",
      "dtypes: int64(3), object(3)\n",
      "memory usage: 608.0+ bytes\n"
     ]
    }
   ],
   "source": [
    "portfolio.info()"
   ]
  },
  {
   "cell_type": "code",
   "execution_count": 6,
   "metadata": {},
   "outputs": [
    {
     "data": {
      "text/html": [
       "<div>\n",
       "<style scoped>\n",
       "    .dataframe tbody tr th:only-of-type {\n",
       "        vertical-align: middle;\n",
       "    }\n",
       "\n",
       "    .dataframe tbody tr th {\n",
       "        vertical-align: top;\n",
       "    }\n",
       "\n",
       "    .dataframe thead th {\n",
       "        text-align: right;\n",
       "    }\n",
       "</style>\n",
       "<table border=\"1\" class=\"dataframe\">\n",
       "  <thead>\n",
       "    <tr style=\"text-align: right;\">\n",
       "      <th></th>\n",
       "      <th>reward</th>\n",
       "      <th>difficulty</th>\n",
       "      <th>duration</th>\n",
       "    </tr>\n",
       "  </thead>\n",
       "  <tbody>\n",
       "    <tr>\n",
       "      <td>count</td>\n",
       "      <td>10.000000</td>\n",
       "      <td>10.000000</td>\n",
       "      <td>10.000000</td>\n",
       "    </tr>\n",
       "    <tr>\n",
       "      <td>mean</td>\n",
       "      <td>4.200000</td>\n",
       "      <td>7.700000</td>\n",
       "      <td>6.500000</td>\n",
       "    </tr>\n",
       "    <tr>\n",
       "      <td>std</td>\n",
       "      <td>3.583915</td>\n",
       "      <td>5.831905</td>\n",
       "      <td>2.321398</td>\n",
       "    </tr>\n",
       "    <tr>\n",
       "      <td>min</td>\n",
       "      <td>0.000000</td>\n",
       "      <td>0.000000</td>\n",
       "      <td>3.000000</td>\n",
       "    </tr>\n",
       "    <tr>\n",
       "      <td>25%</td>\n",
       "      <td>2.000000</td>\n",
       "      <td>5.000000</td>\n",
       "      <td>5.000000</td>\n",
       "    </tr>\n",
       "    <tr>\n",
       "      <td>50%</td>\n",
       "      <td>4.000000</td>\n",
       "      <td>8.500000</td>\n",
       "      <td>7.000000</td>\n",
       "    </tr>\n",
       "    <tr>\n",
       "      <td>75%</td>\n",
       "      <td>5.000000</td>\n",
       "      <td>10.000000</td>\n",
       "      <td>7.000000</td>\n",
       "    </tr>\n",
       "    <tr>\n",
       "      <td>max</td>\n",
       "      <td>10.000000</td>\n",
       "      <td>20.000000</td>\n",
       "      <td>10.000000</td>\n",
       "    </tr>\n",
       "  </tbody>\n",
       "</table>\n",
       "</div>"
      ],
      "text/plain": [
       "          reward  difficulty   duration\n",
       "count  10.000000   10.000000  10.000000\n",
       "mean    4.200000    7.700000   6.500000\n",
       "std     3.583915    5.831905   2.321398\n",
       "min     0.000000    0.000000   3.000000\n",
       "25%     2.000000    5.000000   5.000000\n",
       "50%     4.000000    8.500000   7.000000\n",
       "75%     5.000000   10.000000   7.000000\n",
       "max    10.000000   20.000000  10.000000"
      ]
     },
     "execution_count": 6,
     "metadata": {},
     "output_type": "execute_result"
    }
   ],
   "source": [
    "portfolio.describe()"
   ]
  },
  {
   "cell_type": "code",
   "execution_count": 7,
   "metadata": {},
   "outputs": [
    {
     "data": {
      "text/html": [
       "<div>\n",
       "<style scoped>\n",
       "    .dataframe tbody tr th:only-of-type {\n",
       "        vertical-align: middle;\n",
       "    }\n",
       "\n",
       "    .dataframe tbody tr th {\n",
       "        vertical-align: top;\n",
       "    }\n",
       "\n",
       "    .dataframe thead th {\n",
       "        text-align: right;\n",
       "    }\n",
       "</style>\n",
       "<table border=\"1\" class=\"dataframe\">\n",
       "  <thead>\n",
       "    <tr style=\"text-align: right;\">\n",
       "      <th></th>\n",
       "      <th>gender</th>\n",
       "      <th>age</th>\n",
       "      <th>id</th>\n",
       "      <th>became_member_on</th>\n",
       "      <th>income</th>\n",
       "    </tr>\n",
       "  </thead>\n",
       "  <tbody>\n",
       "    <tr>\n",
       "      <td>0</td>\n",
       "      <td>None</td>\n",
       "      <td>118</td>\n",
       "      <td>68be06ca386d4c31939f3a4f0e3dd783</td>\n",
       "      <td>20170212</td>\n",
       "      <td>NaN</td>\n",
       "    </tr>\n",
       "    <tr>\n",
       "      <td>1</td>\n",
       "      <td>F</td>\n",
       "      <td>55</td>\n",
       "      <td>0610b486422d4921ae7d2bf64640c50b</td>\n",
       "      <td>20170715</td>\n",
       "      <td>112000.0</td>\n",
       "    </tr>\n",
       "    <tr>\n",
       "      <td>2</td>\n",
       "      <td>None</td>\n",
       "      <td>118</td>\n",
       "      <td>38fe809add3b4fcf9315a9694bb96ff5</td>\n",
       "      <td>20180712</td>\n",
       "      <td>NaN</td>\n",
       "    </tr>\n",
       "    <tr>\n",
       "      <td>3</td>\n",
       "      <td>F</td>\n",
       "      <td>75</td>\n",
       "      <td>78afa995795e4d85b5d9ceeca43f5fef</td>\n",
       "      <td>20170509</td>\n",
       "      <td>100000.0</td>\n",
       "    </tr>\n",
       "    <tr>\n",
       "      <td>4</td>\n",
       "      <td>None</td>\n",
       "      <td>118</td>\n",
       "      <td>a03223e636434f42ac4c3df47e8bac43</td>\n",
       "      <td>20170804</td>\n",
       "      <td>NaN</td>\n",
       "    </tr>\n",
       "  </tbody>\n",
       "</table>\n",
       "</div>"
      ],
      "text/plain": [
       "  gender  age                                id  became_member_on    income\n",
       "0   None  118  68be06ca386d4c31939f3a4f0e3dd783          20170212       NaN\n",
       "1      F   55  0610b486422d4921ae7d2bf64640c50b          20170715  112000.0\n",
       "2   None  118  38fe809add3b4fcf9315a9694bb96ff5          20180712       NaN\n",
       "3      F   75  78afa995795e4d85b5d9ceeca43f5fef          20170509  100000.0\n",
       "4   None  118  a03223e636434f42ac4c3df47e8bac43          20170804       NaN"
      ]
     },
     "execution_count": 7,
     "metadata": {},
     "output_type": "execute_result"
    }
   ],
   "source": [
    "# get overview of the data\n",
    "profile.head()"
   ]
  },
  {
   "cell_type": "code",
   "execution_count": 8,
   "metadata": {},
   "outputs": [
    {
     "name": "stdout",
     "output_type": "stream",
     "text": [
      "<class 'pandas.core.frame.DataFrame'>\n",
      "RangeIndex: 17000 entries, 0 to 16999\n",
      "Data columns (total 5 columns):\n",
      "gender              14825 non-null object\n",
      "age                 17000 non-null int64\n",
      "id                  17000 non-null object\n",
      "became_member_on    17000 non-null int64\n",
      "income              14825 non-null float64\n",
      "dtypes: float64(1), int64(2), object(2)\n",
      "memory usage: 664.2+ KB\n"
     ]
    }
   ],
   "source": [
    "profile.info()"
   ]
  },
  {
   "cell_type": "code",
   "execution_count": 9,
   "metadata": {},
   "outputs": [
    {
     "data": {
      "text/html": [
       "<div>\n",
       "<style scoped>\n",
       "    .dataframe tbody tr th:only-of-type {\n",
       "        vertical-align: middle;\n",
       "    }\n",
       "\n",
       "    .dataframe tbody tr th {\n",
       "        vertical-align: top;\n",
       "    }\n",
       "\n",
       "    .dataframe thead th {\n",
       "        text-align: right;\n",
       "    }\n",
       "</style>\n",
       "<table border=\"1\" class=\"dataframe\">\n",
       "  <thead>\n",
       "    <tr style=\"text-align: right;\">\n",
       "      <th></th>\n",
       "      <th>age</th>\n",
       "      <th>became_member_on</th>\n",
       "      <th>income</th>\n",
       "    </tr>\n",
       "  </thead>\n",
       "  <tbody>\n",
       "    <tr>\n",
       "      <td>count</td>\n",
       "      <td>17000.000000</td>\n",
       "      <td>1.700000e+04</td>\n",
       "      <td>14825.000000</td>\n",
       "    </tr>\n",
       "    <tr>\n",
       "      <td>mean</td>\n",
       "      <td>62.531412</td>\n",
       "      <td>2.016703e+07</td>\n",
       "      <td>65404.991568</td>\n",
       "    </tr>\n",
       "    <tr>\n",
       "      <td>std</td>\n",
       "      <td>26.738580</td>\n",
       "      <td>1.167750e+04</td>\n",
       "      <td>21598.299410</td>\n",
       "    </tr>\n",
       "    <tr>\n",
       "      <td>min</td>\n",
       "      <td>18.000000</td>\n",
       "      <td>2.013073e+07</td>\n",
       "      <td>30000.000000</td>\n",
       "    </tr>\n",
       "    <tr>\n",
       "      <td>25%</td>\n",
       "      <td>45.000000</td>\n",
       "      <td>2.016053e+07</td>\n",
       "      <td>49000.000000</td>\n",
       "    </tr>\n",
       "    <tr>\n",
       "      <td>50%</td>\n",
       "      <td>58.000000</td>\n",
       "      <td>2.017080e+07</td>\n",
       "      <td>64000.000000</td>\n",
       "    </tr>\n",
       "    <tr>\n",
       "      <td>75%</td>\n",
       "      <td>73.000000</td>\n",
       "      <td>2.017123e+07</td>\n",
       "      <td>80000.000000</td>\n",
       "    </tr>\n",
       "    <tr>\n",
       "      <td>max</td>\n",
       "      <td>118.000000</td>\n",
       "      <td>2.018073e+07</td>\n",
       "      <td>120000.000000</td>\n",
       "    </tr>\n",
       "  </tbody>\n",
       "</table>\n",
       "</div>"
      ],
      "text/plain": [
       "                age  became_member_on         income\n",
       "count  17000.000000      1.700000e+04   14825.000000\n",
       "mean      62.531412      2.016703e+07   65404.991568\n",
       "std       26.738580      1.167750e+04   21598.299410\n",
       "min       18.000000      2.013073e+07   30000.000000\n",
       "25%       45.000000      2.016053e+07   49000.000000\n",
       "50%       58.000000      2.017080e+07   64000.000000\n",
       "75%       73.000000      2.017123e+07   80000.000000\n",
       "max      118.000000      2.018073e+07  120000.000000"
      ]
     },
     "execution_count": 9,
     "metadata": {},
     "output_type": "execute_result"
    }
   ],
   "source": [
    "profile.describe()"
   ]
  },
  {
   "cell_type": "code",
   "execution_count": 10,
   "metadata": {},
   "outputs": [
    {
     "data": {
      "text/html": [
       "<div>\n",
       "<style scoped>\n",
       "    .dataframe tbody tr th:only-of-type {\n",
       "        vertical-align: middle;\n",
       "    }\n",
       "\n",
       "    .dataframe tbody tr th {\n",
       "        vertical-align: top;\n",
       "    }\n",
       "\n",
       "    .dataframe thead th {\n",
       "        text-align: right;\n",
       "    }\n",
       "</style>\n",
       "<table border=\"1\" class=\"dataframe\">\n",
       "  <thead>\n",
       "    <tr style=\"text-align: right;\">\n",
       "      <th></th>\n",
       "      <th>person</th>\n",
       "      <th>event</th>\n",
       "      <th>value</th>\n",
       "      <th>time</th>\n",
       "    </tr>\n",
       "  </thead>\n",
       "  <tbody>\n",
       "    <tr>\n",
       "      <td>0</td>\n",
       "      <td>78afa995795e4d85b5d9ceeca43f5fef</td>\n",
       "      <td>offer received</td>\n",
       "      <td>{'offer id': '9b98b8c7a33c4b65b9aebfe6a799e6d9'}</td>\n",
       "      <td>0</td>\n",
       "    </tr>\n",
       "    <tr>\n",
       "      <td>1</td>\n",
       "      <td>a03223e636434f42ac4c3df47e8bac43</td>\n",
       "      <td>offer received</td>\n",
       "      <td>{'offer id': '0b1e1539f2cc45b7b9fa7c272da2e1d7'}</td>\n",
       "      <td>0</td>\n",
       "    </tr>\n",
       "    <tr>\n",
       "      <td>2</td>\n",
       "      <td>e2127556f4f64592b11af22de27a7932</td>\n",
       "      <td>offer received</td>\n",
       "      <td>{'offer id': '2906b810c7d4411798c6938adc9daaa5'}</td>\n",
       "      <td>0</td>\n",
       "    </tr>\n",
       "    <tr>\n",
       "      <td>3</td>\n",
       "      <td>8ec6ce2a7e7949b1bf142def7d0e0586</td>\n",
       "      <td>offer received</td>\n",
       "      <td>{'offer id': 'fafdcd668e3743c1bb461111dcafc2a4'}</td>\n",
       "      <td>0</td>\n",
       "    </tr>\n",
       "    <tr>\n",
       "      <td>4</td>\n",
       "      <td>68617ca6246f4fbc85e91a2a49552598</td>\n",
       "      <td>offer received</td>\n",
       "      <td>{'offer id': '4d5c57ea9a6940dd891ad53e9dbe8da0'}</td>\n",
       "      <td>0</td>\n",
       "    </tr>\n",
       "  </tbody>\n",
       "</table>\n",
       "</div>"
      ],
      "text/plain": [
       "                             person           event  \\\n",
       "0  78afa995795e4d85b5d9ceeca43f5fef  offer received   \n",
       "1  a03223e636434f42ac4c3df47e8bac43  offer received   \n",
       "2  e2127556f4f64592b11af22de27a7932  offer received   \n",
       "3  8ec6ce2a7e7949b1bf142def7d0e0586  offer received   \n",
       "4  68617ca6246f4fbc85e91a2a49552598  offer received   \n",
       "\n",
       "                                              value  time  \n",
       "0  {'offer id': '9b98b8c7a33c4b65b9aebfe6a799e6d9'}     0  \n",
       "1  {'offer id': '0b1e1539f2cc45b7b9fa7c272da2e1d7'}     0  \n",
       "2  {'offer id': '2906b810c7d4411798c6938adc9daaa5'}     0  \n",
       "3  {'offer id': 'fafdcd668e3743c1bb461111dcafc2a4'}     0  \n",
       "4  {'offer id': '4d5c57ea9a6940dd891ad53e9dbe8da0'}     0  "
      ]
     },
     "execution_count": 10,
     "metadata": {},
     "output_type": "execute_result"
    }
   ],
   "source": [
    "# get overview of the data\n",
    "transcript.head()"
   ]
  },
  {
   "cell_type": "code",
   "execution_count": 11,
   "metadata": {},
   "outputs": [
    {
     "name": "stdout",
     "output_type": "stream",
     "text": [
      "<class 'pandas.core.frame.DataFrame'>\n",
      "RangeIndex: 306534 entries, 0 to 306533\n",
      "Data columns (total 4 columns):\n",
      "person    306534 non-null object\n",
      "event     306534 non-null object\n",
      "value     306534 non-null object\n",
      "time      306534 non-null int64\n",
      "dtypes: int64(1), object(3)\n",
      "memory usage: 9.4+ MB\n"
     ]
    }
   ],
   "source": [
    "transcript.info()"
   ]
  },
  {
   "cell_type": "code",
   "execution_count": 12,
   "metadata": {},
   "outputs": [
    {
     "data": {
      "text/html": [
       "<div>\n",
       "<style scoped>\n",
       "    .dataframe tbody tr th:only-of-type {\n",
       "        vertical-align: middle;\n",
       "    }\n",
       "\n",
       "    .dataframe tbody tr th {\n",
       "        vertical-align: top;\n",
       "    }\n",
       "\n",
       "    .dataframe thead th {\n",
       "        text-align: right;\n",
       "    }\n",
       "</style>\n",
       "<table border=\"1\" class=\"dataframe\">\n",
       "  <thead>\n",
       "    <tr style=\"text-align: right;\">\n",
       "      <th></th>\n",
       "      <th>time</th>\n",
       "    </tr>\n",
       "  </thead>\n",
       "  <tbody>\n",
       "    <tr>\n",
       "      <td>count</td>\n",
       "      <td>306534.000000</td>\n",
       "    </tr>\n",
       "    <tr>\n",
       "      <td>mean</td>\n",
       "      <td>366.382940</td>\n",
       "    </tr>\n",
       "    <tr>\n",
       "      <td>std</td>\n",
       "      <td>200.326314</td>\n",
       "    </tr>\n",
       "    <tr>\n",
       "      <td>min</td>\n",
       "      <td>0.000000</td>\n",
       "    </tr>\n",
       "    <tr>\n",
       "      <td>25%</td>\n",
       "      <td>186.000000</td>\n",
       "    </tr>\n",
       "    <tr>\n",
       "      <td>50%</td>\n",
       "      <td>408.000000</td>\n",
       "    </tr>\n",
       "    <tr>\n",
       "      <td>75%</td>\n",
       "      <td>528.000000</td>\n",
       "    </tr>\n",
       "    <tr>\n",
       "      <td>max</td>\n",
       "      <td>714.000000</td>\n",
       "    </tr>\n",
       "  </tbody>\n",
       "</table>\n",
       "</div>"
      ],
      "text/plain": [
       "                time\n",
       "count  306534.000000\n",
       "mean      366.382940\n",
       "std       200.326314\n",
       "min         0.000000\n",
       "25%       186.000000\n",
       "50%       408.000000\n",
       "75%       528.000000\n",
       "max       714.000000"
      ]
     },
     "execution_count": 12,
     "metadata": {},
     "output_type": "execute_result"
    }
   ],
   "source": [
    "transcript.describe()"
   ]
  },
  {
   "cell_type": "markdown",
   "metadata": {},
   "source": [
    "### clean portfolio data set\n",
    "\n",
    "- create a copy of the original dataframe for further implementation\n",
    "- convert the column 'Channels' into 4 different columns on the basis of different types of channel\n",
    "- rename the column name from 'ID' to 'offer_id'"
   ]
  },
  {
   "cell_type": "code",
   "execution_count": 13,
   "metadata": {},
   "outputs": [],
   "source": [
    "df_portfolio = portfolio.copy()"
   ]
  },
  {
   "cell_type": "code",
   "execution_count": 14,
   "metadata": {},
   "outputs": [],
   "source": [
    "dummy = pd.get_dummies(df_portfolio.channels.apply(pd.Series).stack()).sum(level=0)\n",
    "df_portfolio = pd.concat([df_portfolio, dummy], axis=1)\n",
    "df_portfolio = df_portfolio.drop(columns='channels')"
   ]
  },
  {
   "cell_type": "code",
   "execution_count": 15,
   "metadata": {},
   "outputs": [],
   "source": [
    "df_portfolio = df_portfolio.rename(columns={'id':'offer_id'})"
   ]
  },
  {
   "cell_type": "code",
   "execution_count": 16,
   "metadata": {
    "scrolled": true
   },
   "outputs": [
    {
     "data": {
      "text/html": [
       "<div>\n",
       "<style scoped>\n",
       "    .dataframe tbody tr th:only-of-type {\n",
       "        vertical-align: middle;\n",
       "    }\n",
       "\n",
       "    .dataframe tbody tr th {\n",
       "        vertical-align: top;\n",
       "    }\n",
       "\n",
       "    .dataframe thead th {\n",
       "        text-align: right;\n",
       "    }\n",
       "</style>\n",
       "<table border=\"1\" class=\"dataframe\">\n",
       "  <thead>\n",
       "    <tr style=\"text-align: right;\">\n",
       "      <th></th>\n",
       "      <th>reward</th>\n",
       "      <th>difficulty</th>\n",
       "      <th>duration</th>\n",
       "      <th>offer_type</th>\n",
       "      <th>offer_id</th>\n",
       "      <th>email</th>\n",
       "      <th>mobile</th>\n",
       "      <th>social</th>\n",
       "      <th>web</th>\n",
       "    </tr>\n",
       "  </thead>\n",
       "  <tbody>\n",
       "    <tr>\n",
       "      <td>0</td>\n",
       "      <td>10</td>\n",
       "      <td>10</td>\n",
       "      <td>7</td>\n",
       "      <td>bogo</td>\n",
       "      <td>ae264e3637204a6fb9bb56bc8210ddfd</td>\n",
       "      <td>1</td>\n",
       "      <td>1</td>\n",
       "      <td>1</td>\n",
       "      <td>0</td>\n",
       "    </tr>\n",
       "    <tr>\n",
       "      <td>1</td>\n",
       "      <td>10</td>\n",
       "      <td>10</td>\n",
       "      <td>5</td>\n",
       "      <td>bogo</td>\n",
       "      <td>4d5c57ea9a6940dd891ad53e9dbe8da0</td>\n",
       "      <td>1</td>\n",
       "      <td>1</td>\n",
       "      <td>1</td>\n",
       "      <td>1</td>\n",
       "    </tr>\n",
       "    <tr>\n",
       "      <td>2</td>\n",
       "      <td>0</td>\n",
       "      <td>0</td>\n",
       "      <td>4</td>\n",
       "      <td>informational</td>\n",
       "      <td>3f207df678b143eea3cee63160fa8bed</td>\n",
       "      <td>1</td>\n",
       "      <td>1</td>\n",
       "      <td>0</td>\n",
       "      <td>1</td>\n",
       "    </tr>\n",
       "    <tr>\n",
       "      <td>3</td>\n",
       "      <td>5</td>\n",
       "      <td>5</td>\n",
       "      <td>7</td>\n",
       "      <td>bogo</td>\n",
       "      <td>9b98b8c7a33c4b65b9aebfe6a799e6d9</td>\n",
       "      <td>1</td>\n",
       "      <td>1</td>\n",
       "      <td>0</td>\n",
       "      <td>1</td>\n",
       "    </tr>\n",
       "    <tr>\n",
       "      <td>4</td>\n",
       "      <td>5</td>\n",
       "      <td>20</td>\n",
       "      <td>10</td>\n",
       "      <td>discount</td>\n",
       "      <td>0b1e1539f2cc45b7b9fa7c272da2e1d7</td>\n",
       "      <td>1</td>\n",
       "      <td>0</td>\n",
       "      <td>0</td>\n",
       "      <td>1</td>\n",
       "    </tr>\n",
       "  </tbody>\n",
       "</table>\n",
       "</div>"
      ],
      "text/plain": [
       "   reward  difficulty  duration     offer_type  \\\n",
       "0      10          10         7           bogo   \n",
       "1      10          10         5           bogo   \n",
       "2       0           0         4  informational   \n",
       "3       5           5         7           bogo   \n",
       "4       5          20        10       discount   \n",
       "\n",
       "                           offer_id  email  mobile  social  web  \n",
       "0  ae264e3637204a6fb9bb56bc8210ddfd      1       1       1    0  \n",
       "1  4d5c57ea9a6940dd891ad53e9dbe8da0      1       1       1    1  \n",
       "2  3f207df678b143eea3cee63160fa8bed      1       1       0    1  \n",
       "3  9b98b8c7a33c4b65b9aebfe6a799e6d9      1       1       0    1  \n",
       "4  0b1e1539f2cc45b7b9fa7c272da2e1d7      1       0       0    1  "
      ]
     },
     "execution_count": 16,
     "metadata": {},
     "output_type": "execute_result"
    }
   ],
   "source": [
    "df_portfolio.head()"
   ]
  },
  {
   "cell_type": "markdown",
   "metadata": {},
   "source": [
    "### clean profile data set\n",
    "\n",
    "- convert the datatype of 'became_member_on' column and sort the date into proper format\n",
    "- change the column name from 'ID' to 'customer_id'"
   ]
  },
  {
   "cell_type": "code",
   "execution_count": 17,
   "metadata": {},
   "outputs": [],
   "source": [
    "df_profile = profile.copy()"
   ]
  },
  {
   "cell_type": "code",
   "execution_count": 18,
   "metadata": {},
   "outputs": [],
   "source": [
    "df_profile['became_member_on'] = pd.to_datetime(df_profile['became_member_on'], format='%Y%m%d')\n",
    "df_profile = df_profile.rename(columns={'id':'customer_id'})"
   ]
  },
  {
   "cell_type": "code",
   "execution_count": 19,
   "metadata": {
    "scrolled": true
   },
   "outputs": [
    {
     "data": {
      "text/html": [
       "<div>\n",
       "<style scoped>\n",
       "    .dataframe tbody tr th:only-of-type {\n",
       "        vertical-align: middle;\n",
       "    }\n",
       "\n",
       "    .dataframe tbody tr th {\n",
       "        vertical-align: top;\n",
       "    }\n",
       "\n",
       "    .dataframe thead th {\n",
       "        text-align: right;\n",
       "    }\n",
       "</style>\n",
       "<table border=\"1\" class=\"dataframe\">\n",
       "  <thead>\n",
       "    <tr style=\"text-align: right;\">\n",
       "      <th></th>\n",
       "      <th>gender</th>\n",
       "      <th>age</th>\n",
       "      <th>customer_id</th>\n",
       "      <th>became_member_on</th>\n",
       "      <th>income</th>\n",
       "    </tr>\n",
       "  </thead>\n",
       "  <tbody>\n",
       "    <tr>\n",
       "      <td>0</td>\n",
       "      <td>None</td>\n",
       "      <td>118</td>\n",
       "      <td>68be06ca386d4c31939f3a4f0e3dd783</td>\n",
       "      <td>2017-02-12</td>\n",
       "      <td>NaN</td>\n",
       "    </tr>\n",
       "    <tr>\n",
       "      <td>1</td>\n",
       "      <td>F</td>\n",
       "      <td>55</td>\n",
       "      <td>0610b486422d4921ae7d2bf64640c50b</td>\n",
       "      <td>2017-07-15</td>\n",
       "      <td>112000.0</td>\n",
       "    </tr>\n",
       "    <tr>\n",
       "      <td>2</td>\n",
       "      <td>None</td>\n",
       "      <td>118</td>\n",
       "      <td>38fe809add3b4fcf9315a9694bb96ff5</td>\n",
       "      <td>2018-07-12</td>\n",
       "      <td>NaN</td>\n",
       "    </tr>\n",
       "    <tr>\n",
       "      <td>3</td>\n",
       "      <td>F</td>\n",
       "      <td>75</td>\n",
       "      <td>78afa995795e4d85b5d9ceeca43f5fef</td>\n",
       "      <td>2017-05-09</td>\n",
       "      <td>100000.0</td>\n",
       "    </tr>\n",
       "    <tr>\n",
       "      <td>4</td>\n",
       "      <td>None</td>\n",
       "      <td>118</td>\n",
       "      <td>a03223e636434f42ac4c3df47e8bac43</td>\n",
       "      <td>2017-08-04</td>\n",
       "      <td>NaN</td>\n",
       "    </tr>\n",
       "    <tr>\n",
       "      <td>5</td>\n",
       "      <td>M</td>\n",
       "      <td>68</td>\n",
       "      <td>e2127556f4f64592b11af22de27a7932</td>\n",
       "      <td>2018-04-26</td>\n",
       "      <td>70000.0</td>\n",
       "    </tr>\n",
       "    <tr>\n",
       "      <td>6</td>\n",
       "      <td>None</td>\n",
       "      <td>118</td>\n",
       "      <td>8ec6ce2a7e7949b1bf142def7d0e0586</td>\n",
       "      <td>2017-09-25</td>\n",
       "      <td>NaN</td>\n",
       "    </tr>\n",
       "    <tr>\n",
       "      <td>7</td>\n",
       "      <td>None</td>\n",
       "      <td>118</td>\n",
       "      <td>68617ca6246f4fbc85e91a2a49552598</td>\n",
       "      <td>2017-10-02</td>\n",
       "      <td>NaN</td>\n",
       "    </tr>\n",
       "    <tr>\n",
       "      <td>8</td>\n",
       "      <td>M</td>\n",
       "      <td>65</td>\n",
       "      <td>389bc3fa690240e798340f5a15918d5c</td>\n",
       "      <td>2018-02-09</td>\n",
       "      <td>53000.0</td>\n",
       "    </tr>\n",
       "    <tr>\n",
       "      <td>9</td>\n",
       "      <td>None</td>\n",
       "      <td>118</td>\n",
       "      <td>8974fc5686fe429db53ddde067b88302</td>\n",
       "      <td>2016-11-22</td>\n",
       "      <td>NaN</td>\n",
       "    </tr>\n",
       "  </tbody>\n",
       "</table>\n",
       "</div>"
      ],
      "text/plain": [
       "  gender  age                       customer_id became_member_on    income\n",
       "0   None  118  68be06ca386d4c31939f3a4f0e3dd783       2017-02-12       NaN\n",
       "1      F   55  0610b486422d4921ae7d2bf64640c50b       2017-07-15  112000.0\n",
       "2   None  118  38fe809add3b4fcf9315a9694bb96ff5       2018-07-12       NaN\n",
       "3      F   75  78afa995795e4d85b5d9ceeca43f5fef       2017-05-09  100000.0\n",
       "4   None  118  a03223e636434f42ac4c3df47e8bac43       2017-08-04       NaN\n",
       "5      M   68  e2127556f4f64592b11af22de27a7932       2018-04-26   70000.0\n",
       "6   None  118  8ec6ce2a7e7949b1bf142def7d0e0586       2017-09-25       NaN\n",
       "7   None  118  68617ca6246f4fbc85e91a2a49552598       2017-10-02       NaN\n",
       "8      M   65  389bc3fa690240e798340f5a15918d5c       2018-02-09   53000.0\n",
       "9   None  118  8974fc5686fe429db53ddde067b88302       2016-11-22       NaN"
      ]
     },
     "execution_count": 19,
     "metadata": {},
     "output_type": "execute_result"
    }
   ],
   "source": [
    "df_profile.head(10)"
   ]
  },
  {
   "cell_type": "markdown",
   "metadata": {},
   "source": [
    "### clean transcript data set\n",
    "\n",
    "- change the column name from 'person' to 'customer_id'\n",
    "- convert the column 'Event' into 4 different columns on the basis of different types of event\n",
    "- convert the column 'Values' into 2 different column"
   ]
  },
  {
   "cell_type": "code",
   "execution_count": 20,
   "metadata": {},
   "outputs": [],
   "source": [
    "df_transcript = transcript.copy()\n",
    "df_transcript = df_transcript.rename(columns={'person':'customer_id'})\n",
    "df_transcript['event'] = df_transcript['event'].str.replace(' ', '-')"
   ]
  },
  {
   "cell_type": "code",
   "execution_count": 21,
   "metadata": {},
   "outputs": [],
   "source": [
    "dummy = pd.get_dummies(df_transcript['event'])\n",
    "df_transcript = pd.concat([df_transcript, dummy], axis=1)"
   ]
  },
  {
   "cell_type": "code",
   "execution_count": 22,
   "metadata": {},
   "outputs": [],
   "source": [
    "df_transcript['offer_id'] = [[*i.values()][0]if [*i.keys()][0] in ['offer id','offer_id'] else None for i in df_transcript.value]\n",
    "df_transcript['amount'] = [np.round([*i.values()][0], decimals=2)if [*i.keys()][0] == 'amount' else None for i in df_transcript.value]\n",
    "df_transcript = df_transcript.drop(columns='value')"
   ]
  },
  {
   "cell_type": "code",
   "execution_count": 23,
   "metadata": {
    "scrolled": true
   },
   "outputs": [
    {
     "data": {
      "text/html": [
       "<div>\n",
       "<style scoped>\n",
       "    .dataframe tbody tr th:only-of-type {\n",
       "        vertical-align: middle;\n",
       "    }\n",
       "\n",
       "    .dataframe tbody tr th {\n",
       "        vertical-align: top;\n",
       "    }\n",
       "\n",
       "    .dataframe thead th {\n",
       "        text-align: right;\n",
       "    }\n",
       "</style>\n",
       "<table border=\"1\" class=\"dataframe\">\n",
       "  <thead>\n",
       "    <tr style=\"text-align: right;\">\n",
       "      <th></th>\n",
       "      <th>customer_id</th>\n",
       "      <th>event</th>\n",
       "      <th>time</th>\n",
       "      <th>offer-completed</th>\n",
       "      <th>offer-received</th>\n",
       "      <th>offer-viewed</th>\n",
       "      <th>transaction</th>\n",
       "      <th>offer_id</th>\n",
       "      <th>amount</th>\n",
       "    </tr>\n",
       "  </thead>\n",
       "  <tbody>\n",
       "    <tr>\n",
       "      <td>0</td>\n",
       "      <td>78afa995795e4d85b5d9ceeca43f5fef</td>\n",
       "      <td>offer-received</td>\n",
       "      <td>0</td>\n",
       "      <td>0</td>\n",
       "      <td>1</td>\n",
       "      <td>0</td>\n",
       "      <td>0</td>\n",
       "      <td>9b98b8c7a33c4b65b9aebfe6a799e6d9</td>\n",
       "      <td>NaN</td>\n",
       "    </tr>\n",
       "    <tr>\n",
       "      <td>1</td>\n",
       "      <td>a03223e636434f42ac4c3df47e8bac43</td>\n",
       "      <td>offer-received</td>\n",
       "      <td>0</td>\n",
       "      <td>0</td>\n",
       "      <td>1</td>\n",
       "      <td>0</td>\n",
       "      <td>0</td>\n",
       "      <td>0b1e1539f2cc45b7b9fa7c272da2e1d7</td>\n",
       "      <td>NaN</td>\n",
       "    </tr>\n",
       "    <tr>\n",
       "      <td>2</td>\n",
       "      <td>e2127556f4f64592b11af22de27a7932</td>\n",
       "      <td>offer-received</td>\n",
       "      <td>0</td>\n",
       "      <td>0</td>\n",
       "      <td>1</td>\n",
       "      <td>0</td>\n",
       "      <td>0</td>\n",
       "      <td>2906b810c7d4411798c6938adc9daaa5</td>\n",
       "      <td>NaN</td>\n",
       "    </tr>\n",
       "    <tr>\n",
       "      <td>3</td>\n",
       "      <td>8ec6ce2a7e7949b1bf142def7d0e0586</td>\n",
       "      <td>offer-received</td>\n",
       "      <td>0</td>\n",
       "      <td>0</td>\n",
       "      <td>1</td>\n",
       "      <td>0</td>\n",
       "      <td>0</td>\n",
       "      <td>fafdcd668e3743c1bb461111dcafc2a4</td>\n",
       "      <td>NaN</td>\n",
       "    </tr>\n",
       "    <tr>\n",
       "      <td>4</td>\n",
       "      <td>68617ca6246f4fbc85e91a2a49552598</td>\n",
       "      <td>offer-received</td>\n",
       "      <td>0</td>\n",
       "      <td>0</td>\n",
       "      <td>1</td>\n",
       "      <td>0</td>\n",
       "      <td>0</td>\n",
       "      <td>4d5c57ea9a6940dd891ad53e9dbe8da0</td>\n",
       "      <td>NaN</td>\n",
       "    </tr>\n",
       "    <tr>\n",
       "      <td>5</td>\n",
       "      <td>389bc3fa690240e798340f5a15918d5c</td>\n",
       "      <td>offer-received</td>\n",
       "      <td>0</td>\n",
       "      <td>0</td>\n",
       "      <td>1</td>\n",
       "      <td>0</td>\n",
       "      <td>0</td>\n",
       "      <td>f19421c1d4aa40978ebb69ca19b0e20d</td>\n",
       "      <td>NaN</td>\n",
       "    </tr>\n",
       "    <tr>\n",
       "      <td>6</td>\n",
       "      <td>c4863c7985cf408faee930f111475da3</td>\n",
       "      <td>offer-received</td>\n",
       "      <td>0</td>\n",
       "      <td>0</td>\n",
       "      <td>1</td>\n",
       "      <td>0</td>\n",
       "      <td>0</td>\n",
       "      <td>2298d6c36e964ae4a3e7e9706d1fb8c2</td>\n",
       "      <td>NaN</td>\n",
       "    </tr>\n",
       "    <tr>\n",
       "      <td>7</td>\n",
       "      <td>2eeac8d8feae4a8cad5a6af0499a211d</td>\n",
       "      <td>offer-received</td>\n",
       "      <td>0</td>\n",
       "      <td>0</td>\n",
       "      <td>1</td>\n",
       "      <td>0</td>\n",
       "      <td>0</td>\n",
       "      <td>3f207df678b143eea3cee63160fa8bed</td>\n",
       "      <td>NaN</td>\n",
       "    </tr>\n",
       "    <tr>\n",
       "      <td>8</td>\n",
       "      <td>aa4862eba776480b8bb9c68455b8c2e1</td>\n",
       "      <td>offer-received</td>\n",
       "      <td>0</td>\n",
       "      <td>0</td>\n",
       "      <td>1</td>\n",
       "      <td>0</td>\n",
       "      <td>0</td>\n",
       "      <td>0b1e1539f2cc45b7b9fa7c272da2e1d7</td>\n",
       "      <td>NaN</td>\n",
       "    </tr>\n",
       "    <tr>\n",
       "      <td>9</td>\n",
       "      <td>31dda685af34476cad5bc968bdb01c53</td>\n",
       "      <td>offer-received</td>\n",
       "      <td>0</td>\n",
       "      <td>0</td>\n",
       "      <td>1</td>\n",
       "      <td>0</td>\n",
       "      <td>0</td>\n",
       "      <td>0b1e1539f2cc45b7b9fa7c272da2e1d7</td>\n",
       "      <td>NaN</td>\n",
       "    </tr>\n",
       "    <tr>\n",
       "      <td>10</td>\n",
       "      <td>744d603ef08c4f33af5a61c8c7628d1c</td>\n",
       "      <td>offer-received</td>\n",
       "      <td>0</td>\n",
       "      <td>0</td>\n",
       "      <td>1</td>\n",
       "      <td>0</td>\n",
       "      <td>0</td>\n",
       "      <td>0b1e1539f2cc45b7b9fa7c272da2e1d7</td>\n",
       "      <td>NaN</td>\n",
       "    </tr>\n",
       "    <tr>\n",
       "      <td>11</td>\n",
       "      <td>3d02345581554e81b7b289ab5e288078</td>\n",
       "      <td>offer-received</td>\n",
       "      <td>0</td>\n",
       "      <td>0</td>\n",
       "      <td>1</td>\n",
       "      <td>0</td>\n",
       "      <td>0</td>\n",
       "      <td>0b1e1539f2cc45b7b9fa7c272da2e1d7</td>\n",
       "      <td>NaN</td>\n",
       "    </tr>\n",
       "    <tr>\n",
       "      <td>12</td>\n",
       "      <td>4b0da7e80e5945209a1fdddfe813dbe0</td>\n",
       "      <td>offer-received</td>\n",
       "      <td>0</td>\n",
       "      <td>0</td>\n",
       "      <td>1</td>\n",
       "      <td>0</td>\n",
       "      <td>0</td>\n",
       "      <td>ae264e3637204a6fb9bb56bc8210ddfd</td>\n",
       "      <td>NaN</td>\n",
       "    </tr>\n",
       "    <tr>\n",
       "      <td>13</td>\n",
       "      <td>c27e0d6ab72c455a8bb66d980963de60</td>\n",
       "      <td>offer-received</td>\n",
       "      <td>0</td>\n",
       "      <td>0</td>\n",
       "      <td>1</td>\n",
       "      <td>0</td>\n",
       "      <td>0</td>\n",
       "      <td>3f207df678b143eea3cee63160fa8bed</td>\n",
       "      <td>NaN</td>\n",
       "    </tr>\n",
       "    <tr>\n",
       "      <td>14</td>\n",
       "      <td>d53717f5400c4e84affdaeda9dd926b3</td>\n",
       "      <td>offer-received</td>\n",
       "      <td>0</td>\n",
       "      <td>0</td>\n",
       "      <td>1</td>\n",
       "      <td>0</td>\n",
       "      <td>0</td>\n",
       "      <td>0b1e1539f2cc45b7b9fa7c272da2e1d7</td>\n",
       "      <td>NaN</td>\n",
       "    </tr>\n",
       "    <tr>\n",
       "      <td>15</td>\n",
       "      <td>f806632c011441378d4646567f357a21</td>\n",
       "      <td>offer-received</td>\n",
       "      <td>0</td>\n",
       "      <td>0</td>\n",
       "      <td>1</td>\n",
       "      <td>0</td>\n",
       "      <td>0</td>\n",
       "      <td>fafdcd668e3743c1bb461111dcafc2a4</td>\n",
       "      <td>NaN</td>\n",
       "    </tr>\n",
       "    <tr>\n",
       "      <td>16</td>\n",
       "      <td>d058f73bf8674a26a95227db098147b1</td>\n",
       "      <td>offer-received</td>\n",
       "      <td>0</td>\n",
       "      <td>0</td>\n",
       "      <td>1</td>\n",
       "      <td>0</td>\n",
       "      <td>0</td>\n",
       "      <td>0b1e1539f2cc45b7b9fa7c272da2e1d7</td>\n",
       "      <td>NaN</td>\n",
       "    </tr>\n",
       "    <tr>\n",
       "      <td>17</td>\n",
       "      <td>65aba5c617294649aeb624da249e1ee5</td>\n",
       "      <td>offer-received</td>\n",
       "      <td>0</td>\n",
       "      <td>0</td>\n",
       "      <td>1</td>\n",
       "      <td>0</td>\n",
       "      <td>0</td>\n",
       "      <td>2906b810c7d4411798c6938adc9daaa5</td>\n",
       "      <td>NaN</td>\n",
       "    </tr>\n",
       "    <tr>\n",
       "      <td>18</td>\n",
       "      <td>ebe7ef46ea6f4963a7dd49f501b26779</td>\n",
       "      <td>offer-received</td>\n",
       "      <td>0</td>\n",
       "      <td>0</td>\n",
       "      <td>1</td>\n",
       "      <td>0</td>\n",
       "      <td>0</td>\n",
       "      <td>9b98b8c7a33c4b65b9aebfe6a799e6d9</td>\n",
       "      <td>NaN</td>\n",
       "    </tr>\n",
       "    <tr>\n",
       "      <td>19</td>\n",
       "      <td>1e9420836d554513ab90eba98552d0a9</td>\n",
       "      <td>offer-received</td>\n",
       "      <td>0</td>\n",
       "      <td>0</td>\n",
       "      <td>1</td>\n",
       "      <td>0</td>\n",
       "      <td>0</td>\n",
       "      <td>ae264e3637204a6fb9bb56bc8210ddfd</td>\n",
       "      <td>NaN</td>\n",
       "    </tr>\n",
       "  </tbody>\n",
       "</table>\n",
       "</div>"
      ],
      "text/plain": [
       "                         customer_id           event  time  offer-completed  \\\n",
       "0   78afa995795e4d85b5d9ceeca43f5fef  offer-received     0                0   \n",
       "1   a03223e636434f42ac4c3df47e8bac43  offer-received     0                0   \n",
       "2   e2127556f4f64592b11af22de27a7932  offer-received     0                0   \n",
       "3   8ec6ce2a7e7949b1bf142def7d0e0586  offer-received     0                0   \n",
       "4   68617ca6246f4fbc85e91a2a49552598  offer-received     0                0   \n",
       "5   389bc3fa690240e798340f5a15918d5c  offer-received     0                0   \n",
       "6   c4863c7985cf408faee930f111475da3  offer-received     0                0   \n",
       "7   2eeac8d8feae4a8cad5a6af0499a211d  offer-received     0                0   \n",
       "8   aa4862eba776480b8bb9c68455b8c2e1  offer-received     0                0   \n",
       "9   31dda685af34476cad5bc968bdb01c53  offer-received     0                0   \n",
       "10  744d603ef08c4f33af5a61c8c7628d1c  offer-received     0                0   \n",
       "11  3d02345581554e81b7b289ab5e288078  offer-received     0                0   \n",
       "12  4b0da7e80e5945209a1fdddfe813dbe0  offer-received     0                0   \n",
       "13  c27e0d6ab72c455a8bb66d980963de60  offer-received     0                0   \n",
       "14  d53717f5400c4e84affdaeda9dd926b3  offer-received     0                0   \n",
       "15  f806632c011441378d4646567f357a21  offer-received     0                0   \n",
       "16  d058f73bf8674a26a95227db098147b1  offer-received     0                0   \n",
       "17  65aba5c617294649aeb624da249e1ee5  offer-received     0                0   \n",
       "18  ebe7ef46ea6f4963a7dd49f501b26779  offer-received     0                0   \n",
       "19  1e9420836d554513ab90eba98552d0a9  offer-received     0                0   \n",
       "\n",
       "    offer-received  offer-viewed  transaction  \\\n",
       "0                1             0            0   \n",
       "1                1             0            0   \n",
       "2                1             0            0   \n",
       "3                1             0            0   \n",
       "4                1             0            0   \n",
       "5                1             0            0   \n",
       "6                1             0            0   \n",
       "7                1             0            0   \n",
       "8                1             0            0   \n",
       "9                1             0            0   \n",
       "10               1             0            0   \n",
       "11               1             0            0   \n",
       "12               1             0            0   \n",
       "13               1             0            0   \n",
       "14               1             0            0   \n",
       "15               1             0            0   \n",
       "16               1             0            0   \n",
       "17               1             0            0   \n",
       "18               1             0            0   \n",
       "19               1             0            0   \n",
       "\n",
       "                            offer_id  amount  \n",
       "0   9b98b8c7a33c4b65b9aebfe6a799e6d9     NaN  \n",
       "1   0b1e1539f2cc45b7b9fa7c272da2e1d7     NaN  \n",
       "2   2906b810c7d4411798c6938adc9daaa5     NaN  \n",
       "3   fafdcd668e3743c1bb461111dcafc2a4     NaN  \n",
       "4   4d5c57ea9a6940dd891ad53e9dbe8da0     NaN  \n",
       "5   f19421c1d4aa40978ebb69ca19b0e20d     NaN  \n",
       "6   2298d6c36e964ae4a3e7e9706d1fb8c2     NaN  \n",
       "7   3f207df678b143eea3cee63160fa8bed     NaN  \n",
       "8   0b1e1539f2cc45b7b9fa7c272da2e1d7     NaN  \n",
       "9   0b1e1539f2cc45b7b9fa7c272da2e1d7     NaN  \n",
       "10  0b1e1539f2cc45b7b9fa7c272da2e1d7     NaN  \n",
       "11  0b1e1539f2cc45b7b9fa7c272da2e1d7     NaN  \n",
       "12  ae264e3637204a6fb9bb56bc8210ddfd     NaN  \n",
       "13  3f207df678b143eea3cee63160fa8bed     NaN  \n",
       "14  0b1e1539f2cc45b7b9fa7c272da2e1d7     NaN  \n",
       "15  fafdcd668e3743c1bb461111dcafc2a4     NaN  \n",
       "16  0b1e1539f2cc45b7b9fa7c272da2e1d7     NaN  \n",
       "17  2906b810c7d4411798c6938adc9daaa5     NaN  \n",
       "18  9b98b8c7a33c4b65b9aebfe6a799e6d9     NaN  \n",
       "19  ae264e3637204a6fb9bb56bc8210ddfd     NaN  "
      ]
     },
     "execution_count": 23,
     "metadata": {},
     "output_type": "execute_result"
    }
   ],
   "source": [
    "df_transcript.head(20)"
   ]
  },
  {
   "cell_type": "markdown",
   "metadata": {},
   "source": [
    "#### bringing it all together\n",
    "\n",
    "create one df to make better analytics"
   ]
  },
  {
   "cell_type": "code",
   "execution_count": 24,
   "metadata": {},
   "outputs": [],
   "source": [
    "df = pd.merge(df_profile, df_transcript, on='customer_id')"
   ]
  },
  {
   "cell_type": "code",
   "execution_count": 25,
   "metadata": {
    "scrolled": true
   },
   "outputs": [
    {
     "data": {
      "text/html": [
       "<div>\n",
       "<style scoped>\n",
       "    .dataframe tbody tr th:only-of-type {\n",
       "        vertical-align: middle;\n",
       "    }\n",
       "\n",
       "    .dataframe tbody tr th {\n",
       "        vertical-align: top;\n",
       "    }\n",
       "\n",
       "    .dataframe thead th {\n",
       "        text-align: right;\n",
       "    }\n",
       "</style>\n",
       "<table border=\"1\" class=\"dataframe\">\n",
       "  <thead>\n",
       "    <tr style=\"text-align: right;\">\n",
       "      <th></th>\n",
       "      <th>gender</th>\n",
       "      <th>age</th>\n",
       "      <th>customer_id</th>\n",
       "      <th>became_member_on</th>\n",
       "      <th>income</th>\n",
       "      <th>event</th>\n",
       "      <th>time</th>\n",
       "      <th>offer-completed</th>\n",
       "      <th>offer-received</th>\n",
       "      <th>offer-viewed</th>\n",
       "      <th>transaction</th>\n",
       "      <th>offer_id</th>\n",
       "      <th>amount</th>\n",
       "    </tr>\n",
       "  </thead>\n",
       "  <tbody>\n",
       "    <tr>\n",
       "      <td>0</td>\n",
       "      <td>None</td>\n",
       "      <td>118</td>\n",
       "      <td>68be06ca386d4c31939f3a4f0e3dd783</td>\n",
       "      <td>2017-02-12</td>\n",
       "      <td>NaN</td>\n",
       "      <td>offer-received</td>\n",
       "      <td>168</td>\n",
       "      <td>0</td>\n",
       "      <td>1</td>\n",
       "      <td>0</td>\n",
       "      <td>0</td>\n",
       "      <td>2906b810c7d4411798c6938adc9daaa5</td>\n",
       "      <td>NaN</td>\n",
       "    </tr>\n",
       "    <tr>\n",
       "      <td>1</td>\n",
       "      <td>None</td>\n",
       "      <td>118</td>\n",
       "      <td>68be06ca386d4c31939f3a4f0e3dd783</td>\n",
       "      <td>2017-02-12</td>\n",
       "      <td>NaN</td>\n",
       "      <td>offer-viewed</td>\n",
       "      <td>216</td>\n",
       "      <td>0</td>\n",
       "      <td>0</td>\n",
       "      <td>1</td>\n",
       "      <td>0</td>\n",
       "      <td>2906b810c7d4411798c6938adc9daaa5</td>\n",
       "      <td>NaN</td>\n",
       "    </tr>\n",
       "    <tr>\n",
       "      <td>2</td>\n",
       "      <td>None</td>\n",
       "      <td>118</td>\n",
       "      <td>68be06ca386d4c31939f3a4f0e3dd783</td>\n",
       "      <td>2017-02-12</td>\n",
       "      <td>NaN</td>\n",
       "      <td>offer-received</td>\n",
       "      <td>336</td>\n",
       "      <td>0</td>\n",
       "      <td>1</td>\n",
       "      <td>0</td>\n",
       "      <td>0</td>\n",
       "      <td>0b1e1539f2cc45b7b9fa7c272da2e1d7</td>\n",
       "      <td>NaN</td>\n",
       "    </tr>\n",
       "    <tr>\n",
       "      <td>3</td>\n",
       "      <td>None</td>\n",
       "      <td>118</td>\n",
       "      <td>68be06ca386d4c31939f3a4f0e3dd783</td>\n",
       "      <td>2017-02-12</td>\n",
       "      <td>NaN</td>\n",
       "      <td>offer-viewed</td>\n",
       "      <td>348</td>\n",
       "      <td>0</td>\n",
       "      <td>0</td>\n",
       "      <td>1</td>\n",
       "      <td>0</td>\n",
       "      <td>0b1e1539f2cc45b7b9fa7c272da2e1d7</td>\n",
       "      <td>NaN</td>\n",
       "    </tr>\n",
       "    <tr>\n",
       "      <td>4</td>\n",
       "      <td>None</td>\n",
       "      <td>118</td>\n",
       "      <td>68be06ca386d4c31939f3a4f0e3dd783</td>\n",
       "      <td>2017-02-12</td>\n",
       "      <td>NaN</td>\n",
       "      <td>transaction</td>\n",
       "      <td>360</td>\n",
       "      <td>0</td>\n",
       "      <td>0</td>\n",
       "      <td>0</td>\n",
       "      <td>1</td>\n",
       "      <td>None</td>\n",
       "      <td>0.35</td>\n",
       "    </tr>\n",
       "  </tbody>\n",
       "</table>\n",
       "</div>"
      ],
      "text/plain": [
       "  gender  age                       customer_id became_member_on  income  \\\n",
       "0   None  118  68be06ca386d4c31939f3a4f0e3dd783       2017-02-12     NaN   \n",
       "1   None  118  68be06ca386d4c31939f3a4f0e3dd783       2017-02-12     NaN   \n",
       "2   None  118  68be06ca386d4c31939f3a4f0e3dd783       2017-02-12     NaN   \n",
       "3   None  118  68be06ca386d4c31939f3a4f0e3dd783       2017-02-12     NaN   \n",
       "4   None  118  68be06ca386d4c31939f3a4f0e3dd783       2017-02-12     NaN   \n",
       "\n",
       "            event  time  offer-completed  offer-received  offer-viewed  \\\n",
       "0  offer-received   168                0               1             0   \n",
       "1    offer-viewed   216                0               0             1   \n",
       "2  offer-received   336                0               1             0   \n",
       "3    offer-viewed   348                0               0             1   \n",
       "4     transaction   360                0               0             0   \n",
       "\n",
       "   transaction                          offer_id  amount  \n",
       "0            0  2906b810c7d4411798c6938adc9daaa5     NaN  \n",
       "1            0  2906b810c7d4411798c6938adc9daaa5     NaN  \n",
       "2            0  0b1e1539f2cc45b7b9fa7c272da2e1d7     NaN  \n",
       "3            0  0b1e1539f2cc45b7b9fa7c272da2e1d7     NaN  \n",
       "4            1                              None    0.35  "
      ]
     },
     "execution_count": 25,
     "metadata": {},
     "output_type": "execute_result"
    }
   ],
   "source": [
    "df.head()"
   ]
  },
  {
   "cell_type": "code",
   "execution_count": 26,
   "metadata": {},
   "outputs": [],
   "source": [
    "df = pd.merge(df, df_portfolio, on='offer_id', how='left')"
   ]
  },
  {
   "cell_type": "code",
   "execution_count": 27,
   "metadata": {},
   "outputs": [
    {
     "data": {
      "text/html": [
       "<div>\n",
       "<style scoped>\n",
       "    .dataframe tbody tr th:only-of-type {\n",
       "        vertical-align: middle;\n",
       "    }\n",
       "\n",
       "    .dataframe tbody tr th {\n",
       "        vertical-align: top;\n",
       "    }\n",
       "\n",
       "    .dataframe thead th {\n",
       "        text-align: right;\n",
       "    }\n",
       "</style>\n",
       "<table border=\"1\" class=\"dataframe\">\n",
       "  <thead>\n",
       "    <tr style=\"text-align: right;\">\n",
       "      <th></th>\n",
       "      <th>gender</th>\n",
       "      <th>age</th>\n",
       "      <th>customer_id</th>\n",
       "      <th>became_member_on</th>\n",
       "      <th>income</th>\n",
       "      <th>event</th>\n",
       "      <th>time</th>\n",
       "      <th>offer-completed</th>\n",
       "      <th>offer-received</th>\n",
       "      <th>offer-viewed</th>\n",
       "      <th>...</th>\n",
       "      <th>offer_id</th>\n",
       "      <th>amount</th>\n",
       "      <th>reward</th>\n",
       "      <th>difficulty</th>\n",
       "      <th>duration</th>\n",
       "      <th>offer_type</th>\n",
       "      <th>email</th>\n",
       "      <th>mobile</th>\n",
       "      <th>social</th>\n",
       "      <th>web</th>\n",
       "    </tr>\n",
       "  </thead>\n",
       "  <tbody>\n",
       "    <tr>\n",
       "      <td>0</td>\n",
       "      <td>None</td>\n",
       "      <td>118</td>\n",
       "      <td>68be06ca386d4c31939f3a4f0e3dd783</td>\n",
       "      <td>2017-02-12</td>\n",
       "      <td>NaN</td>\n",
       "      <td>offer-received</td>\n",
       "      <td>168</td>\n",
       "      <td>0</td>\n",
       "      <td>1</td>\n",
       "      <td>0</td>\n",
       "      <td>...</td>\n",
       "      <td>2906b810c7d4411798c6938adc9daaa5</td>\n",
       "      <td>NaN</td>\n",
       "      <td>2.0</td>\n",
       "      <td>10.0</td>\n",
       "      <td>7.0</td>\n",
       "      <td>discount</td>\n",
       "      <td>1.0</td>\n",
       "      <td>1.0</td>\n",
       "      <td>0.0</td>\n",
       "      <td>1.0</td>\n",
       "    </tr>\n",
       "    <tr>\n",
       "      <td>1</td>\n",
       "      <td>None</td>\n",
       "      <td>118</td>\n",
       "      <td>68be06ca386d4c31939f3a4f0e3dd783</td>\n",
       "      <td>2017-02-12</td>\n",
       "      <td>NaN</td>\n",
       "      <td>offer-viewed</td>\n",
       "      <td>216</td>\n",
       "      <td>0</td>\n",
       "      <td>0</td>\n",
       "      <td>1</td>\n",
       "      <td>...</td>\n",
       "      <td>2906b810c7d4411798c6938adc9daaa5</td>\n",
       "      <td>NaN</td>\n",
       "      <td>2.0</td>\n",
       "      <td>10.0</td>\n",
       "      <td>7.0</td>\n",
       "      <td>discount</td>\n",
       "      <td>1.0</td>\n",
       "      <td>1.0</td>\n",
       "      <td>0.0</td>\n",
       "      <td>1.0</td>\n",
       "    </tr>\n",
       "    <tr>\n",
       "      <td>2</td>\n",
       "      <td>None</td>\n",
       "      <td>118</td>\n",
       "      <td>68be06ca386d4c31939f3a4f0e3dd783</td>\n",
       "      <td>2017-02-12</td>\n",
       "      <td>NaN</td>\n",
       "      <td>offer-received</td>\n",
       "      <td>336</td>\n",
       "      <td>0</td>\n",
       "      <td>1</td>\n",
       "      <td>0</td>\n",
       "      <td>...</td>\n",
       "      <td>0b1e1539f2cc45b7b9fa7c272da2e1d7</td>\n",
       "      <td>NaN</td>\n",
       "      <td>5.0</td>\n",
       "      <td>20.0</td>\n",
       "      <td>10.0</td>\n",
       "      <td>discount</td>\n",
       "      <td>1.0</td>\n",
       "      <td>0.0</td>\n",
       "      <td>0.0</td>\n",
       "      <td>1.0</td>\n",
       "    </tr>\n",
       "    <tr>\n",
       "      <td>3</td>\n",
       "      <td>None</td>\n",
       "      <td>118</td>\n",
       "      <td>68be06ca386d4c31939f3a4f0e3dd783</td>\n",
       "      <td>2017-02-12</td>\n",
       "      <td>NaN</td>\n",
       "      <td>offer-viewed</td>\n",
       "      <td>348</td>\n",
       "      <td>0</td>\n",
       "      <td>0</td>\n",
       "      <td>1</td>\n",
       "      <td>...</td>\n",
       "      <td>0b1e1539f2cc45b7b9fa7c272da2e1d7</td>\n",
       "      <td>NaN</td>\n",
       "      <td>5.0</td>\n",
       "      <td>20.0</td>\n",
       "      <td>10.0</td>\n",
       "      <td>discount</td>\n",
       "      <td>1.0</td>\n",
       "      <td>0.0</td>\n",
       "      <td>0.0</td>\n",
       "      <td>1.0</td>\n",
       "    </tr>\n",
       "    <tr>\n",
       "      <td>4</td>\n",
       "      <td>None</td>\n",
       "      <td>118</td>\n",
       "      <td>68be06ca386d4c31939f3a4f0e3dd783</td>\n",
       "      <td>2017-02-12</td>\n",
       "      <td>NaN</td>\n",
       "      <td>transaction</td>\n",
       "      <td>360</td>\n",
       "      <td>0</td>\n",
       "      <td>0</td>\n",
       "      <td>0</td>\n",
       "      <td>...</td>\n",
       "      <td>None</td>\n",
       "      <td>0.35</td>\n",
       "      <td>NaN</td>\n",
       "      <td>NaN</td>\n",
       "      <td>NaN</td>\n",
       "      <td>NaN</td>\n",
       "      <td>NaN</td>\n",
       "      <td>NaN</td>\n",
       "      <td>NaN</td>\n",
       "      <td>NaN</td>\n",
       "    </tr>\n",
       "  </tbody>\n",
       "</table>\n",
       "<p>5 rows × 21 columns</p>\n",
       "</div>"
      ],
      "text/plain": [
       "  gender  age                       customer_id became_member_on  income  \\\n",
       "0   None  118  68be06ca386d4c31939f3a4f0e3dd783       2017-02-12     NaN   \n",
       "1   None  118  68be06ca386d4c31939f3a4f0e3dd783       2017-02-12     NaN   \n",
       "2   None  118  68be06ca386d4c31939f3a4f0e3dd783       2017-02-12     NaN   \n",
       "3   None  118  68be06ca386d4c31939f3a4f0e3dd783       2017-02-12     NaN   \n",
       "4   None  118  68be06ca386d4c31939f3a4f0e3dd783       2017-02-12     NaN   \n",
       "\n",
       "            event  time  offer-completed  offer-received  offer-viewed  ...  \\\n",
       "0  offer-received   168                0               1             0  ...   \n",
       "1    offer-viewed   216                0               0             1  ...   \n",
       "2  offer-received   336                0               1             0  ...   \n",
       "3    offer-viewed   348                0               0             1  ...   \n",
       "4     transaction   360                0               0             0  ...   \n",
       "\n",
       "                           offer_id amount  reward  difficulty  duration  \\\n",
       "0  2906b810c7d4411798c6938adc9daaa5    NaN     2.0        10.0       7.0   \n",
       "1  2906b810c7d4411798c6938adc9daaa5    NaN     2.0        10.0       7.0   \n",
       "2  0b1e1539f2cc45b7b9fa7c272da2e1d7    NaN     5.0        20.0      10.0   \n",
       "3  0b1e1539f2cc45b7b9fa7c272da2e1d7    NaN     5.0        20.0      10.0   \n",
       "4                              None   0.35     NaN         NaN       NaN   \n",
       "\n",
       "   offer_type email  mobile  social  web  \n",
       "0    discount   1.0     1.0     0.0  1.0  \n",
       "1    discount   1.0     1.0     0.0  1.0  \n",
       "2    discount   1.0     0.0     0.0  1.0  \n",
       "3    discount   1.0     0.0     0.0  1.0  \n",
       "4         NaN   NaN     NaN     NaN  NaN  \n",
       "\n",
       "[5 rows x 21 columns]"
      ]
     },
     "execution_count": 27,
     "metadata": {},
     "output_type": "execute_result"
    }
   ],
   "source": [
    "df.head()"
   ]
  },
  {
   "cell_type": "markdown",
   "metadata": {},
   "source": [
    "## Data Exploration\n",
    "### Getting to know the data"
   ]
  },
  {
   "cell_type": "code",
   "execution_count": 28,
   "metadata": {},
   "outputs": [
    {
     "data": {
      "text/plain": [
       "(306534, 21)"
      ]
     },
     "execution_count": 28,
     "metadata": {},
     "output_type": "execute_result"
    }
   ],
   "source": [
    "df.shape"
   ]
  },
  {
   "cell_type": "code",
   "execution_count": 29,
   "metadata": {},
   "outputs": [
    {
     "data": {
      "text/plain": [
       "M    155690\n",
       "F    113101\n",
       "O      3971\n",
       "Name: gender, dtype: int64"
      ]
     },
     "execution_count": 29,
     "metadata": {},
     "output_type": "execute_result"
    }
   ],
   "source": [
    "df['gender'].value_counts()"
   ]
  },
  {
   "cell_type": "code",
   "execution_count": 30,
   "metadata": {},
   "outputs": [
    {
     "data": {
      "image/png": "[encoded data removed]",
      "text/plain": [
       "<Figure size 432x288 with 1 Axes>"
      ]
     },
     "metadata": {
      "needs_background": "light"
     },
     "output_type": "display_data"
    }
   ],
   "source": [
    "df['age'].hist();"
   ]
  },
  {
   "cell_type": "markdown",
   "metadata": {},
   "source": [
    "--> Seems that there could a potential error in the data as more than 30.000 records older than 110 in the data set seems unrealistic."
   ]
  },
  {
   "cell_type": "code",
   "execution_count": 31,
   "metadata": {},
   "outputs": [
    {
     "data": {
      "text/plain": [
       "17000"
      ]
     },
     "execution_count": 31,
     "metadata": {},
     "output_type": "execute_result"
    }
   ],
   "source": [
    "df['customer_id'].nunique()"
   ]
  },
  {
   "cell_type": "code",
   "execution_count": 32,
   "metadata": {},
   "outputs": [
    {
     "data": {
      "text/plain": [
       "33772"
      ]
     },
     "execution_count": 32,
     "metadata": {},
     "output_type": "execute_result"
    }
   ],
   "source": [
    "df[df['age']>=110].age.count()"
   ]
  },
  {
   "cell_type": "code",
   "execution_count": 33,
   "metadata": {},
   "outputs": [
    {
     "data": {
      "text/plain": [
       "2175"
      ]
     },
     "execution_count": 33,
     "metadata": {},
     "output_type": "execute_result"
    }
   ],
   "source": [
    "df[df['age']>=110].customer_id.nunique()"
   ]
  },
  {
   "cell_type": "code",
   "execution_count": 34,
   "metadata": {},
   "outputs": [
    {
     "data": {
      "text/plain": [
       "272762"
      ]
     },
     "execution_count": 34,
     "metadata": {},
     "output_type": "execute_result"
    }
   ],
   "source": [
    "df[df['age']<=110].age.count()"
   ]
  },
  {
   "cell_type": "code",
   "execution_count": 35,
   "metadata": {},
   "outputs": [
    {
     "data": {
      "text/plain": [
       "14825"
      ]
     },
     "execution_count": 35,
     "metadata": {},
     "output_type": "execute_result"
    }
   ],
   "source": [
    "df[df['age']<=110].customer_id.nunique()"
   ]
  },
  {
   "cell_type": "markdown",
   "metadata": {},
   "source": [
    "--> There are 2175 unique customers older than 110 compared to 33772 records. Compared to the users younger than 110 there is a difference in the ratio from records and unique customers which could lead to the assumption that either customers older than 110 are quite active and receive a lot of offers or there is a error in the data. From my point of view it is difficult to decide but it is quite unrealistic so for a better analysis I will replace the values with an age over 100 with NaN."
   ]
  },
  {
   "cell_type": "code",
   "execution_count": 36,
   "metadata": {},
   "outputs": [],
   "source": [
    "df['age'] = df['age'].apply(lambda x: np.nan if x >= 110 else x)"
   ]
  },
  {
   "cell_type": "code",
   "execution_count": 37,
   "metadata": {},
   "outputs": [
    {
     "data": {
      "image/png": "[encoded data removed]",
      "text/plain": [
       "<Figure size 432x288 with 1 Axes>"
      ]
     },
     "metadata": {
      "needs_background": "light"
     },
     "output_type": "display_data"
    }
   ],
   "source": [
    "df['age'].hist(bins=25);"
   ]
  },
  {
   "cell_type": "code",
   "execution_count": 38,
   "metadata": {},
   "outputs": [],
   "source": [
    "from datetime import date"
   ]
  },
  {
   "cell_type": "code",
   "execution_count": 39,
   "metadata": {},
   "outputs": [],
   "source": [
    "# investigate how long members have been members\n",
    "# create a new column with days of membership with regard to today\n",
    "df['memberdays'] = date.today() - pd.to_datetime(df['became_member_on']).dt.date\n",
    "df['memberdays'] = df['memberdays'].dt.days"
   ]
  },
  {
   "cell_type": "code",
   "execution_count": 40,
   "metadata": {},
   "outputs": [
    {
     "data": {
      "image/png": "[encoded data removed]",
      "text/plain": [
       "<Figure size 432x288 with 1 Axes>"
      ]
     },
     "metadata": {
      "needs_background": "light"
     },
     "output_type": "display_data"
    }
   ],
   "source": [
    "df['memberdays'].hist(bins=25);"
   ]
  },
  {
   "cell_type": "code",
   "execution_count": 41,
   "metadata": {
    "scrolled": true
   },
   "outputs": [
    {
     "data": {
      "text/plain": [
       "<matplotlib.axes._subplots.AxesSubplot at 0x20086ee7648>"
      ]
     },
     "execution_count": 41,
     "metadata": {},
     "output_type": "execute_result"
    },
    {
     "data": {
      "image/png": "[encoded data removed]",
      "text/plain": [
       "<Figure size 432x288 with 1 Axes>"
      ]
     },
     "metadata": {
      "needs_background": "light"
     },
     "output_type": "display_data"
    }
   ],
   "source": [
    "#explore the income variable\n",
    "df['income'].hist(bins=25)"
   ]
  },
  {
   "cell_type": "code",
   "execution_count": 42,
   "metadata": {},
   "outputs": [
    {
     "name": "stderr",
     "output_type": "stream",
     "text": [
      "C:\\ProgramData\\Anaconda3\\lib\\site-packages\\numpy\\lib\\histograms.py:824: RuntimeWarning: invalid value encountered in greater_equal\n",
      "  keep = (tmp_a >= first_edge)\n",
      "C:\\ProgramData\\Anaconda3\\lib\\site-packages\\numpy\\lib\\histograms.py:825: RuntimeWarning: invalid value encountered in less_equal\n",
      "  keep &= (tmp_a <= last_edge)\n",
      "C:\\ProgramData\\Anaconda3\\lib\\site-packages\\statsmodels\\nonparametric\\kde.py:447: RuntimeWarning: invalid value encountered in greater\n",
      "  X = X[np.logical_and(X > clip[0], X < clip[1])] # won't work for two columns.\n",
      "C:\\ProgramData\\Anaconda3\\lib\\site-packages\\statsmodels\\nonparametric\\kde.py:447: RuntimeWarning: invalid value encountered in less\n",
      "  X = X[np.logical_and(X > clip[0], X < clip[1])] # won't work for two columns.\n"
     ]
    },
    {
     "data": {
      "image/png": "[encoded data removed]",
      "text/plain": [
       "<Figure size 432x288 with 1 Axes>"
      ]
     },
     "metadata": {
      "needs_background": "light"
     },
     "output_type": "display_data"
    }
   ],
   "source": [
    "sns.distplot(df['income'], bins=50, hist_kws={'alpha': 0.4});"
   ]
  },
  {
   "cell_type": "code",
   "execution_count": 43,
   "metadata": {},
   "outputs": [
    {
     "data": {
      "text/plain": [
       "transaction        138953\n",
       "offer-received      76277\n",
       "offer-viewed        57725\n",
       "offer-completed     33579\n",
       "Name: event, dtype: int64"
      ]
     },
     "execution_count": 43,
     "metadata": {},
     "output_type": "execute_result"
    }
   ],
   "source": [
    "df['event'].value_counts()"
   ]
  },
  {
   "cell_type": "markdown",
   "metadata": {},
   "source": [
    "The numbers reveal that this data has to be carefully considered. Normally you would expect the following user journey. Once a user received an offer the user can view it in the next step. Afterwards the user can make a transactional action (click on it) and later on complete the offer. This user journey in mind would implicate the highest number of counts on offer received and decrease in the next steps. In this case it is possible that a user makes a transaction without even viewing or receiving the offer as the numbers indicate.\n",
    "For further analysis this is important to consider as it determines the actions to take."
   ]
  },
  {
   "cell_type": "code",
   "execution_count": 44,
   "metadata": {},
   "outputs": [
    {
     "data": {
      "text/plain": [
       "count    306534.000000\n",
       "mean        366.382940\n",
       "std         200.326314\n",
       "min           0.000000\n",
       "25%         186.000000\n",
       "50%         408.000000\n",
       "75%         528.000000\n",
       "max         714.000000\n",
       "Name: time, dtype: float64"
      ]
     },
     "execution_count": 44,
     "metadata": {},
     "output_type": "execute_result"
    }
   ],
   "source": [
    "df['time'].describe()"
   ]
  },
  {
   "cell_type": "code",
   "execution_count": 45,
   "metadata": {},
   "outputs": [
    {
     "data": {
      "text/plain": [
       "<matplotlib.axes._subplots.AxesSubplot at 0x2008700f0c8>"
      ]
     },
     "execution_count": 45,
     "metadata": {},
     "output_type": "execute_result"
    },
    {
     "data": {
      "image/png": "[encoded data removed]",
      "text/plain": [
       "<Figure size 432x288 with 1 Axes>"
      ]
     },
     "metadata": {
      "needs_background": "light"
     },
     "output_type": "display_data"
    }
   ],
   "source": [
    "df['time'].hist()"
   ]
  },
  {
   "cell_type": "markdown",
   "metadata": {},
   "source": [
    "It can be seen that not all users take actions in the same time frame. One possible reason could be that there are users that use the app frequently and respond in a shorter time frame, but that these users are also more likely to use the offer as they use the app more frequently. This needs further investigations."
   ]
  },
  {
   "cell_type": "code",
   "execution_count": 46,
   "metadata": {},
   "outputs": [
    {
     "data": {
      "text/plain": [
       "count    138953.000000\n",
       "mean         12.777356\n",
       "std          30.250529\n",
       "min           0.050000\n",
       "25%           2.780000\n",
       "50%           8.890000\n",
       "75%          18.070000\n",
       "max        1062.280000\n",
       "Name: amount, dtype: float64"
      ]
     },
     "execution_count": 46,
     "metadata": {},
     "output_type": "execute_result"
    }
   ],
   "source": [
    "df['amount'].describe()"
   ]
  },
  {
   "cell_type": "code",
   "execution_count": 47,
   "metadata": {},
   "outputs": [
    {
     "data": {
      "text/plain": [
       "(0, 60)"
      ]
     },
     "execution_count": 47,
     "metadata": {},
     "output_type": "execute_result"
    },
    {
     "data": {
      "image/png": "[encoded data removed]",
      "text/plain": [
       "<Figure size 432x288 with 1 Axes>"
      ]
     },
     "metadata": {
      "needs_background": "light"
     },
     "output_type": "display_data"
    }
   ],
   "source": [
    "df['amount'].hist(bins=[0,5, 10,15, 20,25, 30,35, 40,45, 50,55, 60]);\n",
    "plt.xlim(0,60)"
   ]
  },
  {
   "cell_type": "markdown",
   "metadata": {},
   "source": [
    "Most purchases made are below 5 dollars. The amount spend constantly decreases in terms of frequency."
   ]
  },
  {
   "cell_type": "code",
   "execution_count": 48,
   "metadata": {},
   "outputs": [
    {
     "data": {
      "text/plain": [
       "count    167581.000000\n",
       "mean          7.850401\n",
       "std           5.048944\n",
       "min           0.000000\n",
       "25%           5.000000\n",
       "50%          10.000000\n",
       "75%          10.000000\n",
       "max          20.000000\n",
       "Name: difficulty, dtype: float64"
      ]
     },
     "execution_count": 48,
     "metadata": {},
     "output_type": "execute_result"
    }
   ],
   "source": [
    "df['difficulty'].describe()"
   ]
  },
  {
   "cell_type": "code",
   "execution_count": 49,
   "metadata": {},
   "outputs": [
    {
     "data": {
      "text/plain": [
       "<matplotlib.axes._subplots.AxesSubplot at 0x200870f7b08>"
      ]
     },
     "execution_count": 49,
     "metadata": {},
     "output_type": "execute_result"
    },
    {
     "data": {
      "image/png": "[encoded data removed]",
      "text/plain": [
       "<Figure size 432x288 with 1 Axes>"
      ]
     },
     "metadata": {
      "needs_background": "light"
     },
     "output_type": "display_data"
    }
   ],
   "source": [
    "df['difficulty'].hist()"
   ]
  },
  {
   "cell_type": "markdown",
   "metadata": {},
   "source": [
    "There is a clear spread in the difficulty of offers. "
   ]
  },
  {
   "cell_type": "code",
   "execution_count": 50,
   "metadata": {},
   "outputs": [
    {
     "data": {
      "text/plain": [
       "count    167581.00000\n",
       "mean          4.41991\n",
       "std           3.37336\n",
       "min           0.00000\n",
       "25%           2.00000\n",
       "50%           5.00000\n",
       "75%           5.00000\n",
       "max          10.00000\n",
       "Name: reward, dtype: float64"
      ]
     },
     "execution_count": 50,
     "metadata": {},
     "output_type": "execute_result"
    }
   ],
   "source": [
    "df['reward'].describe()"
   ]
  },
  {
   "cell_type": "code",
   "execution_count": 51,
   "metadata": {},
   "outputs": [
    {
     "data": {
      "text/plain": [
       "<matplotlib.axes._subplots.AxesSubplot at 0x2008716c888>"
      ]
     },
     "execution_count": 51,
     "metadata": {},
     "output_type": "execute_result"
    },
    {
     "data": {
      "image/png": "[encoded data removed]",
      "text/plain": [
       "<Figure size 432x288 with 1 Axes>"
      ]
     },
     "metadata": {
      "needs_background": "light"
     },
     "output_type": "display_data"
    }
   ],
   "source": [
    "df['reward'].hist()"
   ]
  },
  {
   "cell_type": "markdown",
   "metadata": {},
   "source": [
    "It seems that difficulty and reward have the same spread so the variables could depend on each other."
   ]
  },
  {
   "cell_type": "code",
   "execution_count": 52,
   "metadata": {},
   "outputs": [
    {
     "data": {
      "text/plain": [
       "count    167581.000000\n",
       "mean          6.610737\n",
       "std           2.136130\n",
       "min           3.000000\n",
       "25%           5.000000\n",
       "50%           7.000000\n",
       "75%           7.000000\n",
       "max          10.000000\n",
       "Name: duration, dtype: float64"
      ]
     },
     "execution_count": 52,
     "metadata": {},
     "output_type": "execute_result"
    }
   ],
   "source": [
    "df['duration'].describe()"
   ]
  },
  {
   "cell_type": "code",
   "execution_count": 53,
   "metadata": {},
   "outputs": [
    {
     "data": {
      "text/plain": [
       "<matplotlib.axes._subplots.AxesSubplot at 0x2008714de48>"
      ]
     },
     "execution_count": 53,
     "metadata": {},
     "output_type": "execute_result"
    },
    {
     "data": {
      "image/png": "[encoded data removed]",
      "text/plain": [
       "<Figure size 432x288 with 1 Axes>"
      ]
     },
     "metadata": {
      "needs_background": "light"
     },
     "output_type": "display_data"
    }
   ],
   "source": [
    "df['duration'].hist()"
   ]
  },
  {
   "cell_type": "markdown",
   "metadata": {},
   "source": [
    "There is some variance in the duration variable which could be interesting for further investigation. Users that open the offer earlier might be using the app more frequently which could indicate that they already have a different purchasing behaviour. "
   ]
  },
  {
   "cell_type": "code",
   "execution_count": 54,
   "metadata": {},
   "outputs": [
    {
     "data": {
      "text/plain": [
       "bogo             71617\n",
       "discount         69898\n",
       "informational    26066\n",
       "Name: offer_type, dtype: int64"
      ]
     },
     "execution_count": 54,
     "metadata": {},
     "output_type": "execute_result"
    }
   ],
   "source": [
    "df['offer_type'].value_counts()"
   ]
  },
  {
   "cell_type": "code",
   "execution_count": 55,
   "metadata": {},
   "outputs": [
    {
     "data": {
      "text/plain": [
       "148805"
      ]
     },
     "execution_count": 55,
     "metadata": {},
     "output_type": "execute_result"
    }
   ],
   "source": [
    "df[df['email']>0].age.count()"
   ]
  },
  {
   "cell_type": "code",
   "execution_count": 56,
   "metadata": {},
   "outputs": [
    {
     "data": {
      "text/plain": [
       "97960"
      ]
     },
     "execution_count": 56,
     "metadata": {},
     "output_type": "execute_result"
    }
   ],
   "source": [
    "df[df['social']>0].age.count()"
   ]
  },
  {
   "cell_type": "code",
   "execution_count": 57,
   "metadata": {},
   "outputs": [
    {
     "data": {
      "text/plain": [
       "136478"
      ]
     },
     "execution_count": 57,
     "metadata": {},
     "output_type": "execute_result"
    }
   ],
   "source": [
    "df[df['mobile']>0].age.count()"
   ]
  },
  {
   "cell_type": "code",
   "execution_count": 58,
   "metadata": {},
   "outputs": [
    {
     "data": {
      "text/plain": [
       "120048"
      ]
     },
     "execution_count": 58,
     "metadata": {},
     "output_type": "execute_result"
    }
   ],
   "source": [
    "df[df['web']>0].age.count()"
   ]
  },
  {
   "cell_type": "markdown",
   "metadata": {},
   "source": [
    "There is some difference in which channel is used to promote the offer. It could a variable of interest for further information."
   ]
  },
  {
   "cell_type": "code",
   "execution_count": 59,
   "metadata": {},
   "outputs": [
    {
     "data": {
      "image/png": "[encoded data removed]",
      "text/plain": [
       "<Figure size 432x288 with 1 Axes>"
      ]
     },
     "metadata": {
      "needs_background": "light"
     },
     "output_type": "display_data"
    }
   ],
   "source": [
    "df['offer_type'].value_counts().plot.barh(title=' Distribution of offer types');"
   ]
  },
  {
   "cell_type": "markdown",
   "metadata": {},
   "source": [
    "#### Conclusion\n",
    "After the data is cleaned and explored it is time to ask the right questions in order to come up with insights that can be used to increase the performance of offers."
   ]
  },
  {
   "cell_type": "markdown",
   "metadata": {},
   "source": [
    "## Data Analysis"
   ]
  },
  {
   "cell_type": "markdown",
   "metadata": {},
   "source": [
    "First, it is necessary to understand which value this analysis can bring to Starbucks. The objective from Starbucks is to send out offers as efficient as possible and target offer types and characteristica to certain user groups. In the end it is all about the money a user spends by using an offer. So this analysis focuses on descriptive and advanced statistical analysis to investigate which differences in the data can be observed and which variables play together. To do it in a structured way I will answer the following questions:\n",
    "\n",
    "- Does user characateristica (age, gender, days of membership, income) influence how users use the offers? \n",
    "- Are there channels that are more effective than others or can be related to a special group of users?\n",
    "- Does the offer type play a crucial role in how users act on the offer?\n",
    "\n",
    "With this questions answered, Starbucks could roll out there new offer strategy with a more targeted approach to increase the effectiveness."
   ]
  },
  {
   "cell_type": "markdown",
   "metadata": {},
   "source": [
    "#### Does user characateristica (age, gender, days of membership, income) influence how users use the offers?"
   ]
  },
  {
   "cell_type": "code",
   "execution_count": 60,
   "metadata": {},
   "outputs": [],
   "source": [
    "male_total = df[(df['gender']=='M')].gender.count()\n",
    "female_total = df[(df['gender']=='F')].gender.count()\n",
    "nongender_total = df[(df['gender']=='O')].gender.count()\n",
    "total = df.shape[0]"
   ]
  },
  {
   "cell_type": "code",
   "execution_count": 61,
   "metadata": {},
   "outputs": [
    {
     "data": {
      "text/plain": [
       "306534"
      ]
     },
     "execution_count": 61,
     "metadata": {},
     "output_type": "execute_result"
    }
   ],
   "source": [
    "total"
   ]
  },
  {
   "cell_type": "code",
   "execution_count": 62,
   "metadata": {},
   "outputs": [],
   "source": [
    "rel_m_or = df[(df['offer-received']==1)&(df['gender']=='M')].gender.count() / total\n",
    "rel_f_or = df[(df['offer-received']==1)&(df['gender']=='F')].gender.count() / total\n",
    "rel_o_or = df[(df['offer-received']==1)&(df['gender']=='O')].gender.count() / total\n",
    "\n",
    "rel_m_ov = df[(df['offer-viewed']==1)&(df['gender']=='M')].gender.count() / total\n",
    "rel_f_ov = df[(df['offer-viewed']==1)&(df['gender']=='F')].gender.count() / total\n",
    "rel_o_ov = df[(df['offer-viewed']==1)&(df['gender']=='O')].gender.count() / total\n",
    "\n",
    "rel_m_t = df[(df['transaction']==1)&(df['gender']=='M')].gender.count() / total\n",
    "rel_f_t = df[(df['transaction']==1)&(df['gender']=='F')].gender.count() / total\n",
    "rel_o_t = df[(df['transaction']==1)&(df['gender']=='O')].gender.count() / total\n",
    "\n",
    "rel_m_oc = df[(df['offer-completed']==1)&(df['gender']=='M')].gender.count() / total\n",
    "rel_f_oc = df[(df['offer-completed']==1)&(df['gender']=='F')].gender.count() / total\n",
    "rel_o_oc = df[(df['offer-completed']==1)&(df['gender']=='O')].gender.count() / total"
   ]
  },
  {
   "cell_type": "code",
   "execution_count": 63,
   "metadata": {},
   "outputs": [],
   "source": [
    "male_values = [rel_m_or, rel_m_ov, rel_m_t, rel_m_oc]\n",
    "female_values = [rel_f_or, rel_f_ov, rel_f_t, rel_f_oc]\n",
    "o_values = [rel_o_or, rel_o_ov, rel_o_t, rel_o_oc]"
   ]
  },
  {
   "cell_type": "code",
   "execution_count": 64,
   "metadata": {
    "scrolled": true
   },
   "outputs": [
    {
     "data": {
      "image/png": "[encoded data removed]",
      "text/plain": [
       "<Figure size 1080x360 with 1 Axes>"
      ]
     },
     "metadata": {
      "needs_background": "light"
     },
     "output_type": "display_data"
    }
   ],
   "source": [
    "labels = ['Offer received', 'Offer viewed', 'Transaction', 'Offer completed']\n",
    "#male_values = [0.5733597991007654 , 0.5676093060569595 , 0.5872520309462153 , 0.5075206509678215]\n",
    "#female_values = [0.4128659719402716  ,0.4168872843963097  ,0.3983800834160233 , 0.47703735667611885 ]\n",
    "#o_values = [0.013774228958963023, 0.015503409546730846, 0.014367885637761481 , 0.015441992356059671]\n",
    "\n",
    "x = np.arange(len(labels))  # the label locations\n",
    "width = 0.2  # the width of the bars\n",
    "\n",
    "fig, ax = plt.subplots(figsize=(15,5))\n",
    "rects1 = ax.bar(x - width/3, male_values, width, label='Men')\n",
    "rects2 = ax.bar(x + width/3, female_values, width, label='Women')\n",
    "rects3 = ax.bar(x + width/2, o_values, width, label='o')\n",
    "\n",
    "# Add some text for labels, title and custom x-axis tick labels, etc.\n",
    "ax.set_ylabel('Relative actions')\n",
    "ax.set_title('Relative offer actions by gender')\n",
    "ax.set_xticks(x)\n",
    "ax.set_xticklabels(labels)\n",
    "ax.legend()\n",
    "\n",
    "\n",
    "\n",
    "fig.tight_layout();\n",
    "\n",
    "plt.show();"
   ]
  },
  {
   "cell_type": "code",
   "execution_count": 65,
   "metadata": {},
   "outputs": [
    {
     "name": "stdout",
     "output_type": "stream",
     "text": [
      "0.7200818274803955 0.7344616797993004 0.6783800862708464 0.9399368395481598\n"
     ]
    }
   ],
   "source": [
    "rel_diff_or = rel_f_or / rel_m_or\n",
    "rel_diff_ov = rel_f_ov / rel_m_ov\n",
    "rel_diff_t  = rel_f_t / rel_m_t\n",
    "rel_diff_oc = rel_f_oc / rel_m_oc\n",
    "print(rel_diff_or, rel_diff_ov, rel_diff_t, rel_diff_oc)"
   ]
  },
  {
   "cell_type": "markdown",
   "metadata": {},
   "source": [
    "Analysing how the user grouped by gender proceed in the steps / events shows that in a relative way, more men than women are getting an offer. This ration stays about the same until the step offer completed. Compared to the total numbers of records it can be seen that men and women have almost the same ratio in completing an offer which shows, compared to an existing difference before, that women are more likely to complete an offer."
   ]
  },
  {
   "cell_type": "markdown",
   "metadata": {},
   "source": [
    "The same can be seen when looking at absolute numbers. More men than women receiving an offer but women have almost the same amount of offer completions. This could be also due to women per se are just more using the app so it is important to see how many offers completed did not receive an offer."
   ]
  },
  {
   "cell_type": "code",
   "execution_count": 66,
   "metadata": {},
   "outputs": [
    {
     "data": {
      "text/plain": [
       "Text(0, 0.5, '$')"
      ]
     },
     "execution_count": 66,
     "metadata": {},
     "output_type": "execute_result"
    },
    {
     "data": {
      "image/png": "[encoded data removed]",
      "text/plain": [
       "<Figure size 1152x360 with 1 Axes>"
      ]
     },
     "metadata": {
      "needs_background": "light"
     },
     "output_type": "display_data"
    }
   ],
   "source": [
    "plt.figure(figsize=(16,5))\n",
    "\n",
    "plt.subplot(121)\n",
    "gender_groupby = df.groupby('gender')\n",
    "gender_transacts = gender_groupby.transaction.sum()\n",
    "gender_expense = gender_groupby.amount.sum()\n",
    "(gender_expense / gender_transacts).reindex(['M', 'F', 'O']).plot(kind='bar', rot=0, color='tab:blue');\n",
    "plt.title('Average Transaction Value');\n",
    "plt.xlabel('');\n",
    "plt.grid();\n",
    "plt.ylabel('$')"
   ]
  },
  {
   "cell_type": "markdown",
   "metadata": {},
   "source": [
    "To support this implications we can also see that women have a higher average transaction value which makes them a more valuable customer source."
   ]
  },
  {
   "cell_type": "code",
   "execution_count": 67,
   "metadata": {
    "scrolled": true
   },
   "outputs": [
    {
     "data": {
      "text/plain": [
       "Index(['gender', 'age', 'customer_id', 'became_member_on', 'income', 'event',\n",
       "       'time', 'offer-completed', 'offer-received', 'offer-viewed',\n",
       "       'transaction', 'offer_id', 'amount', 'reward', 'difficulty', 'duration',\n",
       "       'offer_type', 'email', 'mobile', 'social', 'web', 'memberdays'],\n",
       "      dtype='object')"
      ]
     },
     "execution_count": 67,
     "metadata": {},
     "output_type": "execute_result"
    }
   ],
   "source": [
    "df.columns"
   ]
  },
  {
   "cell_type": "code",
   "execution_count": 68,
   "metadata": {},
   "outputs": [
    {
     "data": {
      "text/plain": [
       "66501"
      ]
     },
     "execution_count": 68,
     "metadata": {},
     "output_type": "execute_result"
    }
   ],
   "source": [
    "df[df['offer-received']==1].age.count()"
   ]
  },
  {
   "cell_type": "code",
   "execution_count": 69,
   "metadata": {},
   "outputs": [
    {
     "data": {
      "text/plain": [
       "49860"
      ]
     },
     "execution_count": 69,
     "metadata": {},
     "output_type": "execute_result"
    }
   ],
   "source": [
    "df[df['offer-viewed']==1].age.count()"
   ]
  },
  {
   "cell_type": "code",
   "execution_count": 70,
   "metadata": {},
   "outputs": [
    {
     "data": {
      "text/plain": [
       "123957"
      ]
     },
     "execution_count": 70,
     "metadata": {},
     "output_type": "execute_result"
    }
   ],
   "source": [
    "df[df['transaction']==1].age.count()"
   ]
  },
  {
   "cell_type": "code",
   "execution_count": 71,
   "metadata": {},
   "outputs": [
    {
     "data": {
      "text/plain": [
       "32444"
      ]
     },
     "execution_count": 71,
     "metadata": {},
     "output_type": "execute_result"
    }
   ],
   "source": [
    "df[df['offer-completed']==1].age.count()"
   ]
  },
  {
   "cell_type": "markdown",
   "metadata": {},
   "source": [
    "Following the logic of user steps and a decreasing number in every step, the data in transaction is not as we would expect it. The other data flow can be seen as steps in a user journey when receiving an offer. So for further analysis we will neglect the transation column."
   ]
  },
  {
   "cell_type": "code",
   "execution_count": 72,
   "metadata": {},
   "outputs": [
    {
     "data": {
      "text/plain": [
       "53.840696284673086"
      ]
     },
     "execution_count": 72,
     "metadata": {},
     "output_type": "execute_result"
    }
   ],
   "source": [
    "df.age.mean()"
   ]
  },
  {
   "cell_type": "code",
   "execution_count": 73,
   "metadata": {},
   "outputs": [
    {
     "data": {
      "text/plain": [
       "54.369257605148796"
      ]
     },
     "execution_count": 73,
     "metadata": {},
     "output_type": "execute_result"
    }
   ],
   "source": [
    "df[df['offer-received']==1].age.mean()"
   ]
  },
  {
   "cell_type": "code",
   "execution_count": 74,
   "metadata": {},
   "outputs": [
    {
     "data": {
      "text/plain": [
       "54.644645006016844"
      ]
     },
     "execution_count": 74,
     "metadata": {},
     "output_type": "execute_result"
    }
   ],
   "source": [
    "df[df['offer-viewed']==1].age.mean()"
   ]
  },
  {
   "cell_type": "code",
   "execution_count": 75,
   "metadata": {},
   "outputs": [
    {
     "data": {
      "text/plain": [
       "55.826624337319686"
      ]
     },
     "execution_count": 75,
     "metadata": {},
     "output_type": "execute_result"
    }
   ],
   "source": [
    "df[df['offer-completed']==1].age.mean()"
   ]
  },
  {
   "cell_type": "markdown",
   "metadata": {},
   "source": [
    "It tends the older a user gets the more users will complete an offer."
   ]
  },
  {
   "cell_type": "code",
   "execution_count": 76,
   "metadata": {},
   "outputs": [
    {
     "data": {
      "text/plain": [
       "65371.61847190268"
      ]
     },
     "execution_count": 76,
     "metadata": {},
     "output_type": "execute_result"
    }
   ],
   "source": [
    "df[df['offer-received']==1].income.mean()"
   ]
  },
  {
   "cell_type": "code",
   "execution_count": 77,
   "metadata": {},
   "outputs": [
    {
     "data": {
      "text/plain": [
       "65841.59647011633"
      ]
     },
     "execution_count": 77,
     "metadata": {},
     "output_type": "execute_result"
    }
   ],
   "source": [
    "df[df['offer-viewed']==1].income.mean()"
   ]
  },
  {
   "cell_type": "code",
   "execution_count": 78,
   "metadata": {},
   "outputs": [
    {
     "data": {
      "text/plain": [
       "69430.80384662804"
      ]
     },
     "execution_count": 78,
     "metadata": {},
     "output_type": "execute_result"
    }
   ],
   "source": [
    "df[df['offer-completed']==1].income.mean()"
   ]
  },
  {
   "cell_type": "markdown",
   "metadata": {},
   "source": [
    "For the income variable it can be observed a similar tendency that the income mean is higher from offer completion events compared to offer received and viewed."
   ]
  },
  {
   "cell_type": "markdown",
   "metadata": {},
   "source": [
    "Let's take a look if the data changes when we split the date into male, female and others."
   ]
  },
  {
   "cell_type": "code",
   "execution_count": 79,
   "metadata": {},
   "outputs": [
    {
     "data": {
      "text/plain": [
       "gender\n",
       "F    56.735564\n",
       "M    51.730580\n",
       "O    54.120625\n",
       "Name: age, dtype: float64"
      ]
     },
     "execution_count": 79,
     "metadata": {},
     "output_type": "execute_result"
    }
   ],
   "source": [
    "df.groupby('gender').age.mean()"
   ]
  },
  {
   "cell_type": "code",
   "execution_count": 80,
   "metadata": {
    "scrolled": true
   },
   "outputs": [
    {
     "data": {
      "text/plain": [
       "gender\n",
       "F    57.469806\n",
       "M    52.127987\n",
       "O    54.728166\n",
       "Name: age, dtype: float64"
      ]
     },
     "execution_count": 80,
     "metadata": {},
     "output_type": "execute_result"
    }
   ],
   "source": [
    "df[df['offer-received']==1].groupby('gender').age.mean()"
   ]
  },
  {
   "cell_type": "code",
   "execution_count": 81,
   "metadata": {},
   "outputs": [
    {
     "data": {
      "text/plain": [
       "gender\n",
       "F    57.452179\n",
       "M    52.564609\n",
       "O    55.304010\n",
       "Name: age, dtype: float64"
      ]
     },
     "execution_count": 81,
     "metadata": {},
     "output_type": "execute_result"
    }
   ],
   "source": [
    "df[df['offer-viewed']==1].groupby('gender').age.mean()"
   ]
  },
  {
   "cell_type": "code",
   "execution_count": 82,
   "metadata": {
    "scrolled": true
   },
   "outputs": [
    {
     "data": {
      "text/plain": [
       "gender\n",
       "F    57.972605\n",
       "M    53.819507\n",
       "O    55.499002\n",
       "Name: age, dtype: float64"
      ]
     },
     "execution_count": 82,
     "metadata": {},
     "output_type": "execute_result"
    }
   ],
   "source": [
    "df[df['offer-completed']==1].groupby('gender').age.mean()"
   ]
  },
  {
   "cell_type": "code",
   "execution_count": 83,
   "metadata": {},
   "outputs": [
    {
     "data": {
      "image/png": "[encoded data removed]",
      "text/plain": [
       "<Figure size 1080x360 with 1 Axes>"
      ]
     },
     "metadata": {
      "needs_background": "light"
     },
     "output_type": "display_data"
    }
   ],
   "source": [
    "\n",
    "labels = ['General','Offer received', 'Offer viewed', 'Offer completed']\n",
    "men_means = [df.groupby('gender').age.mean()[1], df[df['offer-received']==1].groupby('gender').age.mean()[1], df[df['offer-viewed']==1].groupby('gender').age.mean()[1], df[df['offer-completed']==1].groupby('gender').age.mean()[1]]\n",
    "women_means = [df.groupby('gender').age.mean()[0], df[df['offer-received']==1].groupby('gender').age.mean()[0], df[df['offer-viewed']==1].groupby('gender').age.mean()[0], df[df['offer-completed']==1].groupby('gender').age.mean()[0]]\n",
    "other_means = [df.groupby('gender').age.mean()[2], df[df['offer-received']==1].groupby('gender').age.mean()[2], df[df['offer-viewed']==1].groupby('gender').age.mean()[2], df[df['offer-completed']==1].groupby('gender').age.mean()[2]]\n",
    "\n",
    "x = np.arange(len(labels))  # the label locations\n",
    "width = 0.2  # the width of the bars\n",
    "\n",
    "fig, ax = plt.subplots(figsize=(15,5))\n",
    "rects1 = ax.bar(x - 0.2, men_means, width, label='Men')\n",
    "rects2 = ax.bar(x + 0, women_means, width, label='Women')\n",
    "rects3 = ax.bar(x + 0.2, other_means, width, label='Women')\n",
    "\n",
    "# Add some text for labels, title and custom x-axis tick labels, etc.\n",
    "ax.set_ylabel('Age')\n",
    "ax.set_title('Mean age per gender in user journey')\n",
    "ax.set_xticks(x)\n",
    "ax.set_xticklabels(labels)\n",
    "ax.legend()\n",
    "\n",
    "\n",
    "fig.tight_layout()\n",
    "\n",
    "plt.show()"
   ]
  },
  {
   "cell_type": "code",
   "execution_count": 84,
   "metadata": {},
   "outputs": [
    {
     "data": {
      "text/plain": [
       "gender\n",
       "F    69546.750250\n",
       "M    60589.087289\n",
       "O    62897.758751\n",
       "Name: income, dtype: float64"
      ]
     },
     "execution_count": 84,
     "metadata": {},
     "output_type": "execute_result"
    }
   ],
   "source": [
    "df.groupby('gender').income.mean()"
   ]
  },
  {
   "cell_type": "code",
   "execution_count": 85,
   "metadata": {},
   "outputs": [
    {
     "data": {
      "text/plain": [
       "gender\n",
       "F    71238.599942\n",
       "M    61199.979019\n",
       "O    63162.663755\n",
       "Name: income, dtype: float64"
      ]
     },
     "execution_count": 85,
     "metadata": {},
     "output_type": "execute_result"
    }
   ],
   "source": [
    "df[df['offer-received']==1].groupby('gender').income.mean()"
   ]
  },
  {
   "cell_type": "code",
   "execution_count": 86,
   "metadata": {},
   "outputs": [
    {
     "data": {
      "text/plain": [
       "gender\n",
       "F    70999.855672\n",
       "M    62065.333380\n",
       "O    65391.979301\n",
       "Name: income, dtype: float64"
      ]
     },
     "execution_count": 86,
     "metadata": {},
     "output_type": "execute_result"
    }
   ],
   "source": [
    "df[df['offer-viewed']==1].groupby('gender').income.mean()"
   ]
  },
  {
   "cell_type": "code",
   "execution_count": 87,
   "metadata": {},
   "outputs": [
    {
     "data": {
      "text/plain": [
       "gender\n",
       "F    73313.303612\n",
       "M    65911.150249\n",
       "O    65169.660679\n",
       "Name: income, dtype: float64"
      ]
     },
     "execution_count": 87,
     "metadata": {},
     "output_type": "execute_result"
    }
   ],
   "source": [
    "df[df['offer-completed']==1].groupby('gender').income.mean()"
   ]
  },
  {
   "cell_type": "code",
   "execution_count": 88,
   "metadata": {},
   "outputs": [
    {
     "data": {
      "image/png": "[encoded data removed]",
      "text/plain": [
       "<Figure size 1080x360 with 1 Axes>"
      ]
     },
     "metadata": {
      "needs_background": "light"
     },
     "output_type": "display_data"
    }
   ],
   "source": [
    "\n",
    "labels = ['General','Offer received', 'Offer viewed', 'Offer completed']\n",
    "men_means = [df.groupby('gender').income.mean()[1], df[df['offer-received']==1].groupby('gender').income.mean()[1], df[df['offer-viewed']==1].groupby('gender').income.mean()[1], df[df['offer-completed']==1].groupby('gender').income.mean()[1]]\n",
    "women_means = [df.groupby('gender').income.mean()[0], df[df['offer-received']==1].groupby('gender').income.mean()[0], df[df['offer-viewed']==1].groupby('gender').income.mean()[0], df[df['offer-completed']==1].groupby('gender').income.mean()[0]]\n",
    "other_means = [df.groupby('gender').income.mean()[2], df[df['offer-received']==1].groupby('gender').income.mean()[2], df[df['offer-viewed']==1].groupby('gender').income.mean()[2], df[df['offer-completed']==1].groupby('gender').income.mean()[2]]\n",
    "\n",
    "x = np.arange(len(labels))  # the label locations\n",
    "width = 0.2  # the width of the bars\n",
    "\n",
    "fig, ax = plt.subplots(figsize=(15,5))\n",
    "rects1 = ax.bar(x - 0.2, men_means, width, label='Men')\n",
    "rects2 = ax.bar(x + 0, women_means, width, label='Women')\n",
    "rects3 = ax.bar(x + 0.2, other_means, width, label='Women')\n",
    "\n",
    "# Add some text for labels, title and custom x-axis tick labels, etc.\n",
    "ax.set_ylabel('Mean Income')\n",
    "ax.set_title('Mean income per gender in user journey')\n",
    "ax.set_xticks(x)\n",
    "ax.set_xticklabels(labels)\n",
    "ax.legend()\n",
    "\n",
    "\n",
    "fig.tight_layout()\n",
    "\n",
    "plt.show()"
   ]
  },
  {
   "cell_type": "markdown",
   "metadata": {},
   "source": [
    "##### Conclusion\n",
    "Taking user characteristics into account first it seems that the mean age increases independently in every user step. Taking a closer look at the dependancy on the gender variable shows that age only shows a small difference. Looking at the income variable there is an observable change during the offer completion step where the income of male and female is higher than in the other steps. Especially for men there is a 8 - 9% increase in income.\n",
    "This implies that income could be a good variable to target the offer strategy."
   ]
  },
  {
   "cell_type": "markdown",
   "metadata": {},
   "source": [
    "#### Are there channels that are more effective than others or can be related to a special group of users?"
   ]
  },
  {
   "cell_type": "code",
   "execution_count": 89,
   "metadata": {},
   "outputs": [],
   "source": [
    "completion_ratio_email = df[(df['offer-completed']==1)&(df['email']==1)].customer_id.count() / df[(df['offer-received']==1)&(df['email']==1)].customer_id.count()\n",
    "completion_ratio_social = df[(df['offer-completed']==1)&(df['social']==1)].customer_id.count() / df[(df['offer-received']==1)&(df['social']==1)].customer_id.count()\n",
    "completion_ratio_mobile = df[(df['offer-completed']==1)&(df['mobile']==1)].customer_id.count() / df[(df['offer-received']==1)&(df['mobile']==1)].customer_id.count()\n",
    "completion_ratio_web = df[(df['offer-completed']==1)&(df['web']==1)].customer_id.count() / df[(df['offer-received']==1)&(df['web']==1)].customer_id.count()"
   ]
  },
  {
   "cell_type": "code",
   "execution_count": 90,
   "metadata": {},
   "outputs": [
    {
     "name": "stdout",
     "output_type": "stream",
     "text": [
      "0.4402244451145168 0.4769389050631526 0.4395778979434185 0.49000836051868\n"
     ]
    }
   ],
   "source": [
    "print(completion_ratio_email, completion_ratio_social, completion_ratio_mobile, completion_ratio_web)"
   ]
  },
  {
   "cell_type": "code",
   "execution_count": 91,
   "metadata": {},
   "outputs": [
    {
     "data": {
      "image/png": "[encoded data removed]",
      "text/plain": [
       "<Figure size 432x288 with 1 Axes>"
      ]
     },
     "metadata": {
      "needs_background": "light"
     },
     "output_type": "display_data"
    }
   ],
   "source": [
    "\n",
    "fig = plt.figure()\n",
    "ax = fig.add_axes([0,0,1,1])\n",
    "labels = ['Email', 'Social', 'Mobile', 'Web']\n",
    "completion_rates = [completion_ratio_email, completion_ratio_social, completion_ratio_mobile, completion_ratio_web]\n",
    "ax.bar(labels,completion_rates)\n",
    "plt.show()"
   ]
  },
  {
   "cell_type": "markdown",
   "metadata": {},
   "source": [
    "It can be seen that Social and Web have higher completion rates than the Email and Mobile when taking the events offers received and completed into account."
   ]
  },
  {
   "cell_type": "code",
   "execution_count": 92,
   "metadata": {},
   "outputs": [
    {
     "data": {
      "text/plain": [
       "54.369257605148796"
      ]
     },
     "execution_count": 92,
     "metadata": {},
     "output_type": "execute_result"
    }
   ],
   "source": [
    "df[(df['offer-received']==1)&(df['email']==1)].age.mean()"
   ]
  },
  {
   "cell_type": "code",
   "execution_count": 93,
   "metadata": {},
   "outputs": [
    {
     "data": {
      "text/plain": [
       "55.826624337319686"
      ]
     },
     "execution_count": 93,
     "metadata": {},
     "output_type": "execute_result"
    }
   ],
   "source": [
    "df[(df['offer-completed']==1)&(df['email']==1)].age.mean()"
   ]
  },
  {
   "cell_type": "code",
   "execution_count": 94,
   "metadata": {},
   "outputs": [
    {
     "data": {
      "text/plain": [
       "54.36538364906286"
      ]
     },
     "execution_count": 94,
     "metadata": {},
     "output_type": "execute_result"
    }
   ],
   "source": [
    "df[(df['offer-received']==1)&(df['social']==1)].age.mean()"
   ]
  },
  {
   "cell_type": "code",
   "execution_count": 95,
   "metadata": {},
   "outputs": [
    {
     "data": {
      "text/plain": [
       "55.73930053914786"
      ]
     },
     "execution_count": 95,
     "metadata": {},
     "output_type": "execute_result"
    }
   ],
   "source": [
    "df[(df['offer-completed']==1)&(df['social']==1)].age.mean()"
   ]
  },
  {
   "cell_type": "code",
   "execution_count": 96,
   "metadata": {},
   "outputs": [
    {
     "data": {
      "text/plain": [
       "54.36786281890422"
      ]
     },
     "execution_count": 96,
     "metadata": {},
     "output_type": "execute_result"
    }
   ],
   "source": [
    "df[(df['offer-received']==1)&(df['mobile']==1)].age.mean()"
   ]
  },
  {
   "cell_type": "code",
   "execution_count": 97,
   "metadata": {},
   "outputs": [
    {
     "data": {
      "text/plain": [
       "55.72861174203317"
      ]
     },
     "execution_count": 97,
     "metadata": {},
     "output_type": "execute_result"
    }
   ],
   "source": [
    "df[(df['offer-completed']==1)&(df['mobile']==1)].age.mean()"
   ]
  },
  {
   "cell_type": "code",
   "execution_count": 98,
   "metadata": {},
   "outputs": [
    {
     "data": {
      "text/plain": [
       "54.36693935119887"
      ]
     },
     "execution_count": 98,
     "metadata": {},
     "output_type": "execute_result"
    }
   ],
   "source": [
    "df[(df['offer-received']==1)&(df['web']==1)].age.mean()"
   ]
  },
  {
   "cell_type": "code",
   "execution_count": 99,
   "metadata": {},
   "outputs": [
    {
     "data": {
      "text/plain": [
       "55.72904436030152"
      ]
     },
     "execution_count": 99,
     "metadata": {},
     "output_type": "execute_result"
    }
   ],
   "source": [
    "df[(df['offer-completed']==1)&(df['web']==1)].age.mean()"
   ]
  },
  {
   "cell_type": "markdown",
   "metadata": {},
   "source": [
    "In all of the channels used it seems that older users tend to have a higher completion rate. Looking at different channels there can be no completion rate difference observed depending on the age of users."
   ]
  },
  {
   "cell_type": "code",
   "execution_count": 100,
   "metadata": {},
   "outputs": [
    {
     "data": {
      "text/plain": [
       "65371.61847190268"
      ]
     },
     "execution_count": 100,
     "metadata": {},
     "output_type": "execute_result"
    }
   ],
   "source": [
    "df[(df['offer-received']==1)&(df['email']==1)].income.mean()"
   ]
  },
  {
   "cell_type": "code",
   "execution_count": 101,
   "metadata": {},
   "outputs": [
    {
     "data": {
      "text/plain": [
       "69430.80384662804"
      ]
     },
     "execution_count": 101,
     "metadata": {},
     "output_type": "execute_result"
    }
   ],
   "source": [
    "df[(df['offer-completed']==1)&(df['email']==1)].income.mean()"
   ]
  },
  {
   "cell_type": "code",
   "execution_count": 102,
   "metadata": {},
   "outputs": [
    {
     "data": {
      "text/plain": [
       "65456.107733279736"
      ]
     },
     "execution_count": 102,
     "metadata": {},
     "output_type": "execute_result"
    }
   ],
   "source": [
    "df[(df['offer-received']==1)&(df['social']==1)].income.mean()"
   ]
  },
  {
   "cell_type": "code",
   "execution_count": 103,
   "metadata": {},
   "outputs": [
    {
     "data": {
      "text/plain": [
       "69218.23560284365"
      ]
     },
     "execution_count": 103,
     "metadata": {},
     "output_type": "execute_result"
    }
   ],
   "source": [
    "df[(df['offer-completed']==1)&(df['social']==1)].income.mean()"
   ]
  },
  {
   "cell_type": "code",
   "execution_count": 104,
   "metadata": {},
   "outputs": [
    {
     "data": {
      "text/plain": [
       "65393.22459222083"
      ]
     },
     "execution_count": 104,
     "metadata": {},
     "output_type": "execute_result"
    }
   ],
   "source": [
    "df[(df['offer-received']==1)&(df['mobile']==1)].income.mean()"
   ]
  },
  {
   "cell_type": "code",
   "execution_count": 105,
   "metadata": {},
   "outputs": [
    {
     "data": {
      "text/plain": [
       "69145.84623855737"
      ]
     },
     "execution_count": 105,
     "metadata": {},
     "output_type": "execute_result"
    }
   ],
   "source": [
    "df[(df['offer-completed']==1)&(df['mobile']==1)].income.mean()"
   ]
  },
  {
   "cell_type": "code",
   "execution_count": 106,
   "metadata": {},
   "outputs": [
    {
     "data": {
      "text/plain": [
       "65323.196991067234"
      ]
     },
     "execution_count": 106,
     "metadata": {},
     "output_type": "execute_result"
    }
   ],
   "source": [
    "df[(df['offer-received']==1)&(df['web']==1)].income.mean()"
   ]
  },
  {
   "cell_type": "code",
   "execution_count": 107,
   "metadata": {},
   "outputs": [
    {
     "data": {
      "text/plain": [
       "69081.7730225449"
      ]
     },
     "execution_count": 107,
     "metadata": {},
     "output_type": "execute_result"
    }
   ],
   "source": [
    "df[(df['offer-completed']==1)&(df['web']==1)].income.mean()"
   ]
  },
  {
   "cell_type": "markdown",
   "metadata": {},
   "source": [
    "For income hte same is observed. This could also be because of the random selection of the experiment so no user groups are more presented than another in one special channel."
   ]
  },
  {
   "cell_type": "markdown",
   "metadata": {},
   "source": [
    "##### Conclusion\n",
    "There are some channels that perform better than others. In this data especially the channel web and to some extend social have higher completion rates. For further strategies it could be a good starting point to focus on this channels."
   ]
  },
  {
   "cell_type": "markdown",
   "metadata": {},
   "source": [
    "#### Does the offer type play a crucial role in how users act on the offer?"
   ]
  },
  {
   "cell_type": "code",
   "execution_count": 108,
   "metadata": {},
   "outputs": [
    {
     "data": {
      "text/plain": [
       "offer_type     gender\n",
       "bogo           M         15208\n",
       "               F         10975\n",
       "               O           354\n",
       "discount       M         15354\n",
       "               F         10943\n",
       "               O           367\n",
       "informational  M          7567\n",
       "               F          5538\n",
       "               O           195\n",
       "Name: gender, dtype: int64"
      ]
     },
     "execution_count": 108,
     "metadata": {},
     "output_type": "execute_result"
    }
   ],
   "source": [
    "df[df['offer-received']==1].groupby('offer_type').gender.value_counts()"
   ]
  },
  {
   "cell_type": "code",
   "execution_count": 109,
   "metadata": {},
   "outputs": [
    {
     "data": {
      "text/plain": [
       "offer_type  gender\n",
       "bogo        M         7512\n",
       "            F         7501\n",
       "            O          245\n",
       "discount    M         8954\n",
       "            F         7976\n",
       "            O          256\n",
       "Name: gender, dtype: int64"
      ]
     },
     "execution_count": 109,
     "metadata": {},
     "output_type": "execute_result"
    }
   ],
   "source": [
    "df[df['offer-completed']==1].groupby('offer_type').gender.value_counts()"
   ]
  },
  {
   "cell_type": "markdown",
   "metadata": {},
   "source": [
    "We see that male receive more offers than females in absolute terms but they have about the same numbers of offers completion which implies that women have a much higher completion rate depending on the offer types. Discounts have a small advantage compared to bogo."
   ]
  },
  {
   "cell_type": "code",
   "execution_count": 110,
   "metadata": {},
   "outputs": [
    {
     "data": {
      "text/plain": [
       "<matplotlib.legend.Legend at 0x20087383d48>"
      ]
     },
     "execution_count": 110,
     "metadata": {},
     "output_type": "execute_result"
    },
    {
     "data": {
      "image/png": "[encoded data removed]",
      "text/plain": [
       "<Figure size 1080x360 with 1 Axes>"
      ]
     },
     "metadata": {
      "needs_background": "light"
     },
     "output_type": "display_data"
    }
   ],
   "source": [
    "plt.figure(figsize=(15, 5))\n",
    "sns.countplot(x= \"offer_type\", hue= \"gender\", data=df)\n",
    "sns.set(style=\"darkgrid\")\n",
    "plt.title('Gender distribution in offer types')\n",
    "plt.ylabel('Count')\n",
    "plt.xlabel('Offer Type')\n",
    "plt.legend(title='Gender')"
   ]
  },
  {
   "cell_type": "code",
   "execution_count": 111,
   "metadata": {},
   "outputs": [
    {
     "data": {
      "text/plain": [
       "<matplotlib.legend.Legend at 0x200874254c8>"
      ]
     },
     "execution_count": 111,
     "metadata": {},
     "output_type": "execute_result"
    },
    {
     "data": {
      "image/png": "[encoded data removed]",
      "text/plain": [
       "<Figure size 1080x360 with 1 Axes>"
      ]
     },
     "metadata": {},
     "output_type": "display_data"
    }
   ],
   "source": [
    "plt.figure(figsize=(15, 5))\n",
    "sns.countplot(x= \"event\", hue= \"offer_type\", data=df)\n",
    "sns.set(style=\"darkgrid\")\n",
    "plt.title('Distribution of offer types in events')\n",
    "plt.ylabel('Count')\n",
    "plt.xlabel('Event')\n",
    "plt.legend(title='Offer Type')"
   ]
  },
  {
   "cell_type": "markdown",
   "metadata": {},
   "source": [
    "##### Conclusion\n",
    "This graph shows that there are about the same amount of offer types getting send to users. Looking at the user journey it first seems that bogos are more effective as they get seen more times. Looking at which offer types leads to offer completion clearly states that discounts lead to more offer completion and therefore are more effective."
   ]
  },
  {
   "cell_type": "markdown",
   "metadata": {},
   "source": [
    "## Conclusion\n",
    "To see the bigger picture it was necessary to deep dive into the data and into single steps. For me starting point of the analysis was to see if the user journey from receiving an offer to viewing and completing it has some special characteristics to inform further offer strategies.\n",
    "\n",
    "Looking at a user level it can be seen that women tend to be a more lucrative source for Starbucks as they tend to have a higher completion rate of the offers and also have a higher average transaction value. Also income seems to increase for the users that complete an offer. Interestingly men have a slightly higher increase which could make men with a higher income a potential target for new offers.\n",
    "\n",
    "In general it can be said that the web channel has the best performance in completion rate follwed by social. Also interestingly there can be no differences be detected in user characteristics which leads me to the implication that the web channel just has a better performance.\n",
    "\n",
    "In the end looking at the offer types discount have a better performance than bogo which could Starbucks lead to the implication that for further strategies discounts are the most effective way when it comes down to offer completion ratio.\n",
    "\n",
    "To sum up, to increase the offer effectiveness Starbucks could focus on female users using the web channel and offering more discounts."
   ]
  },
  {
   "cell_type": "markdown",
   "metadata": {},
   "source": [
    "# Data Modeling"
   ]
  },
  {
   "cell_type": "code",
   "execution_count": 112,
   "metadata": {},
   "outputs": [
    {
     "name": "stderr",
     "output_type": "stream",
     "text": [
      "C:\\ProgramData\\Anaconda3\\lib\\site-packages\\ipykernel_launcher.py:5: SettingWithCopyWarning: \n",
      "A value is trying to be set on a copy of a slice from a DataFrame.\n",
      "Try using .loc[row_indexer,col_indexer] = value instead\n",
      "\n",
      "See the caveats in the documentation: http://pandas.pydata.org/pandas-docs/stable/user_guide/indexing.html#returning-a-view-versus-a-copy\n",
      "  \"\"\"\n"
     ]
    }
   ],
   "source": [
    "# extract the rows that are related to offer action (e.g. offer received, offer viewed, offer completed)\n",
    "offer = transcript[transcript['value'].apply(lambda x: True if ('offer id' in x) or ('offer_id' in x) else False)]\n",
    "    \n",
    "# extract the offer id from value column\n",
    "offer['offer_id'] = offer['value'].apply(lambda x: x['offer id'] if ('offer id' in x) else x['offer_id'])"
   ]
  },
  {
   "cell_type": "code",
   "execution_count": 113,
   "metadata": {},
   "outputs": [],
   "source": [
    "def create_user_item_matrix(offer, filename):\n",
    "    '''\n",
    "    Return the user item matrix that indicate the number of offer complete of a particular user\n",
    "    \n",
    "    INPUT:\n",
    "    offer - a cleaned transcript dataframe\n",
    "    filename(string) - the file name that save the user item matrix\n",
    "    \n",
    "    OUTPUT:\n",
    "    user_item_matrix - the user item matrix which \n",
    "        - row is user \n",
    "        - column is offer\n",
    "        - value is the number of offer complete by the user (NaN means no offer given)\n",
    "    \n",
    "    '''\n",
    "    # create an empty user item matrix\n",
    "    user_item_matrix = offer.groupby(['person', 'offer_id'])['event'].agg(lambda x: np.nan).unstack()\n",
    "    # we just focus on bogo and discount first\n",
    "    user_item_matrix.drop(list(portfolio[portfolio['offer_type']=='informational']['id']), axis=1, inplace=True)\n",
    "    \n",
    "    for offer_id in user_item_matrix.columns:\n",
    "        print(\"Now processing: \", offer_id)\n",
    "        num = 0\n",
    "        for person in user_item_matrix.index:\n",
    "            num += 1\n",
    "            if num % 1000 == 0:\n",
    "                print(\"finished \", num/16994*100, '%')\n",
    "            events = []\n",
    "            for event in offer[(offer['offer_id']==offer_id) & (offer['person']==person)]['event']:\n",
    "                events.append(event)\n",
    "            if len(events) >= 3:\n",
    "                user_item_matrix.loc[person, offer_id] = 0\n",
    "                for i in range(len(events)-2):\n",
    "                    # check if the transaction sequence is offer received -> offer viewed -> offer completed\n",
    "                    # if yes, we assume the user reacted positively with the offer we provided.\n",
    "                    if (events[i] == 'offer received') & (events[i+1] == 'offer viewed') & (events[i+2] == 'offer completed'):\n",
    "                        user_item_matrix.loc[person, offer_id] += 1\n",
    "            elif len(events) > 0:\n",
    "                user_item_matrix.loc[person, offer_id] = 0\n",
    "    \n",
    "    # store the large martix into file\n",
    "    fh = open(filename, 'wb')\n",
    "    pickle.dump(user_item_matrix,fh)\n",
    "    fh.close()\n",
    "    \n",
    "    return user_item_matrix"
   ]
  },
  {
   "cell_type": "code",
   "execution_count": 114,
   "metadata": {},
   "outputs": [],
   "source": [
    "def create_user_item_matrix(offer, filename):\n",
    "    '''\n",
    "    Return the user item matrix that indicate the number of offer complete of a particular user\n",
    "    \n",
    "    INPUT:\n",
    "    offer - a cleaned transcript dataframe\n",
    "    filename(string) - the file name that save the user item matrix\n",
    "    \n",
    "    OUTPUT:\n",
    "    user_item_matrix - the user item matrix which \n",
    "        - row is user \n",
    "        - column is offer\n",
    "        - value is the number of offer complete by the user (NaN means no offer given)\n",
    "    \n",
    "    '''\n",
    "    # create an empty user item matrix\n",
    "    user_item_matrix = offer.groupby(['person', 'offer_id'])['event'].agg(lambda x: np.nan).unstack()\n",
    "    # we just focus on bogo and discount first\n",
    "    user_item_matrix.drop(list(portfolio[portfolio['offer_type']=='informational']['id']), axis=1, inplace=True)\n",
    "    \n",
    "    for offer_id in user_item_matrix.columns:\n",
    "        print(\"Now processing: \", offer_id)\n",
    "        num = 0\n",
    "        for person in user_item_matrix.index:\n",
    "            num += 1\n",
    "            if num % 1000 == 0:\n",
    "                print(\"finished \", num/16994*100, '%')\n",
    "            events = []\n",
    "            for event in offer[(offer['offer_id']==offer_id) & (offer['person']==person)]['event']:\n",
    "                events.append(event)\n",
    "            if len(events) >= 3:\n",
    "                user_item_matrix.loc[person, offer_id] = 0\n",
    "                for i in range(len(events)-2):\n",
    "                    # check if the transaction sequence is offer received -> offer viewed -> offer completed\n",
    "                    # if yes, we assume the user reacted positively with the offer we provided.\n",
    "                    if (events[i] == 'offer received') & (events[i+1] == 'offer viewed') & (events[i+2] == 'offer completed'):\n",
    "                        user_item_matrix.loc[person, offer_id] += 1\n",
    "            elif len(events) > 0:\n",
    "                user_item_matrix.loc[person, offer_id] = 0\n",
    "    \n",
    "    # store the large martix into file\n",
    "    fh = open(filename, 'wb')\n",
    "    pickle.dump(user_item_matrix,fh)\n",
    "    fh.close()\n",
    "    \n",
    "    return user_item_matrix"
   ]
  },
  {
   "cell_type": "code",
   "execution_count": 115,
   "metadata": {},
   "outputs": [
    {
     "name": "stdout",
     "output_type": "stream",
     "text": [
      "Now processing:  0b1e1539f2cc45b7b9fa7c272da2e1d7\n",
      "finished  5.884429798752501 %\n",
      "finished  11.768859597505003 %\n",
      "finished  17.653289396257502 %\n",
      "finished  23.537719195010006 %\n",
      "finished  29.422148993762505 %\n",
      "finished  35.306578792515005 %\n",
      "finished  41.19100859126751 %\n",
      "finished  47.07543839002001 %\n",
      "finished  52.95986818877251 %\n",
      "finished  58.84429798752501 %\n",
      "finished  64.7287277862775 %\n",
      "finished  70.61315758503001 %\n",
      "finished  76.4975873837825 %\n",
      "finished  82.38201718253502 %\n",
      "finished  88.26644698128752 %\n",
      "finished  94.15087678004002 %\n",
      "Now processing:  2298d6c36e964ae4a3e7e9706d1fb8c2\n",
      "finished  5.884429798752501 %\n",
      "finished  11.768859597505003 %\n",
      "finished  17.653289396257502 %\n",
      "finished  23.537719195010006 %\n",
      "finished  29.422148993762505 %\n",
      "finished  35.306578792515005 %\n",
      "finished  41.19100859126751 %\n",
      "finished  47.07543839002001 %\n",
      "finished  52.95986818877251 %\n",
      "finished  58.84429798752501 %\n",
      "finished  64.7287277862775 %\n",
      "finished  70.61315758503001 %\n",
      "finished  76.4975873837825 %\n",
      "finished  82.38201718253502 %\n",
      "finished  88.26644698128752 %\n",
      "finished  94.15087678004002 %\n",
      "Now processing:  2906b810c7d4411798c6938adc9daaa5\n",
      "finished  5.884429798752501 %\n",
      "finished  11.768859597505003 %\n",
      "finished  17.653289396257502 %\n",
      "finished  23.537719195010006 %\n",
      "finished  29.422148993762505 %\n",
      "finished  35.306578792515005 %\n",
      "finished  41.19100859126751 %\n",
      "finished  47.07543839002001 %\n",
      "finished  52.95986818877251 %\n",
      "finished  58.84429798752501 %\n",
      "finished  64.7287277862775 %\n",
      "finished  70.61315758503001 %\n",
      "finished  76.4975873837825 %\n",
      "finished  82.38201718253502 %\n",
      "finished  88.26644698128752 %\n",
      "finished  94.15087678004002 %\n",
      "Now processing:  4d5c57ea9a6940dd891ad53e9dbe8da0\n",
      "finished  5.884429798752501 %\n",
      "finished  11.768859597505003 %\n",
      "finished  17.653289396257502 %\n",
      "finished  23.537719195010006 %\n",
      "finished  29.422148993762505 %\n",
      "finished  35.306578792515005 %\n",
      "finished  41.19100859126751 %\n",
      "finished  47.07543839002001 %\n",
      "finished  52.95986818877251 %\n",
      "finished  58.84429798752501 %\n",
      "finished  64.7287277862775 %\n",
      "finished  70.61315758503001 %\n",
      "finished  76.4975873837825 %\n",
      "finished  82.38201718253502 %\n",
      "finished  88.26644698128752 %\n",
      "finished  94.15087678004002 %\n",
      "Now processing:  9b98b8c7a33c4b65b9aebfe6a799e6d9\n",
      "finished  5.884429798752501 %\n",
      "finished  11.768859597505003 %\n",
      "finished  17.653289396257502 %\n",
      "finished  23.537719195010006 %\n",
      "finished  29.422148993762505 %\n",
      "finished  35.306578792515005 %\n",
      "finished  41.19100859126751 %\n",
      "finished  47.07543839002001 %\n",
      "finished  52.95986818877251 %\n",
      "finished  58.84429798752501 %\n",
      "finished  64.7287277862775 %\n",
      "finished  70.61315758503001 %\n",
      "finished  76.4975873837825 %\n",
      "finished  82.38201718253502 %\n",
      "finished  88.26644698128752 %\n",
      "finished  94.15087678004002 %\n",
      "Now processing:  ae264e3637204a6fb9bb56bc8210ddfd\n",
      "finished  5.884429798752501 %\n",
      "finished  11.768859597505003 %\n",
      "finished  17.653289396257502 %\n",
      "finished  23.537719195010006 %\n",
      "finished  29.422148993762505 %\n",
      "finished  35.306578792515005 %\n",
      "finished  41.19100859126751 %\n",
      "finished  47.07543839002001 %\n",
      "finished  52.95986818877251 %\n",
      "finished  58.84429798752501 %\n",
      "finished  64.7287277862775 %\n",
      "finished  70.61315758503001 %\n",
      "finished  76.4975873837825 %\n",
      "finished  82.38201718253502 %\n",
      "finished  88.26644698128752 %\n",
      "finished  94.15087678004002 %\n",
      "Now processing:  f19421c1d4aa40978ebb69ca19b0e20d\n",
      "finished  5.884429798752501 %\n",
      "finished  11.768859597505003 %\n",
      "finished  17.653289396257502 %\n",
      "finished  23.537719195010006 %\n",
      "finished  29.422148993762505 %\n",
      "finished  35.306578792515005 %\n",
      "finished  41.19100859126751 %\n",
      "finished  47.07543839002001 %\n",
      "finished  52.95986818877251 %\n",
      "finished  58.84429798752501 %\n",
      "finished  64.7287277862775 %\n",
      "finished  70.61315758503001 %\n",
      "finished  76.4975873837825 %\n",
      "finished  82.38201718253502 %\n",
      "finished  88.26644698128752 %\n",
      "finished  94.15087678004002 %\n",
      "Now processing:  fafdcd668e3743c1bb461111dcafc2a4\n",
      "finished  5.884429798752501 %\n",
      "finished  11.768859597505003 %\n",
      "finished  17.653289396257502 %\n",
      "finished  23.537719195010006 %\n",
      "finished  29.422148993762505 %\n",
      "finished  35.306578792515005 %\n",
      "finished  41.19100859126751 %\n",
      "finished  47.07543839002001 %\n",
      "finished  52.95986818877251 %\n",
      "finished  58.84429798752501 %\n",
      "finished  64.7287277862775 %\n",
      "finished  70.61315758503001 %\n",
      "finished  76.4975873837825 %\n",
      "finished  82.38201718253502 %\n",
      "finished  88.26644698128752 %\n",
      "finished  94.15087678004002 %\n"
     ]
    }
   ],
   "source": [
    "full_df = create_user_item_matrix(offer, 'user_item_matrix.p')"
   ]
  },
  {
   "cell_type": "code",
   "execution_count": 116,
   "metadata": {},
   "outputs": [
    {
     "data": {
      "text/plain": [
       "(117306, 50275)"
      ]
     },
     "execution_count": 116,
     "metadata": {},
     "output_type": "execute_result"
    }
   ],
   "source": [
    "train_size = int(offer.shape[0]*0.7)\n",
    "test_size = offer.shape[0] - train_size\n",
    "train_size, test_size"
   ]
  },
  {
   "cell_type": "code",
   "execution_count": 117,
   "metadata": {},
   "outputs": [],
   "source": [
    "train_offer = offer[:train_size]"
   ]
  },
  {
   "cell_type": "code",
   "execution_count": 118,
   "metadata": {},
   "outputs": [],
   "source": [
    "test_offer = offer[train_size:]"
   ]
  },
  {
   "cell_type": "code",
   "execution_count": 119,
   "metadata": {},
   "outputs": [
    {
     "name": "stdout",
     "output_type": "stream",
     "text": [
      "Now processing:  0b1e1539f2cc45b7b9fa7c272da2e1d7\n",
      "finished  5.884429798752501 %\n",
      "finished  11.768859597505003 %\n",
      "finished  17.653289396257502 %\n",
      "finished  23.537719195010006 %\n",
      "finished  29.422148993762505 %\n",
      "finished  35.306578792515005 %\n",
      "finished  41.19100859126751 %\n",
      "finished  47.07543839002001 %\n",
      "finished  52.95986818877251 %\n",
      "finished  58.84429798752501 %\n",
      "finished  64.7287277862775 %\n",
      "finished  70.61315758503001 %\n",
      "finished  76.4975873837825 %\n",
      "finished  82.38201718253502 %\n",
      "finished  88.26644698128752 %\n",
      "finished  94.15087678004002 %\n",
      "Now processing:  2298d6c36e964ae4a3e7e9706d1fb8c2\n",
      "finished  5.884429798752501 %\n",
      "finished  11.768859597505003 %\n",
      "finished  17.653289396257502 %\n",
      "finished  23.537719195010006 %\n",
      "finished  29.422148993762505 %\n",
      "finished  35.306578792515005 %\n",
      "finished  41.19100859126751 %\n",
      "finished  47.07543839002001 %\n",
      "finished  52.95986818877251 %\n",
      "finished  58.84429798752501 %\n",
      "finished  64.7287277862775 %\n",
      "finished  70.61315758503001 %\n",
      "finished  76.4975873837825 %\n",
      "finished  82.38201718253502 %\n",
      "finished  88.26644698128752 %\n",
      "finished  94.15087678004002 %\n",
      "Now processing:  2906b810c7d4411798c6938adc9daaa5\n",
      "finished  5.884429798752501 %\n",
      "finished  11.768859597505003 %\n",
      "finished  17.653289396257502 %\n",
      "finished  23.537719195010006 %\n",
      "finished  29.422148993762505 %\n",
      "finished  35.306578792515005 %\n",
      "finished  41.19100859126751 %\n",
      "finished  47.07543839002001 %\n",
      "finished  52.95986818877251 %\n",
      "finished  58.84429798752501 %\n",
      "finished  64.7287277862775 %\n",
      "finished  70.61315758503001 %\n",
      "finished  76.4975873837825 %\n",
      "finished  82.38201718253502 %\n",
      "finished  88.26644698128752 %\n",
      "finished  94.15087678004002 %\n",
      "Now processing:  4d5c57ea9a6940dd891ad53e9dbe8da0\n",
      "finished  5.884429798752501 %\n",
      "finished  11.768859597505003 %\n",
      "finished  17.653289396257502 %\n",
      "finished  23.537719195010006 %\n",
      "finished  29.422148993762505 %\n",
      "finished  35.306578792515005 %\n",
      "finished  41.19100859126751 %\n",
      "finished  47.07543839002001 %\n",
      "finished  52.95986818877251 %\n",
      "finished  58.84429798752501 %\n",
      "finished  64.7287277862775 %\n",
      "finished  70.61315758503001 %\n",
      "finished  76.4975873837825 %\n",
      "finished  82.38201718253502 %\n",
      "finished  88.26644698128752 %\n",
      "finished  94.15087678004002 %\n",
      "Now processing:  9b98b8c7a33c4b65b9aebfe6a799e6d9\n",
      "finished  5.884429798752501 %\n",
      "finished  11.768859597505003 %\n",
      "finished  17.653289396257502 %\n",
      "finished  23.537719195010006 %\n",
      "finished  29.422148993762505 %\n",
      "finished  35.306578792515005 %\n",
      "finished  41.19100859126751 %\n",
      "finished  47.07543839002001 %\n",
      "finished  52.95986818877251 %\n",
      "finished  58.84429798752501 %\n",
      "finished  64.7287277862775 %\n",
      "finished  70.61315758503001 %\n",
      "finished  76.4975873837825 %\n",
      "finished  82.38201718253502 %\n",
      "finished  88.26644698128752 %\n",
      "finished  94.15087678004002 %\n",
      "Now processing:  ae264e3637204a6fb9bb56bc8210ddfd\n",
      "finished  5.884429798752501 %\n",
      "finished  11.768859597505003 %\n",
      "finished  17.653289396257502 %\n",
      "finished  23.537719195010006 %\n",
      "finished  29.422148993762505 %\n",
      "finished  35.306578792515005 %\n",
      "finished  41.19100859126751 %\n",
      "finished  47.07543839002001 %\n",
      "finished  52.95986818877251 %\n",
      "finished  58.84429798752501 %\n",
      "finished  64.7287277862775 %\n",
      "finished  70.61315758503001 %\n",
      "finished  76.4975873837825 %\n",
      "finished  82.38201718253502 %\n",
      "finished  88.26644698128752 %\n",
      "finished  94.15087678004002 %\n",
      "Now processing:  f19421c1d4aa40978ebb69ca19b0e20d\n",
      "finished  5.884429798752501 %\n",
      "finished  11.768859597505003 %\n",
      "finished  17.653289396257502 %\n",
      "finished  23.537719195010006 %\n",
      "finished  29.422148993762505 %\n",
      "finished  35.306578792515005 %\n",
      "finished  41.19100859126751 %\n",
      "finished  47.07543839002001 %\n",
      "finished  52.95986818877251 %\n",
      "finished  58.84429798752501 %\n",
      "finished  64.7287277862775 %\n",
      "finished  70.61315758503001 %\n",
      "finished  76.4975873837825 %\n",
      "finished  82.38201718253502 %\n",
      "finished  88.26644698128752 %\n",
      "finished  94.15087678004002 %\n",
      "Now processing:  fafdcd668e3743c1bb461111dcafc2a4\n",
      "finished  5.884429798752501 %\n",
      "finished  11.768859597505003 %\n",
      "finished  17.653289396257502 %\n",
      "finished  23.537719195010006 %\n",
      "finished  29.422148993762505 %\n",
      "finished  35.306578792515005 %\n",
      "finished  41.19100859126751 %\n",
      "finished  47.07543839002001 %\n",
      "finished  52.95986818877251 %\n",
      "finished  58.84429798752501 %\n",
      "finished  64.7287277862775 %\n",
      "finished  70.61315758503001 %\n",
      "finished  76.4975873837825 %\n",
      "finished  82.38201718253502 %\n",
      "finished  88.26644698128752 %\n",
      "finished  94.15087678004002 %\n"
     ]
    }
   ],
   "source": [
    "train_df = create_user_item_matrix(train_offer, 'train_df.p')"
   ]
  },
  {
   "cell_type": "code",
   "execution_count": 120,
   "metadata": {},
   "outputs": [
    {
     "name": "stdout",
     "output_type": "stream",
     "text": [
      "Now processing:  0b1e1539f2cc45b7b9fa7c272da2e1d7\n",
      "finished  5.884429798752501 %\n",
      "finished  11.768859597505003 %\n",
      "finished  17.653289396257502 %\n",
      "finished  23.537719195010006 %\n",
      "finished  29.422148993762505 %\n",
      "finished  35.306578792515005 %\n",
      "finished  41.19100859126751 %\n",
      "finished  47.07543839002001 %\n",
      "finished  52.95986818877251 %\n",
      "finished  58.84429798752501 %\n",
      "finished  64.7287277862775 %\n",
      "finished  70.61315758503001 %\n",
      "finished  76.4975873837825 %\n",
      "finished  82.38201718253502 %\n",
      "finished  88.26644698128752 %\n",
      "Now processing:  2298d6c36e964ae4a3e7e9706d1fb8c2\n",
      "finished  5.884429798752501 %\n",
      "finished  11.768859597505003 %\n",
      "finished  17.653289396257502 %\n",
      "finished  23.537719195010006 %\n",
      "finished  29.422148993762505 %\n",
      "finished  35.306578792515005 %\n",
      "finished  41.19100859126751 %\n",
      "finished  47.07543839002001 %\n",
      "finished  52.95986818877251 %\n",
      "finished  58.84429798752501 %\n",
      "finished  64.7287277862775 %\n",
      "finished  70.61315758503001 %\n",
      "finished  76.4975873837825 %\n",
      "finished  82.38201718253502 %\n",
      "finished  88.26644698128752 %\n",
      "Now processing:  2906b810c7d4411798c6938adc9daaa5\n",
      "finished  5.884429798752501 %\n",
      "finished  11.768859597505003 %\n",
      "finished  17.653289396257502 %\n",
      "finished  23.537719195010006 %\n",
      "finished  29.422148993762505 %\n",
      "finished  35.306578792515005 %\n",
      "finished  41.19100859126751 %\n",
      "finished  47.07543839002001 %\n",
      "finished  52.95986818877251 %\n",
      "finished  58.84429798752501 %\n",
      "finished  64.7287277862775 %\n",
      "finished  70.61315758503001 %\n",
      "finished  76.4975873837825 %\n",
      "finished  82.38201718253502 %\n",
      "finished  88.26644698128752 %\n",
      "Now processing:  4d5c57ea9a6940dd891ad53e9dbe8da0\n",
      "finished  5.884429798752501 %\n",
      "finished  11.768859597505003 %\n",
      "finished  17.653289396257502 %\n",
      "finished  23.537719195010006 %\n",
      "finished  29.422148993762505 %\n",
      "finished  35.306578792515005 %\n",
      "finished  41.19100859126751 %\n",
      "finished  47.07543839002001 %\n",
      "finished  52.95986818877251 %\n",
      "finished  58.84429798752501 %\n",
      "finished  64.7287277862775 %\n",
      "finished  70.61315758503001 %\n",
      "finished  76.4975873837825 %\n",
      "finished  82.38201718253502 %\n",
      "finished  88.26644698128752 %\n",
      "Now processing:  9b98b8c7a33c4b65b9aebfe6a799e6d9\n",
      "finished  5.884429798752501 %\n",
      "finished  11.768859597505003 %\n",
      "finished  17.653289396257502 %\n",
      "finished  23.537719195010006 %\n",
      "finished  29.422148993762505 %\n",
      "finished  35.306578792515005 %\n",
      "finished  41.19100859126751 %\n",
      "finished  47.07543839002001 %\n",
      "finished  52.95986818877251 %\n",
      "finished  58.84429798752501 %\n",
      "finished  64.7287277862775 %\n",
      "finished  70.61315758503001 %\n",
      "finished  76.4975873837825 %\n",
      "finished  82.38201718253502 %\n",
      "finished  88.26644698128752 %\n",
      "Now processing:  ae264e3637204a6fb9bb56bc8210ddfd\n",
      "finished  5.884429798752501 %\n",
      "finished  11.768859597505003 %\n",
      "finished  17.653289396257502 %\n",
      "finished  23.537719195010006 %\n",
      "finished  29.422148993762505 %\n",
      "finished  35.306578792515005 %\n",
      "finished  41.19100859126751 %\n",
      "finished  47.07543839002001 %\n",
      "finished  52.95986818877251 %\n",
      "finished  58.84429798752501 %\n",
      "finished  64.7287277862775 %\n",
      "finished  70.61315758503001 %\n",
      "finished  76.4975873837825 %\n",
      "finished  82.38201718253502 %\n",
      "finished  88.26644698128752 %\n",
      "Now processing:  f19421c1d4aa40978ebb69ca19b0e20d\n",
      "finished  5.884429798752501 %\n",
      "finished  11.768859597505003 %\n",
      "finished  17.653289396257502 %\n",
      "finished  23.537719195010006 %\n",
      "finished  29.422148993762505 %\n",
      "finished  35.306578792515005 %\n",
      "finished  41.19100859126751 %\n",
      "finished  47.07543839002001 %\n",
      "finished  52.95986818877251 %\n",
      "finished  58.84429798752501 %\n",
      "finished  64.7287277862775 %\n",
      "finished  70.61315758503001 %\n",
      "finished  76.4975873837825 %\n",
      "finished  82.38201718253502 %\n",
      "finished  88.26644698128752 %\n",
      "Now processing:  fafdcd668e3743c1bb461111dcafc2a4\n",
      "finished  5.884429798752501 %\n",
      "finished  11.768859597505003 %\n",
      "finished  17.653289396257502 %\n",
      "finished  23.537719195010006 %\n",
      "finished  29.422148993762505 %\n",
      "finished  35.306578792515005 %\n",
      "finished  41.19100859126751 %\n",
      "finished  47.07543839002001 %\n",
      "finished  52.95986818877251 %\n",
      "finished  58.84429798752501 %\n",
      "finished  64.7287277862775 %\n",
      "finished  70.61315758503001 %\n",
      "finished  76.4975873837825 %\n",
      "finished  82.38201718253502 %\n",
      "finished  88.26644698128752 %\n"
     ]
    }
   ],
   "source": [
    "test_df = create_user_item_matrix(test_offer, 'test_df.p')"
   ]
  },
  {
   "cell_type": "code",
   "execution_count": 121,
   "metadata": {},
   "outputs": [],
   "source": [
    "def FunkSVD(complete_mat, latent_features=12, learning_rate=0.0001, iters=100):\n",
    "    '''\n",
    "    This function performs matrix factorization with a basic form of FunkSVD \n",
    "    \n",
    "    INPUT:\n",
    "    complete_mat - a matrix with users as rows, offers as columns, and offer completed as values\n",
    "    latent_features - the number of latent features \n",
    "    learning_rate - learning rate \n",
    "    iters - number of iterations\n",
    "    \n",
    "    OUTPUT:\n",
    "    user_mat - user by latent feature matrix\n",
    "    offer_mat - latent feature by offer matrix\n",
    "    '''\n",
    "    \n",
    "    # Set up useful values to be used through the rest of the function\n",
    "    n_users = complete_mat.shape[0]\n",
    "    n_offers = complete_mat.shape[1]\n",
    "    num_complete = np.count_nonzero(~np.isnan(complete_mat))\n",
    "    \n",
    "    # initialize the user and movie matrices with random values\n",
    "    user_mat = np.random.rand(n_users, latent_features)\n",
    "    offer_mat = np.random.rand(latent_features, n_offers)\n",
    "    \n",
    "    # initialize sse at 0 for first iteration\n",
    "    sse_accum = 0\n",
    "    \n",
    "    # keep track of iteration and MSE\n",
    "    print(\"Optimizaiton Statistics\")\n",
    "    print(\"Iterations | Mean Squared Error \")\n",
    "    \n",
    "    # for each iteration\n",
    "    for iteration in range(iters):\n",
    "\n",
    "        # update our sse\n",
    "        old_sse = sse_accum\n",
    "        sse_accum = 0\n",
    "        \n",
    "        # For each user-offer pair\n",
    "        for i in range(n_users):\n",
    "            for j in range(n_offers):\n",
    "                \n",
    "                # if the rating exists\n",
    "                if complete_mat[i, j] >= 0:\n",
    "                    \n",
    "                    # compute the error as the actual minus the dot product of the user and offer latent features\n",
    "                    diff = complete_mat[i, j] - np.dot(user_mat[i, :], offer_mat[:, j])\n",
    "                    \n",
    "                    # Keep track of the sum of squared errors for the matrix\n",
    "                    sse_accum += diff**2\n",
    "                    \n",
    "                    # update the values in each matrix in the direction of the gradient\n",
    "                    for k in range(latent_features):\n",
    "                        user_mat[i, k] += learning_rate * (2*diff*offer_mat[k, j])\n",
    "                        offer_mat[k, j] += learning_rate * (2*diff*user_mat[i, k])\n",
    "\n",
    "        # print results\n",
    "        print(\"%d \\t\\t %f\" % (iteration+1, sse_accum / num_complete))\n",
    "        \n",
    "    return user_mat, offer_mat"
   ]
  },
  {
   "cell_type": "code",
   "execution_count": 122,
   "metadata": {},
   "outputs": [
    {
     "name": "stdout",
     "output_type": "stream",
     "text": [
      "Optimizaiton Statistics\n",
      "Iterations | Mean Squared Error \n",
      "1 \t\t 0.306436\n",
      "2 \t\t 0.267388\n",
      "3 \t\t 0.267051\n",
      "4 \t\t 0.266695\n",
      "5 \t\t 0.266334\n",
      "6 \t\t 0.265969\n",
      "7 \t\t 0.265599\n",
      "8 \t\t 0.265225\n",
      "9 \t\t 0.264845\n",
      "10 \t\t 0.264459\n",
      "11 \t\t 0.264068\n",
      "12 \t\t 0.263669\n",
      "13 \t\t 0.263264\n",
      "14 \t\t 0.262851\n",
      "15 \t\t 0.262430\n",
      "16 \t\t 0.262000\n",
      "17 \t\t 0.261561\n",
      "18 \t\t 0.261112\n",
      "19 \t\t 0.260652\n",
      "20 \t\t 0.260180\n",
      "21 \t\t 0.259696\n",
      "22 \t\t 0.259199\n",
      "23 \t\t 0.258687\n",
      "24 \t\t 0.258160\n",
      "25 \t\t 0.257617\n",
      "26 \t\t 0.257056\n",
      "27 \t\t 0.256476\n",
      "28 \t\t 0.255877\n",
      "29 \t\t 0.255256\n",
      "30 \t\t 0.254612\n",
      "31 \t\t 0.253945\n",
      "32 \t\t 0.253251\n",
      "33 \t\t 0.252529\n",
      "34 \t\t 0.251778\n",
      "35 \t\t 0.250996\n",
      "36 \t\t 0.250181\n",
      "37 \t\t 0.249331\n",
      "38 \t\t 0.248444\n",
      "39 \t\t 0.247517\n",
      "40 \t\t 0.246548\n",
      "41 \t\t 0.245536\n",
      "42 \t\t 0.244478\n",
      "43 \t\t 0.243371\n",
      "44 \t\t 0.242213\n",
      "45 \t\t 0.241001\n",
      "46 \t\t 0.239734\n",
      "47 \t\t 0.238409\n",
      "48 \t\t 0.237023\n",
      "49 \t\t 0.235574\n",
      "50 \t\t 0.234060\n",
      "51 \t\t 0.232479\n",
      "52 \t\t 0.230828\n",
      "53 \t\t 0.229106\n",
      "54 \t\t 0.227312\n",
      "55 \t\t 0.225444\n",
      "56 \t\t 0.223500\n",
      "57 \t\t 0.221480\n",
      "58 \t\t 0.219383\n",
      "59 \t\t 0.217209\n",
      "60 \t\t 0.214958\n",
      "61 \t\t 0.212630\n",
      "62 \t\t 0.210227\n",
      "63 \t\t 0.207750\n",
      "64 \t\t 0.205200\n",
      "65 \t\t 0.202579\n",
      "66 \t\t 0.199890\n",
      "67 \t\t 0.197136\n",
      "68 \t\t 0.194320\n",
      "69 \t\t 0.191445\n",
      "70 \t\t 0.188516\n",
      "71 \t\t 0.185537\n",
      "72 \t\t 0.182513\n",
      "73 \t\t 0.179447\n",
      "74 \t\t 0.176346\n",
      "75 \t\t 0.173215\n",
      "76 \t\t 0.170058\n",
      "77 \t\t 0.166881\n",
      "78 \t\t 0.163690\n",
      "79 \t\t 0.160490\n",
      "80 \t\t 0.157285\n",
      "81 \t\t 0.154082\n",
      "82 \t\t 0.150885\n",
      "83 \t\t 0.147700\n",
      "84 \t\t 0.144531\n",
      "85 \t\t 0.141382\n",
      "86 \t\t 0.138259\n",
      "87 \t\t 0.135164\n",
      "88 \t\t 0.132102\n",
      "89 \t\t 0.129077\n",
      "90 \t\t 0.126090\n",
      "91 \t\t 0.123147\n",
      "92 \t\t 0.120248\n",
      "93 \t\t 0.117396\n",
      "94 \t\t 0.114594\n",
      "95 \t\t 0.111843\n",
      "96 \t\t 0.109145\n",
      "97 \t\t 0.106500\n",
      "98 \t\t 0.103911\n",
      "99 \t\t 0.101377\n",
      "100 \t\t 0.098899\n",
      "101 \t\t 0.096477\n",
      "102 \t\t 0.094112\n",
      "103 \t\t 0.091803\n",
      "104 \t\t 0.089550\n",
      "105 \t\t 0.087353\n",
      "106 \t\t 0.085212\n",
      "107 \t\t 0.083125\n",
      "108 \t\t 0.081092\n",
      "109 \t\t 0.079112\n",
      "110 \t\t 0.077184\n",
      "111 \t\t 0.075307\n",
      "112 \t\t 0.073481\n",
      "113 \t\t 0.071704\n",
      "114 \t\t 0.069975\n",
      "115 \t\t 0.068293\n",
      "116 \t\t 0.066657\n",
      "117 \t\t 0.065066\n",
      "118 \t\t 0.063518\n",
      "119 \t\t 0.062013\n",
      "120 \t\t 0.060549\n",
      "121 \t\t 0.059125\n",
      "122 \t\t 0.057740\n",
      "123 \t\t 0.056393\n",
      "124 \t\t 0.055083\n",
      "125 \t\t 0.053809\n",
      "126 \t\t 0.052570\n",
      "127 \t\t 0.051364\n",
      "128 \t\t 0.050191\n",
      "129 \t\t 0.049050\n",
      "130 \t\t 0.047940\n",
      "131 \t\t 0.046860\n",
      "132 \t\t 0.045809\n",
      "133 \t\t 0.044787\n",
      "134 \t\t 0.043791\n",
      "135 \t\t 0.042823\n",
      "136 \t\t 0.041880\n",
      "137 \t\t 0.040962\n",
      "138 \t\t 0.040068\n",
      "139 \t\t 0.039198\n",
      "140 \t\t 0.038351\n",
      "141 \t\t 0.037525\n",
      "142 \t\t 0.036722\n",
      "143 \t\t 0.035939\n",
      "144 \t\t 0.035176\n",
      "145 \t\t 0.034433\n",
      "146 \t\t 0.033709\n",
      "147 \t\t 0.033003\n",
      "148 \t\t 0.032315\n",
      "149 \t\t 0.031645\n",
      "150 \t\t 0.030991\n",
      "151 \t\t 0.030354\n",
      "152 \t\t 0.029732\n",
      "153 \t\t 0.029126\n",
      "154 \t\t 0.028534\n",
      "155 \t\t 0.027957\n",
      "156 \t\t 0.027394\n",
      "157 \t\t 0.026844\n",
      "158 \t\t 0.026307\n",
      "159 \t\t 0.025783\n",
      "160 \t\t 0.025271\n",
      "161 \t\t 0.024771\n",
      "162 \t\t 0.024283\n",
      "163 \t\t 0.023806\n",
      "164 \t\t 0.023340\n",
      "165 \t\t 0.022884\n",
      "166 \t\t 0.022438\n",
      "167 \t\t 0.022002\n",
      "168 \t\t 0.021576\n",
      "169 \t\t 0.021159\n",
      "170 \t\t 0.020751\n",
      "171 \t\t 0.020352\n",
      "172 \t\t 0.019961\n",
      "173 \t\t 0.019579\n",
      "174 \t\t 0.019204\n",
      "175 \t\t 0.018837\n",
      "176 \t\t 0.018477\n",
      "177 \t\t 0.018125\n",
      "178 \t\t 0.017780\n",
      "179 \t\t 0.017442\n",
      "180 \t\t 0.017110\n",
      "181 \t\t 0.016785\n",
      "182 \t\t 0.016466\n",
      "183 \t\t 0.016154\n",
      "184 \t\t 0.015847\n",
      "185 \t\t 0.015546\n",
      "186 \t\t 0.015250\n",
      "187 \t\t 0.014961\n",
      "188 \t\t 0.014676\n",
      "189 \t\t 0.014397\n",
      "190 \t\t 0.014123\n",
      "191 \t\t 0.013853\n",
      "192 \t\t 0.013589\n",
      "193 \t\t 0.013329\n",
      "194 \t\t 0.013074\n",
      "195 \t\t 0.012824\n",
      "196 \t\t 0.012578\n",
      "197 \t\t 0.012336\n",
      "198 \t\t 0.012099\n",
      "199 \t\t 0.011865\n",
      "200 \t\t 0.011636\n",
      "201 \t\t 0.011411\n",
      "202 \t\t 0.011189\n",
      "203 \t\t 0.010972\n",
      "204 \t\t 0.010758\n",
      "205 \t\t 0.010548\n",
      "206 \t\t 0.010341\n",
      "207 \t\t 0.010138\n",
      "208 \t\t 0.009939\n",
      "209 \t\t 0.009743\n",
      "210 \t\t 0.009550\n",
      "211 \t\t 0.009361\n",
      "212 \t\t 0.009174\n",
      "213 \t\t 0.008992\n",
      "214 \t\t 0.008812\n",
      "215 \t\t 0.008635\n",
      "216 \t\t 0.008462\n",
      "217 \t\t 0.008291\n",
      "218 \t\t 0.008124\n",
      "219 \t\t 0.007959\n",
      "220 \t\t 0.007797\n",
      "221 \t\t 0.007638\n",
      "222 \t\t 0.007482\n",
      "223 \t\t 0.007329\n",
      "224 \t\t 0.007178\n",
      "225 \t\t 0.007030\n",
      "226 \t\t 0.006885\n",
      "227 \t\t 0.006743\n",
      "228 \t\t 0.006603\n",
      "229 \t\t 0.006465\n",
      "230 \t\t 0.006330\n",
      "231 \t\t 0.006198\n",
      "232 \t\t 0.006068\n",
      "233 \t\t 0.005940\n",
      "234 \t\t 0.005815\n",
      "235 \t\t 0.005692\n",
      "236 \t\t 0.005571\n",
      "237 \t\t 0.005453\n",
      "238 \t\t 0.005336\n",
      "239 \t\t 0.005223\n",
      "240 \t\t 0.005111\n",
      "241 \t\t 0.005001\n",
      "242 \t\t 0.004894\n",
      "243 \t\t 0.004788\n",
      "244 \t\t 0.004685\n",
      "245 \t\t 0.004584\n",
      "246 \t\t 0.004484\n",
      "247 \t\t 0.004387\n",
      "248 \t\t 0.004291\n",
      "249 \t\t 0.004198\n",
      "250 \t\t 0.004106\n"
     ]
    }
   ],
   "source": [
    "# Create user-by-item matrix\n",
    "train_data_np = np.array(train_df)\n",
    "\n",
    "# Fit FunkSVD with the specified hyper parameters to the training data\n",
    "user_mat, offer_mat = FunkSVD(train_data_np, latent_features=15, learning_rate=0.005, iters=250)"
   ]
  },
  {
   "cell_type": "code",
   "execution_count": 123,
   "metadata": {},
   "outputs": [
    {
     "name": "stdout",
     "output_type": "stream",
     "text": [
      "Optimizaiton Statistics\n",
      "Iterations | Mean Squared Error \n",
      "1 \t\t 0.292491\n",
      "2 \t\t 0.266590\n",
      "3 \t\t 0.266123\n",
      "4 \t\t 0.265650\n",
      "5 \t\t 0.265174\n",
      "6 \t\t 0.264696\n",
      "7 \t\t 0.264215\n",
      "8 \t\t 0.263732\n",
      "9 \t\t 0.263245\n",
      "10 \t\t 0.262755\n",
      "11 \t\t 0.262262\n",
      "12 \t\t 0.261765\n",
      "13 \t\t 0.261264\n",
      "14 \t\t 0.260759\n",
      "15 \t\t 0.260250\n",
      "16 \t\t 0.259735\n",
      "17 \t\t 0.259216\n",
      "18 \t\t 0.258691\n",
      "19 \t\t 0.258160\n",
      "20 \t\t 0.257622\n",
      "21 \t\t 0.257078\n",
      "22 \t\t 0.256527\n",
      "23 \t\t 0.255968\n",
      "24 \t\t 0.255400\n",
      "25 \t\t 0.254824\n",
      "26 \t\t 0.254239\n",
      "27 \t\t 0.253643\n",
      "28 \t\t 0.253037\n",
      "29 \t\t 0.252419\n",
      "30 \t\t 0.251789\n",
      "31 \t\t 0.251146\n",
      "32 \t\t 0.250490\n",
      "33 \t\t 0.249818\n",
      "34 \t\t 0.249132\n",
      "35 \t\t 0.248428\n",
      "36 \t\t 0.247707\n",
      "37 \t\t 0.246967\n",
      "38 \t\t 0.246208\n",
      "39 \t\t 0.245427\n",
      "40 \t\t 0.244625\n",
      "41 \t\t 0.243799\n",
      "42 \t\t 0.242949\n",
      "43 \t\t 0.242072\n",
      "44 \t\t 0.241168\n",
      "45 \t\t 0.240235\n",
      "46 \t\t 0.239272\n",
      "47 \t\t 0.238277\n",
      "48 \t\t 0.237249\n",
      "49 \t\t 0.236186\n",
      "50 \t\t 0.235086\n",
      "51 \t\t 0.233949\n",
      "52 \t\t 0.232772\n",
      "53 \t\t 0.231554\n",
      "54 \t\t 0.230294\n",
      "55 \t\t 0.228990\n",
      "56 \t\t 0.227640\n",
      "57 \t\t 0.226244\n",
      "58 \t\t 0.224800\n",
      "59 \t\t 0.223307\n",
      "60 \t\t 0.221764\n",
      "61 \t\t 0.220169\n",
      "62 \t\t 0.218523\n",
      "63 \t\t 0.216823\n",
      "64 \t\t 0.215071\n",
      "65 \t\t 0.213265\n",
      "66 \t\t 0.211406\n",
      "67 \t\t 0.209493\n",
      "68 \t\t 0.207527\n",
      "69 \t\t 0.205508\n",
      "70 \t\t 0.203437\n",
      "71 \t\t 0.201314\n",
      "72 \t\t 0.199141\n",
      "73 \t\t 0.196920\n",
      "74 \t\t 0.194651\n",
      "75 \t\t 0.192336\n",
      "76 \t\t 0.189978\n",
      "77 \t\t 0.187578\n",
      "78 \t\t 0.185139\n",
      "79 \t\t 0.182662\n",
      "80 \t\t 0.180151\n",
      "81 \t\t 0.177608\n",
      "82 \t\t 0.175036\n",
      "83 \t\t 0.172438\n",
      "84 \t\t 0.169815\n",
      "85 \t\t 0.167172\n",
      "86 \t\t 0.164511\n",
      "87 \t\t 0.161835\n",
      "88 \t\t 0.159146\n",
      "89 \t\t 0.156448\n",
      "90 \t\t 0.153743\n",
      "91 \t\t 0.151034\n",
      "92 \t\t 0.148324\n",
      "93 \t\t 0.145614\n",
      "94 \t\t 0.142909\n",
      "95 \t\t 0.140209\n",
      "96 \t\t 0.137517\n",
      "97 \t\t 0.134836\n",
      "98 \t\t 0.132167\n",
      "99 \t\t 0.129514\n",
      "100 \t\t 0.126877\n",
      "101 \t\t 0.124258\n",
      "102 \t\t 0.121660\n",
      "103 \t\t 0.119084\n",
      "104 \t\t 0.116532\n",
      "105 \t\t 0.114005\n",
      "106 \t\t 0.111506\n",
      "107 \t\t 0.109034\n",
      "108 \t\t 0.106592\n",
      "109 \t\t 0.104181\n",
      "110 \t\t 0.101803\n",
      "111 \t\t 0.099457\n",
      "112 \t\t 0.097146\n",
      "113 \t\t 0.094870\n",
      "114 \t\t 0.092630\n",
      "115 \t\t 0.090427\n",
      "116 \t\t 0.088262\n",
      "117 \t\t 0.086134\n",
      "118 \t\t 0.084046\n",
      "119 \t\t 0.081996\n",
      "120 \t\t 0.079987\n",
      "121 \t\t 0.078017\n",
      "122 \t\t 0.076087\n",
      "123 \t\t 0.074197\n",
      "124 \t\t 0.072348\n",
      "125 \t\t 0.070539\n",
      "126 \t\t 0.068770\n",
      "127 \t\t 0.067042\n",
      "128 \t\t 0.065353\n",
      "129 \t\t 0.063704\n",
      "130 \t\t 0.062094\n",
      "131 \t\t 0.060524\n",
      "132 \t\t 0.058991\n",
      "133 \t\t 0.057497\n",
      "134 \t\t 0.056041\n",
      "135 \t\t 0.054622\n",
      "136 \t\t 0.053239\n",
      "137 \t\t 0.051893\n",
      "138 \t\t 0.050581\n",
      "139 \t\t 0.049305\n",
      "140 \t\t 0.048063\n",
      "141 \t\t 0.046854\n",
      "142 \t\t 0.045677\n",
      "143 \t\t 0.044533\n",
      "144 \t\t 0.043421\n",
      "145 \t\t 0.042339\n",
      "146 \t\t 0.041286\n",
      "147 \t\t 0.040264\n",
      "148 \t\t 0.039269\n",
      "149 \t\t 0.038303\n",
      "150 \t\t 0.037363\n",
      "151 \t\t 0.036450\n",
      "152 \t\t 0.035563\n",
      "153 \t\t 0.034700\n",
      "154 \t\t 0.033862\n",
      "155 \t\t 0.033047\n",
      "156 \t\t 0.032255\n",
      "157 \t\t 0.031486\n",
      "158 \t\t 0.030738\n",
      "159 \t\t 0.030011\n",
      "160 \t\t 0.029304\n",
      "161 \t\t 0.028616\n",
      "162 \t\t 0.027948\n",
      "163 \t\t 0.027297\n",
      "164 \t\t 0.026665\n",
      "165 \t\t 0.026050\n",
      "166 \t\t 0.025451\n",
      "167 \t\t 0.024869\n",
      "168 \t\t 0.024301\n",
      "169 \t\t 0.023749\n",
      "170 \t\t 0.023212\n",
      "171 \t\t 0.022688\n",
      "172 \t\t 0.022177\n",
      "173 \t\t 0.021680\n",
      "174 \t\t 0.021195\n",
      "175 \t\t 0.020722\n",
      "176 \t\t 0.020261\n",
      "177 \t\t 0.019811\n",
      "178 \t\t 0.019372\n",
      "179 \t\t 0.018944\n",
      "180 \t\t 0.018526\n",
      "181 \t\t 0.018117\n",
      "182 \t\t 0.017718\n",
      "183 \t\t 0.017328\n",
      "184 \t\t 0.016947\n",
      "185 \t\t 0.016574\n",
      "186 \t\t 0.016209\n",
      "187 \t\t 0.015853\n",
      "188 \t\t 0.015504\n",
      "189 \t\t 0.015163\n",
      "190 \t\t 0.014829\n",
      "191 \t\t 0.014502\n",
      "192 \t\t 0.014182\n",
      "193 \t\t 0.013868\n",
      "194 \t\t 0.013561\n",
      "195 \t\t 0.013260\n",
      "196 \t\t 0.012965\n",
      "197 \t\t 0.012676\n",
      "198 \t\t 0.012393\n",
      "199 \t\t 0.012116\n",
      "200 \t\t 0.011844\n",
      "201 \t\t 0.011577\n",
      "202 \t\t 0.011316\n",
      "203 \t\t 0.011060\n",
      "204 \t\t 0.010809\n",
      "205 \t\t 0.010562\n",
      "206 \t\t 0.010321\n",
      "207 \t\t 0.010084\n",
      "208 \t\t 0.009852\n",
      "209 \t\t 0.009625\n",
      "210 \t\t 0.009402\n",
      "211 \t\t 0.009183\n",
      "212 \t\t 0.008969\n",
      "213 \t\t 0.008759\n",
      "214 \t\t 0.008553\n",
      "215 \t\t 0.008351\n",
      "216 \t\t 0.008153\n",
      "217 \t\t 0.007960\n",
      "218 \t\t 0.007770\n",
      "219 \t\t 0.007584\n",
      "220 \t\t 0.007402\n",
      "221 \t\t 0.007224\n",
      "222 \t\t 0.007049\n",
      "223 \t\t 0.006878\n",
      "224 \t\t 0.006711\n",
      "225 \t\t 0.006547\n",
      "226 \t\t 0.006386\n",
      "227 \t\t 0.006229\n",
      "228 \t\t 0.006076\n",
      "229 \t\t 0.005926\n",
      "230 \t\t 0.005779\n",
      "231 \t\t 0.005635\n",
      "232 \t\t 0.005494\n",
      "233 \t\t 0.005357\n",
      "234 \t\t 0.005223\n",
      "235 \t\t 0.005091\n",
      "236 \t\t 0.004963\n",
      "237 \t\t 0.004838\n",
      "238 \t\t 0.004715\n",
      "239 \t\t 0.004595\n",
      "240 \t\t 0.004479\n",
      "241 \t\t 0.004364\n",
      "242 \t\t 0.004253\n",
      "243 \t\t 0.004144\n",
      "244 \t\t 0.004038\n",
      "245 \t\t 0.003934\n",
      "246 \t\t 0.003833\n",
      "247 \t\t 0.003734\n",
      "248 \t\t 0.003638\n",
      "249 \t\t 0.003544\n",
      "250 \t\t 0.003453\n"
     ]
    }
   ],
   "source": [
    "# Test for the best number of latent feature. (n = 10)\n",
    "user_mat_10, offer_mat_10 = FunkSVD(train_data_np, latent_features=10, learning_rate=0.005, iters=250)"
   ]
  },
  {
   "cell_type": "code",
   "execution_count": 124,
   "metadata": {},
   "outputs": [
    {
     "name": "stdout",
     "output_type": "stream",
     "text": [
      "Optimizaiton Statistics\n",
      "Iterations | Mean Squared Error \n",
      "1 \t\t 0.278699\n",
      "2 \t\t 0.268091\n",
      "3 \t\t 0.267246\n",
      "4 \t\t 0.266395\n",
      "5 \t\t 0.265543\n",
      "6 \t\t 0.264691\n",
      "7 \t\t 0.263836\n",
      "8 \t\t 0.262981\n",
      "9 \t\t 0.262124\n",
      "10 \t\t 0.261266\n",
      "11 \t\t 0.260406\n",
      "12 \t\t 0.259545\n",
      "13 \t\t 0.258682\n",
      "14 \t\t 0.257817\n",
      "15 \t\t 0.256951\n",
      "16 \t\t 0.256082\n",
      "17 \t\t 0.255211\n",
      "18 \t\t 0.254338\n",
      "19 \t\t 0.253463\n",
      "20 \t\t 0.252584\n",
      "21 \t\t 0.251703\n",
      "22 \t\t 0.250820\n",
      "23 \t\t 0.249932\n",
      "24 \t\t 0.249042\n",
      "25 \t\t 0.248148\n",
      "26 \t\t 0.247249\n",
      "27 \t\t 0.246347\n",
      "28 \t\t 0.245440\n",
      "29 \t\t 0.244529\n",
      "30 \t\t 0.243613\n",
      "31 \t\t 0.242691\n",
      "32 \t\t 0.241763\n",
      "33 \t\t 0.240830\n",
      "34 \t\t 0.239890\n",
      "35 \t\t 0.238943\n",
      "36 \t\t 0.237989\n",
      "37 \t\t 0.237028\n",
      "38 \t\t 0.236059\n",
      "39 \t\t 0.235081\n",
      "40 \t\t 0.234094\n",
      "41 \t\t 0.233098\n",
      "42 \t\t 0.232093\n",
      "43 \t\t 0.231077\n",
      "44 \t\t 0.230051\n",
      "45 \t\t 0.229013\n",
      "46 \t\t 0.227964\n",
      "47 \t\t 0.226903\n",
      "48 \t\t 0.225829\n",
      "49 \t\t 0.224743\n",
      "50 \t\t 0.223643\n",
      "51 \t\t 0.222529\n",
      "52 \t\t 0.221401\n",
      "53 \t\t 0.220258\n",
      "54 \t\t 0.219100\n",
      "55 \t\t 0.217927\n",
      "56 \t\t 0.216738\n",
      "57 \t\t 0.215532\n",
      "58 \t\t 0.214311\n",
      "59 \t\t 0.213073\n",
      "60 \t\t 0.211818\n",
      "61 \t\t 0.210546\n",
      "62 \t\t 0.209258\n",
      "63 \t\t 0.207952\n",
      "64 \t\t 0.206629\n",
      "65 \t\t 0.205290\n",
      "66 \t\t 0.203933\n",
      "67 \t\t 0.202560\n",
      "68 \t\t 0.201171\n",
      "69 \t\t 0.199766\n",
      "70 \t\t 0.198345\n",
      "71 \t\t 0.196908\n",
      "72 \t\t 0.195458\n",
      "73 \t\t 0.193992\n",
      "74 \t\t 0.192514\n",
      "75 \t\t 0.191022\n",
      "76 \t\t 0.189519\n",
      "77 \t\t 0.188004\n",
      "78 \t\t 0.186478\n",
      "79 \t\t 0.184943\n",
      "80 \t\t 0.183399\n",
      "81 \t\t 0.181847\n",
      "82 \t\t 0.180287\n",
      "83 \t\t 0.178722\n",
      "84 \t\t 0.177152\n",
      "85 \t\t 0.175578\n",
      "86 \t\t 0.174000\n",
      "87 \t\t 0.172420\n",
      "88 \t\t 0.170839\n",
      "89 \t\t 0.169257\n",
      "90 \t\t 0.167676\n",
      "91 \t\t 0.166097\n",
      "92 \t\t 0.164519\n",
      "93 \t\t 0.162945\n",
      "94 \t\t 0.161374\n",
      "95 \t\t 0.159808\n",
      "96 \t\t 0.158247\n",
      "97 \t\t 0.156692\n",
      "98 \t\t 0.155144\n",
      "99 \t\t 0.153602\n",
      "100 \t\t 0.152068\n",
      "101 \t\t 0.150542\n",
      "102 \t\t 0.149025\n",
      "103 \t\t 0.147516\n",
      "104 \t\t 0.146016\n",
      "105 \t\t 0.144525\n",
      "106 \t\t 0.143044\n",
      "107 \t\t 0.141573\n",
      "108 \t\t 0.140112\n",
      "109 \t\t 0.138661\n",
      "110 \t\t 0.137220\n",
      "111 \t\t 0.135789\n",
      "112 \t\t 0.134368\n",
      "113 \t\t 0.132958\n",
      "114 \t\t 0.131557\n",
      "115 \t\t 0.130167\n",
      "116 \t\t 0.128787\n",
      "117 \t\t 0.127416\n",
      "118 \t\t 0.126056\n",
      "119 \t\t 0.124705\n",
      "120 \t\t 0.123363\n",
      "121 \t\t 0.122031\n",
      "122 \t\t 0.120708\n",
      "123 \t\t 0.119393\n",
      "124 \t\t 0.118088\n",
      "125 \t\t 0.116791\n",
      "126 \t\t 0.115502\n",
      "127 \t\t 0.114221\n",
      "128 \t\t 0.112949\n",
      "129 \t\t 0.111684\n",
      "130 \t\t 0.110426\n",
      "131 \t\t 0.109176\n",
      "132 \t\t 0.107934\n",
      "133 \t\t 0.106698\n",
      "134 \t\t 0.105469\n",
      "135 \t\t 0.104247\n",
      "136 \t\t 0.103031\n",
      "137 \t\t 0.101822\n",
      "138 \t\t 0.100619\n",
      "139 \t\t 0.099422\n",
      "140 \t\t 0.098231\n",
      "141 \t\t 0.097047\n",
      "142 \t\t 0.095868\n",
      "143 \t\t 0.094696\n",
      "144 \t\t 0.093529\n",
      "145 \t\t 0.092369\n",
      "146 \t\t 0.091215\n",
      "147 \t\t 0.090066\n",
      "148 \t\t 0.088924\n",
      "149 \t\t 0.087788\n",
      "150 \t\t 0.086658\n",
      "151 \t\t 0.085535\n",
      "152 \t\t 0.084418\n",
      "153 \t\t 0.083308\n",
      "154 \t\t 0.082204\n",
      "155 \t\t 0.081108\n",
      "156 \t\t 0.080019\n",
      "157 \t\t 0.078937\n",
      "158 \t\t 0.077862\n",
      "159 \t\t 0.076796\n",
      "160 \t\t 0.075737\n",
      "161 \t\t 0.074686\n",
      "162 \t\t 0.073644\n",
      "163 \t\t 0.072611\n",
      "164 \t\t 0.071586\n",
      "165 \t\t 0.070571\n",
      "166 \t\t 0.069564\n",
      "167 \t\t 0.068568\n",
      "168 \t\t 0.067581\n",
      "169 \t\t 0.066604\n",
      "170 \t\t 0.065638\n",
      "171 \t\t 0.064682\n",
      "172 \t\t 0.063736\n",
      "173 \t\t 0.062802\n",
      "174 \t\t 0.061878\n",
      "175 \t\t 0.060966\n",
      "176 \t\t 0.060065\n",
      "177 \t\t 0.059176\n",
      "178 \t\t 0.058298\n",
      "179 \t\t 0.057432\n",
      "180 \t\t 0.056578\n",
      "181 \t\t 0.055737\n",
      "182 \t\t 0.054907\n",
      "183 \t\t 0.054090\n",
      "184 \t\t 0.053284\n",
      "185 \t\t 0.052492\n",
      "186 \t\t 0.051711\n",
      "187 \t\t 0.050943\n",
      "188 \t\t 0.050187\n",
      "189 \t\t 0.049444\n",
      "190 \t\t 0.048713\n",
      "191 \t\t 0.047995\n",
      "192 \t\t 0.047288\n",
      "193 \t\t 0.046594\n",
      "194 \t\t 0.045912\n",
      "195 \t\t 0.045242\n",
      "196 \t\t 0.044584\n",
      "197 \t\t 0.043938\n",
      "198 \t\t 0.043304\n",
      "199 \t\t 0.042681\n",
      "200 \t\t 0.042070\n",
      "201 \t\t 0.041470\n",
      "202 \t\t 0.040882\n",
      "203 \t\t 0.040304\n",
      "204 \t\t 0.039737\n",
      "205 \t\t 0.039182\n",
      "206 \t\t 0.038636\n",
      "207 \t\t 0.038101\n",
      "208 \t\t 0.037576\n",
      "209 \t\t 0.037062\n",
      "210 \t\t 0.036557\n",
      "211 \t\t 0.036062\n",
      "212 \t\t 0.035576\n",
      "213 \t\t 0.035100\n",
      "214 \t\t 0.034632\n",
      "215 \t\t 0.034174\n",
      "216 \t\t 0.033724\n",
      "217 \t\t 0.033283\n",
      "218 \t\t 0.032851\n",
      "219 \t\t 0.032426\n",
      "220 \t\t 0.032010\n",
      "221 \t\t 0.031601\n",
      "222 \t\t 0.031200\n",
      "223 \t\t 0.030806\n",
      "224 \t\t 0.030420\n",
      "225 \t\t 0.030041\n",
      "226 \t\t 0.029668\n",
      "227 \t\t 0.029303\n",
      "228 \t\t 0.028944\n",
      "229 \t\t 0.028591\n",
      "230 \t\t 0.028245\n",
      "231 \t\t 0.027905\n",
      "232 \t\t 0.027571\n",
      "233 \t\t 0.027243\n",
      "234 \t\t 0.026921\n",
      "235 \t\t 0.026604\n",
      "236 \t\t 0.026292\n",
      "237 \t\t 0.025986\n",
      "238 \t\t 0.025685\n",
      "239 \t\t 0.025389\n",
      "240 \t\t 0.025097\n",
      "241 \t\t 0.024811\n",
      "242 \t\t 0.024529\n",
      "243 \t\t 0.024252\n",
      "244 \t\t 0.023980\n",
      "245 \t\t 0.023711\n",
      "246 \t\t 0.023447\n",
      "247 \t\t 0.023187\n",
      "248 \t\t 0.022931\n",
      "249 \t\t 0.022679\n",
      "250 \t\t 0.022431\n"
     ]
    }
   ],
   "source": [
    "# Test for the best number of latent feature. (n = 5)\n",
    "user_mat_5, offer_mat_5 = FunkSVD(train_data_np, latent_features=5, learning_rate=0.005, iters=250)"
   ]
  },
  {
   "cell_type": "code",
   "execution_count": 125,
   "metadata": {},
   "outputs": [],
   "source": [
    "def predict_reaction(user_matrix, offer_matrix, user_id, offer_id):\n",
    "    '''\n",
    "    make predictions for how users react on offers\n",
    "    \n",
    "    INPUT:\n",
    "    user_matrix - user by latent factor matrix\n",
    "    offer_matrix - latent factor by offer matrix\n",
    "    user_id - the user_id from the reviews df\n",
    "    offer_id - the offer_id according the offers df\n",
    "    \n",
    "    OUTPUT:\n",
    "    pred - the predicted reaction for user_id-offer_id according to FunkSVD\n",
    "    '''\n",
    "    try:\n",
    "        # Use the training data to create a series of users that matches the ordering in training data\n",
    "        user_ids_series = np.array(train_df.index)\n",
    "        offer_ids_series = np.array(train_df.columns)\n",
    "\n",
    "        # User row and offer Column\n",
    "        user_row = np.where(user_ids_series == user_id)[0][0]\n",
    "        offer_col = np.where(offer_ids_series == offer_id)[0][0]\n",
    "\n",
    "        # Take dot product of that row and column in U and V to make prediction\n",
    "        pred = np.dot(user_matrix[user_row, :], offer_matrix[:, offer_col])\n",
    "        \n",
    "        return pred\n",
    "    \n",
    "    except:\n",
    "        #print(\"Prediction cannot be made for this user-offer pair.\")\n",
    "    \n",
    "        return None"
   ]
  },
  {
   "cell_type": "code",
   "execution_count": 126,
   "metadata": {},
   "outputs": [],
   "source": [
    "def validate(test_df, user_mat, offer_mat):\n",
    "    '''Measure the squared errors for the prediction'''\n",
    "    num_complete = np.count_nonzero(~np.isnan(test_df))\n",
    "    \n",
    "    sse_accum = 0\n",
    "    \n",
    "    for user_id in test_df.index:\n",
    "        for offer_id in test_df.columns:\n",
    "            if ~np.isnan(test_df.loc[user_id, offer_id]):\n",
    "                predict_value = predict_reaction(user_mat, offer_mat, user_id, offer_id)\n",
    "                if predict_value != None:\n",
    "                    # compute the error as the actual minus the dot product of the user and offer latent features\n",
    "                    diff = test_df.loc[user_id, offer_id] - predict_reaction(user_mat, offer_mat, user_id, offer_id)\n",
    "\n",
    "                    # Keep track of the sum of squared errors for the matrix\n",
    "                    sse_accum += diff**2\n",
    "    \n",
    "    print(sse_accum / num_complete)"
   ]
  },
  {
   "cell_type": "code",
   "execution_count": 127,
   "metadata": {},
   "outputs": [
    {
     "name": "stdout",
     "output_type": "stream",
     "text": [
      "0.32872352067436855\n"
     ]
    }
   ],
   "source": [
    "validate(test_df, user_mat, offer_mat)"
   ]
  },
  {
   "cell_type": "code",
   "execution_count": 128,
   "metadata": {},
   "outputs": [
    {
     "name": "stdout",
     "output_type": "stream",
     "text": [
      "0.33127392574773235\n"
     ]
    }
   ],
   "source": [
    "validate(test_df, user_mat_10, offer_mat_10)"
   ]
  },
  {
   "cell_type": "code",
   "execution_count": 129,
   "metadata": {},
   "outputs": [
    {
     "name": "stdout",
     "output_type": "stream",
     "text": [
      "0.3204016456725092\n"
     ]
    }
   ],
   "source": [
    "validate(test_df, user_mat_5, offer_mat_5)"
   ]
  },
  {
   "cell_type": "code",
   "execution_count": 144,
   "metadata": {},
   "outputs": [],
   "source": [
    "def recommendation_offer(user_id, user_mat, offer_mat):\n",
    "    recommend = {}\n",
    "    for offer_id in train_df.columns:\n",
    "        pred_val = predict_reaction(user_mat, offer_mat, user_id, offer_id)\n",
    "        if pred_val != None:\n",
    "            recommend[offer_id] = pred_val\n",
    "        else:\n",
    "            break\n",
    "    if pred_val == None:\n",
    "        print(\"Because this user wasn't in our database, we are giving back the top best sale offer recommendations for all users.\")\n",
    "        top_offer = best_sale_offer(full_df)\n",
    "        for offer_id in top_offer['offer_id']:\n",
    "            print(\"offer id: \", offer_id)\n",
    "    else:\n",
    "        print(\"recommend offer for user \", user_id)\n",
    "        for offer_id, pred_val in sorted(recommend.items(), key=lambda kv:(kv[1], kv[0]), reverse=True):\n",
    "            print(\"offer id: \", offer_id, \" predicted value: \", round(pred_val,2))"
   ]
  },
  {
   "cell_type": "code",
   "execution_count": 145,
   "metadata": {},
   "outputs": [
    {
     "name": "stdout",
     "output_type": "stream",
     "text": [
      "recommend offer for user  0610b486422d4921ae7d2bf64640c50b\n",
      "offer id:  2298d6c36e964ae4a3e7e9706d1fb8c2  predicted value:  0.89\n",
      "offer id:  fafdcd668e3743c1bb461111dcafc2a4  predicted value:  0.73\n",
      "offer id:  f19421c1d4aa40978ebb69ca19b0e20d  predicted value:  0.27\n",
      "offer id:  0b1e1539f2cc45b7b9fa7c272da2e1d7  predicted value:  0.26\n",
      "offer id:  4d5c57ea9a6940dd891ad53e9dbe8da0  predicted value:  0.22\n",
      "offer id:  9b98b8c7a33c4b65b9aebfe6a799e6d9  predicted value:  0.07\n",
      "offer id:  ae264e3637204a6fb9bb56bc8210ddfd  predicted value:  -0.04\n",
      "offer id:  2906b810c7d4411798c6938adc9daaa5  predicted value:  -0.19\n"
     ]
    }
   ],
   "source": [
    "recommendation_offer('0610b486422d4921ae7d2bf64640c50b', user_mat, offer_mat)"
   ]
  },
  {
   "cell_type": "code",
   "execution_count": 146,
   "metadata": {},
   "outputs": [
    {
     "name": "stdout",
     "output_type": "stream",
     "text": [
      "Because this user wasn't in our database, we are giving back the top best sale offer recommendations for all users.\n",
      "                           offer_id       gain\n",
      "7  fafdcd668e3743c1bb461111dcafc2a4  596220.84\n",
      "1  2298d6c36e964ae4a3e7e9706d1fb8c2  538027.98\n",
      "6  f19421c1d4aa40978ebb69ca19b0e20d  480555.03\n",
      "3  4d5c57ea9a6940dd891ad53e9dbe8da0  441918.93\n",
      "5  ae264e3637204a6fb9bb56bc8210ddfd  423683.27\n",
      "2  2906b810c7d4411798c6938adc9daaa5  305568.42\n",
      "4  9b98b8c7a33c4b65b9aebfe6a799e6d9  304361.77\n",
      "0  0b1e1539f2cc45b7b9fa7c272da2e1d7  218905.94\n",
      "offer id:  fafdcd668e3743c1bb461111dcafc2a4\n",
      "offer id:  2298d6c36e964ae4a3e7e9706d1fb8c2\n",
      "offer id:  f19421c1d4aa40978ebb69ca19b0e20d\n",
      "offer id:  4d5c57ea9a6940dd891ad53e9dbe8da0\n",
      "offer id:  ae264e3637204a6fb9bb56bc8210ddfd\n",
      "offer id:  2906b810c7d4411798c6938adc9daaa5\n",
      "offer id:  9b98b8c7a33c4b65b9aebfe6a799e6d9\n",
      "offer id:  0b1e1539f2cc45b7b9fa7c272da2e1d7\n"
     ]
    },
    {
     "data": {
      "image/png": "[encoded data removed]",
      "text/plain": [
       "<Figure size 432x288 with 1 Axes>"
      ]
     },
     "metadata": {},
     "output_type": "display_data"
    }
   ],
   "source": [
    "recommendation_offer('new_user', user_mat, offer_mat)"
   ]
  },
  {
   "cell_type": "code",
   "execution_count": 133,
   "metadata": {},
   "outputs": [],
   "source": [
    "def gender_offer(full_df):\n",
    "    '''\n",
    "    Find out which type of offer (bogo/discount) attracts most to different gender\n",
    "    Return with a plotted bar chart\n",
    "    '''\n",
    "    \n",
    "    # initialize the gender response and the gender sent dataframe\n",
    "    gender_response = pd.DataFrame(data=[[0,0],[0,0],[0,0]], index=['M', 'F', 'O'], columns=['bogo', 'discount'])\n",
    "    gender_sent = pd.DataFrame(data=[[0,0],[0,0],[0,0]], index=['M', 'F', 'O'], columns=['bogo', 'discount'])\n",
    "\n",
    "    # We count the number of offer completed base on the customer gender\n",
    "    for offer_type in ['bogo', 'discount']:\n",
    "        for offer_id in portfolio[portfolio['offer_type']==offer_type]['id']:\n",
    "            # count the total number of customers responsed our offers.\n",
    "            gender_response[offer_type] = gender_response[offer_type].add(profile[profile['id'].isin(full_df[full_df[offer_id]>0].index)]['gender'].value_counts(), fill_value=0)\n",
    "            # count the total number of offer sent\n",
    "            gender_sent[offer_type] = gender_sent[offer_type].add(profile[profile['id'].isin(full_df[full_df[offer_id]>=0].index)]['gender'].value_counts(), fill_value=0)\n",
    "        \n",
    "    gender_offer = (gender_response / gender_sent * 100).plot(kind='bar', title='Percentage of customer response')\n",
    "    gender_offer.set_xlabel(\"Gender\")\n",
    "    gender_offer.set_ylabel(\"Percentage\")"
   ]
  },
  {
   "cell_type": "code",
   "execution_count": 134,
   "metadata": {},
   "outputs": [
    {
     "data": {
      "image/png": "[encoded data removed]",
      "text/plain": [
       "<Figure size 432x288 with 1 Axes>"
      ]
     },
     "metadata": {},
     "output_type": "display_data"
    }
   ],
   "source": [
    "gender_offer(full_df)"
   ]
  },
  {
   "cell_type": "code",
   "execution_count": 141,
   "metadata": {},
   "outputs": [],
   "source": [
    "\n",
    "def best_sale_offer(user_item_matrix):\n",
    "    # Find out which offer sells the best\n",
    "\n",
    "    offer_gain = []\n",
    "    for offer_id in user_item_matrix.columns:\n",
    "        offer_gain.append([offer_id, transcript[(transcript['person'].isin(list(user_item_matrix[user_item_matrix[offer_id]>=1].index)))&(transcript['event']=='transaction')]['value'].apply(lambda x: x['amount']).sum()])\n",
    "\n",
    "    offer_value = pd.DataFrame(offer_gain, columns=['offer_id', 'gain'])\n",
    "    offer_value['gain'] = pd.to_numeric(offer_value['gain'])\n",
    "    offer_value.sort_values(by='gain', ascending=False, inplace=True)\n",
    "    print(offer_value)\n",
    "    \n",
    "    best_sale = offer_value.plot(kind='bar', title='Sale Amount of Different Offers')\n",
    "    best_sale.set_xlabel('Offer number')\n",
    "    best_sale.set_ylabel('Sale Amount')\n",
    "    \n",
    "    return offer_value"
   ]
  },
  {
   "cell_type": "code",
   "execution_count": 142,
   "metadata": {},
   "outputs": [
    {
     "name": "stdout",
     "output_type": "stream",
     "text": [
      "                           offer_id       gain\n",
      "7  fafdcd668e3743c1bb461111dcafc2a4  596220.84\n",
      "1  2298d6c36e964ae4a3e7e9706d1fb8c2  538027.98\n",
      "6  f19421c1d4aa40978ebb69ca19b0e20d  480555.03\n",
      "3  4d5c57ea9a6940dd891ad53e9dbe8da0  441918.93\n",
      "5  ae264e3637204a6fb9bb56bc8210ddfd  423683.27\n",
      "2  2906b810c7d4411798c6938adc9daaa5  305568.42\n",
      "4  9b98b8c7a33c4b65b9aebfe6a799e6d9  304361.77\n",
      "0  0b1e1539f2cc45b7b9fa7c272da2e1d7  218905.94\n"
     ]
    },
    {
     "data": {
      "text/html": [
       "<div>\n",
       "<style scoped>\n",
       "    .dataframe tbody tr th:only-of-type {\n",
       "        vertical-align: middle;\n",
       "    }\n",
       "\n",
       "    .dataframe tbody tr th {\n",
       "        vertical-align: top;\n",
       "    }\n",
       "\n",
       "    .dataframe thead th {\n",
       "        text-align: right;\n",
       "    }\n",
       "</style>\n",
       "<table border=\"1\" class=\"dataframe\">\n",
       "  <thead>\n",
       "    <tr style=\"text-align: right;\">\n",
       "      <th></th>\n",
       "      <th>offer_id</th>\n",
       "      <th>gain</th>\n",
       "    </tr>\n",
       "  </thead>\n",
       "  <tbody>\n",
       "    <tr>\n",
       "      <td>7</td>\n",
       "      <td>fafdcd668e3743c1bb461111dcafc2a4</td>\n",
       "      <td>596220.84</td>\n",
       "    </tr>\n",
       "    <tr>\n",
       "      <td>1</td>\n",
       "      <td>2298d6c36e964ae4a3e7e9706d1fb8c2</td>\n",
       "      <td>538027.98</td>\n",
       "    </tr>\n",
       "    <tr>\n",
       "      <td>6</td>\n",
       "      <td>f19421c1d4aa40978ebb69ca19b0e20d</td>\n",
       "      <td>480555.03</td>\n",
       "    </tr>\n",
       "    <tr>\n",
       "      <td>3</td>\n",
       "      <td>4d5c57ea9a6940dd891ad53e9dbe8da0</td>\n",
       "      <td>441918.93</td>\n",
       "    </tr>\n",
       "    <tr>\n",
       "      <td>5</td>\n",
       "      <td>ae264e3637204a6fb9bb56bc8210ddfd</td>\n",
       "      <td>423683.27</td>\n",
       "    </tr>\n",
       "    <tr>\n",
       "      <td>2</td>\n",
       "      <td>2906b810c7d4411798c6938adc9daaa5</td>\n",
       "      <td>305568.42</td>\n",
       "    </tr>\n",
       "    <tr>\n",
       "      <td>4</td>\n",
       "      <td>9b98b8c7a33c4b65b9aebfe6a799e6d9</td>\n",
       "      <td>304361.77</td>\n",
       "    </tr>\n",
       "    <tr>\n",
       "      <td>0</td>\n",
       "      <td>0b1e1539f2cc45b7b9fa7c272da2e1d7</td>\n",
       "      <td>218905.94</td>\n",
       "    </tr>\n",
       "  </tbody>\n",
       "</table>\n",
       "</div>"
      ],
      "text/plain": [
       "                           offer_id       gain\n",
       "7  fafdcd668e3743c1bb461111dcafc2a4  596220.84\n",
       "1  2298d6c36e964ae4a3e7e9706d1fb8c2  538027.98\n",
       "6  f19421c1d4aa40978ebb69ca19b0e20d  480555.03\n",
       "3  4d5c57ea9a6940dd891ad53e9dbe8da0  441918.93\n",
       "5  ae264e3637204a6fb9bb56bc8210ddfd  423683.27\n",
       "2  2906b810c7d4411798c6938adc9daaa5  305568.42\n",
       "4  9b98b8c7a33c4b65b9aebfe6a799e6d9  304361.77\n",
       "0  0b1e1539f2cc45b7b9fa7c272da2e1d7  218905.94"
      ]
     },
     "execution_count": 142,
     "metadata": {},
     "output_type": "execute_result"
    },
    {
     "data": {
      "image/png": "[encoded data removed]",
      "text/plain": [
       "<Figure size 432x288 with 1 Axes>"
      ]
     },
     "metadata": {},
     "output_type": "display_data"
    }
   ],
   "source": [
    "best_sale_offer(full_df)"
   ]
  }
 ],
 "metadata": {
  "kernelspec": {
   "display_name": "Python 3",
   "language": "python",
   "name": "python3"
  },
  "language_info": {
   "codemirror_mode": {
    "name": "ipython",
    "version": 3
   },
   "file_extension": ".py",
   "mimetype": "text/x-python",
   "name": "python",
   "nbconvert_exporter": "python",
   "pygments_lexer": "ipython3",
   "version": "3.7.4"
  }
 },
 "nbformat": 4,
 "nbformat_minor": 2
}
