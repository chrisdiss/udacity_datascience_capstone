{
 "cells": [
  {
   "cell_type": "markdown",
   "metadata": {},
   "source": [
    "## Starbucks Capstone Challenge\n",
    "### Introduction\n",
    "This data set contains simulated data that mimics customer behavior on the Starbucks rewards mobile app. Once every few days, Starbucks sends out an offer to users of the mobile app. An offer can be merely an advertisement for a drink or an actual offer such as a discount or BOGO (buy one get one free). Some users might not receive any offer during certain weeks.\n",
    "\n",
    "Not all users receive the same offer, and that is the challenge to solve with this data set.\n",
    "\n",
    "Your task is to combine transaction, demographic and offer data to determine which demographic groups respond best to which offer type. This data set is a simplified version of the real Starbucks app because the underlying simulator only has one product whereas Starbucks actually sells dozens of products.\n",
    "\n",
    "Every offer has a validity period before the offer expires. As an example, a BOGO offer might be valid for only 5 days. You'll see in the data set that informational offers have a validity period even though these ads are merely providing information about a product; for example, if an informational offer has 7 days of validity, you can assume the customer is feeling the influence of the offer for 7 days after receiving the advertisement.\n",
    "\n",
    "You'll be given transactional data showing user purchases made on the app including the timestamp of purchase and the amount of money spent on a purchase. This transactional data also has a record for each offer that a user receives as well as a record for when a user actually views the offer. There are also records for when a user completes an offer.\n",
    "\n",
    "Keep in mind as well that someone using the app might make a purchase through the app without having received an offer or seen an offer.\n",
    "\n",
    "### Example\n",
    "To give an example, a user could receive a discount offer buy 10 dollars get 2 off on Monday. The offer is valid for 10 days from receipt. If the customer accumulates at least 10 dollars in purchases during the validity period, the customer completes the offer.\n",
    "\n",
    "However, there are a few things to watch out for in this data set. Customers do not opt into the offers that they receive; in other words, a user can receive an offer, never actually view the offer, and still complete the offer. For example, a user might receive the \"buy 10 dollars get 2 dollars off offer\", but the user never opens the offer during the 10 day validity period. The customer spends 15 dollars during those ten days. There will be an offer completion record in the data set; however, the customer was not influenced by the offer because the customer never viewed the offer.\n",
    "\n",
    "### Cleaning\n",
    "This makes data cleaning especially important and tricky.\n",
    "\n",
    "You'll also want to take into account that some demographic groups will make purchases even if they don't receive an offer. From a business perspective, if a customer is going to make a 10 dollar purchase without an offer anyway, you wouldn't want to send a buy 10 dollars get 2 dollars off offer. You'll want to try to assess what a certain demographic group will buy when not receiving any offers.\n",
    "\n",
    "### Final Advice\n",
    "Because this is a capstone project, you are free to analyze the data any way you see fit. For example, you could build a machine learning model that predicts how much someone will spend based on demographics and offer type. Or you could build a model that predicts whether or not someone will respond to an offer. Or, you don't need to build a machine learning model at all. You could develop a set of heuristics that determine what offer you should send to each customer (i.e., 75 percent of women customers who were 35 years old responded to offer A vs 40 percent from the same demographic to offer B, so send offer A)."
   ]
  },
  {
   "cell_type": "markdown",
   "metadata": {},
   "source": [
    "### Data Sets\n",
    "The data is contained in three files:\n",
    "\n",
    "portfolio.json - containing offer ids and meta data about each offer (duration, type, etc.)<br>\n",
    "profile.json - demographic data for each customer<br>\n",
    "transcript.json - records for transactions, offers received, offers viewed, and offers completed<br>\n",
    "\n",
    "Here is the schema and explanation of each variable in the files:\n",
    "\n",
    "\n",
    "#### portfolio.json\n",
    "\n",
    "id (string) - offer id <br>\n",
    "offer_type (string) - type of offer ie BOGO, discount, informational<br>\n",
    "difficulty (int) - minimum required spend to complete an offer<br>\n",
    "reward (int) - reward given for completing an offer<br>\n",
    "duration (int) - time for offer to be open, in days<br>\n",
    "channels (list of strings)<br>\n",
    "#### profile.json\n",
    "\n",
    "age (int) - age of the customer<br>\n",
    "became_member_on (int) - date when customer created an app account<br>\n",
    "gender (str) - gender of the customer (note some entries contain 'O' for other rather than M or F)<br>\n",
    "id (str) - customer id<br>\n",
    "income (float) - customer's income<br>\n",
    "#### transcript.json\n",
    "\n",
    "event (str) - record description (ie transaction, offer received, offer viewed, etc.)<br>\n",
    "person (str) - customer id<br>\n",
    "time (int) - time in hours since start of test. The data begins at time t=0<br>\n",
    "value - (dict of strings) - either an offer id or transaction amount depending on the record<br>\n",
    "\n",
    "Note: If you are using the workspace, you will need to go to the terminal and run the command conda update pandas before reading in the files. This is because the version of pandas in the workspace cannot read in the transcript.json file correctly, but the newest version of pandas can. You can access the termnal from the orange icon in the top left of this notebook."
   ]
  },
  {
   "cell_type": "markdown",
   "metadata": {},
   "source": [
    "# Project"
   ]
  },
  {
   "cell_type": "markdown",
   "metadata": {},
   "source": [
    "### Objective & overview\n",
    "Goal of the project is to analyze data from Starbucks about their consumer behaviour regarding to certain offer strategies. It should be analyzed which offer strategies apply to which group of customers best, if there is a significant difference between groups. With this in mind Starbucks could gain insights about the way how to best promote and offer coupons and increase the efficacy of such offers.\n",
    "\n",
    "First, it is necessary to get familiar with the data and to perform some data wrangling and cleaning. After this some descriptive and some more advanced statistical analyses will be done to find possible insights in the data. The insights will be supported with useful visualizations. The single steps will be explained in detail below."
   ]
  },
  {
   "cell_type": "code",
   "execution_count": 1,
   "metadata": {},
   "outputs": [],
   "source": [
    "# Importing libraries\n",
    "import pandas as pd\n",
    "import numpy as np\n",
    "import matplotlib.pyplot as plt\n",
    "import seaborn as sns\n",
    "import math\n",
    "import json\n",
    "%matplotlib inline"
   ]
  },
  {
   "cell_type": "code",
   "execution_count": 2,
   "metadata": {},
   "outputs": [],
   "source": [
    "import pickle\n",
    "from sklearn import preprocessing\n",
    "from sklearn.model_selection import train_test_split, GridSearchCV, RandomizedSearchCV,cross_val_score, learning_curve\n",
    "from sklearn.ensemble import RandomForestClassifier, AdaBoostClassifier, GradientBoostingClassifier\n",
    "from sklearn.metrics import accuracy_score, classification_report, confusion_matrix, roc_auc_score"
   ]
  },
  {
   "cell_type": "code",
   "execution_count": 3,
   "metadata": {},
   "outputs": [],
   "source": [
    "# Import data\n",
    "portfolio = pd.read_json('data/portfolio.json', orient='records', lines=True)\n",
    "profile = pd.read_json('data/profile.json', orient='records', lines=True)\n",
    "transcript = pd.read_json('data/transcript.json', orient='records', lines=True)"
   ]
  },
  {
   "cell_type": "markdown",
   "metadata": {},
   "source": [
    "## Data Wrangling & Cleaning"
   ]
  },
  {
   "cell_type": "code",
   "execution_count": 4,
   "metadata": {},
   "outputs": [
    {
     "data": {
      "text/html": [
       "<div>\n",
       "<style scoped>\n",
       "    .dataframe tbody tr th:only-of-type {\n",
       "        vertical-align: middle;\n",
       "    }\n",
       "\n",
       "    .dataframe tbody tr th {\n",
       "        vertical-align: top;\n",
       "    }\n",
       "\n",
       "    .dataframe thead th {\n",
       "        text-align: right;\n",
       "    }\n",
       "</style>\n",
       "<table border=\"1\" class=\"dataframe\">\n",
       "  <thead>\n",
       "    <tr style=\"text-align: right;\">\n",
       "      <th></th>\n",
       "      <th>reward</th>\n",
       "      <th>channels</th>\n",
       "      <th>difficulty</th>\n",
       "      <th>duration</th>\n",
       "      <th>offer_type</th>\n",
       "      <th>id</th>\n",
       "    </tr>\n",
       "  </thead>\n",
       "  <tbody>\n",
       "    <tr>\n",
       "      <td>0</td>\n",
       "      <td>10</td>\n",
       "      <td>[email, mobile, social]</td>\n",
       "      <td>10</td>\n",
       "      <td>7</td>\n",
       "      <td>bogo</td>\n",
       "      <td>ae264e3637204a6fb9bb56bc8210ddfd</td>\n",
       "    </tr>\n",
       "    <tr>\n",
       "      <td>1</td>\n",
       "      <td>10</td>\n",
       "      <td>[web, email, mobile, social]</td>\n",
       "      <td>10</td>\n",
       "      <td>5</td>\n",
       "      <td>bogo</td>\n",
       "      <td>4d5c57ea9a6940dd891ad53e9dbe8da0</td>\n",
       "    </tr>\n",
       "    <tr>\n",
       "      <td>2</td>\n",
       "      <td>0</td>\n",
       "      <td>[web, email, mobile]</td>\n",
       "      <td>0</td>\n",
       "      <td>4</td>\n",
       "      <td>informational</td>\n",
       "      <td>3f207df678b143eea3cee63160fa8bed</td>\n",
       "    </tr>\n",
       "    <tr>\n",
       "      <td>3</td>\n",
       "      <td>5</td>\n",
       "      <td>[web, email, mobile]</td>\n",
       "      <td>5</td>\n",
       "      <td>7</td>\n",
       "      <td>bogo</td>\n",
       "      <td>9b98b8c7a33c4b65b9aebfe6a799e6d9</td>\n",
       "    </tr>\n",
       "    <tr>\n",
       "      <td>4</td>\n",
       "      <td>5</td>\n",
       "      <td>[web, email]</td>\n",
       "      <td>20</td>\n",
       "      <td>10</td>\n",
       "      <td>discount</td>\n",
       "      <td>0b1e1539f2cc45b7b9fa7c272da2e1d7</td>\n",
       "    </tr>\n",
       "  </tbody>\n",
       "</table>\n",
       "</div>"
      ],
      "text/plain": [
       "   reward                      channels  difficulty  duration     offer_type  \\\n",
       "0      10       [email, mobile, social]          10         7           bogo   \n",
       "1      10  [web, email, mobile, social]          10         5           bogo   \n",
       "2       0          [web, email, mobile]           0         4  informational   \n",
       "3       5          [web, email, mobile]           5         7           bogo   \n",
       "4       5                  [web, email]          20        10       discount   \n",
       "\n",
       "                                 id  \n",
       "0  ae264e3637204a6fb9bb56bc8210ddfd  \n",
       "1  4d5c57ea9a6940dd891ad53e9dbe8da0  \n",
       "2  3f207df678b143eea3cee63160fa8bed  \n",
       "3  9b98b8c7a33c4b65b9aebfe6a799e6d9  \n",
       "4  0b1e1539f2cc45b7b9fa7c272da2e1d7  "
      ]
     },
     "execution_count": 4,
     "metadata": {},
     "output_type": "execute_result"
    }
   ],
   "source": [
    "# get overview of the data\n",
    "portfolio.head()"
   ]
  },
  {
   "cell_type": "code",
   "execution_count": 5,
   "metadata": {},
   "outputs": [
    {
     "name": "stdout",
     "output_type": "stream",
     "text": [
      "<class 'pandas.core.frame.DataFrame'>\n",
      "RangeIndex: 10 entries, 0 to 9\n",
      "Data columns (total 6 columns):\n",
      "reward        10 non-null int64\n",
      "channels      10 non-null object\n",
      "difficulty    10 non-null int64\n",
      "duration      10 non-null int64\n",
      "offer_type    10 non-null object\n",
      "id            10 non-null object\n",
      "dtypes: int64(3), object(3)\n",
      "memory usage: 608.0+ bytes\n"
     ]
    }
   ],
   "source": [
    "portfolio.info()"
   ]
  },
  {
   "cell_type": "code",
   "execution_count": 6,
   "metadata": {},
   "outputs": [
    {
     "data": {
      "text/html": [
       "<div>\n",
       "<style scoped>\n",
       "    .dataframe tbody tr th:only-of-type {\n",
       "        vertical-align: middle;\n",
       "    }\n",
       "\n",
       "    .dataframe tbody tr th {\n",
       "        vertical-align: top;\n",
       "    }\n",
       "\n",
       "    .dataframe thead th {\n",
       "        text-align: right;\n",
       "    }\n",
       "</style>\n",
       "<table border=\"1\" class=\"dataframe\">\n",
       "  <thead>\n",
       "    <tr style=\"text-align: right;\">\n",
       "      <th></th>\n",
       "      <th>reward</th>\n",
       "      <th>difficulty</th>\n",
       "      <th>duration</th>\n",
       "    </tr>\n",
       "  </thead>\n",
       "  <tbody>\n",
       "    <tr>\n",
       "      <td>count</td>\n",
       "      <td>10.000000</td>\n",
       "      <td>10.000000</td>\n",
       "      <td>10.000000</td>\n",
       "    </tr>\n",
       "    <tr>\n",
       "      <td>mean</td>\n",
       "      <td>4.200000</td>\n",
       "      <td>7.700000</td>\n",
       "      <td>6.500000</td>\n",
       "    </tr>\n",
       "    <tr>\n",
       "      <td>std</td>\n",
       "      <td>3.583915</td>\n",
       "      <td>5.831905</td>\n",
       "      <td>2.321398</td>\n",
       "    </tr>\n",
       "    <tr>\n",
       "      <td>min</td>\n",
       "      <td>0.000000</td>\n",
       "      <td>0.000000</td>\n",
       "      <td>3.000000</td>\n",
       "    </tr>\n",
       "    <tr>\n",
       "      <td>25%</td>\n",
       "      <td>2.000000</td>\n",
       "      <td>5.000000</td>\n",
       "      <td>5.000000</td>\n",
       "    </tr>\n",
       "    <tr>\n",
       "      <td>50%</td>\n",
       "      <td>4.000000</td>\n",
       "      <td>8.500000</td>\n",
       "      <td>7.000000</td>\n",
       "    </tr>\n",
       "    <tr>\n",
       "      <td>75%</td>\n",
       "      <td>5.000000</td>\n",
       "      <td>10.000000</td>\n",
       "      <td>7.000000</td>\n",
       "    </tr>\n",
       "    <tr>\n",
       "      <td>max</td>\n",
       "      <td>10.000000</td>\n",
       "      <td>20.000000</td>\n",
       "      <td>10.000000</td>\n",
       "    </tr>\n",
       "  </tbody>\n",
       "</table>\n",
       "</div>"
      ],
      "text/plain": [
       "          reward  difficulty   duration\n",
       "count  10.000000   10.000000  10.000000\n",
       "mean    4.200000    7.700000   6.500000\n",
       "std     3.583915    5.831905   2.321398\n",
       "min     0.000000    0.000000   3.000000\n",
       "25%     2.000000    5.000000   5.000000\n",
       "50%     4.000000    8.500000   7.000000\n",
       "75%     5.000000   10.000000   7.000000\n",
       "max    10.000000   20.000000  10.000000"
      ]
     },
     "execution_count": 6,
     "metadata": {},
     "output_type": "execute_result"
    }
   ],
   "source": [
    "portfolio.describe()"
   ]
  },
  {
   "cell_type": "code",
   "execution_count": 7,
   "metadata": {},
   "outputs": [
    {
     "data": {
      "text/html": [
       "<div>\n",
       "<style scoped>\n",
       "    .dataframe tbody tr th:only-of-type {\n",
       "        vertical-align: middle;\n",
       "    }\n",
       "\n",
       "    .dataframe tbody tr th {\n",
       "        vertical-align: top;\n",
       "    }\n",
       "\n",
       "    .dataframe thead th {\n",
       "        text-align: right;\n",
       "    }\n",
       "</style>\n",
       "<table border=\"1\" class=\"dataframe\">\n",
       "  <thead>\n",
       "    <tr style=\"text-align: right;\">\n",
       "      <th></th>\n",
       "      <th>gender</th>\n",
       "      <th>age</th>\n",
       "      <th>id</th>\n",
       "      <th>became_member_on</th>\n",
       "      <th>income</th>\n",
       "    </tr>\n",
       "  </thead>\n",
       "  <tbody>\n",
       "    <tr>\n",
       "      <td>0</td>\n",
       "      <td>None</td>\n",
       "      <td>118</td>\n",
       "      <td>68be06ca386d4c31939f3a4f0e3dd783</td>\n",
       "      <td>20170212</td>\n",
       "      <td>NaN</td>\n",
       "    </tr>\n",
       "    <tr>\n",
       "      <td>1</td>\n",
       "      <td>F</td>\n",
       "      <td>55</td>\n",
       "      <td>0610b486422d4921ae7d2bf64640c50b</td>\n",
       "      <td>20170715</td>\n",
       "      <td>112000.0</td>\n",
       "    </tr>\n",
       "    <tr>\n",
       "      <td>2</td>\n",
       "      <td>None</td>\n",
       "      <td>118</td>\n",
       "      <td>38fe809add3b4fcf9315a9694bb96ff5</td>\n",
       "      <td>20180712</td>\n",
       "      <td>NaN</td>\n",
       "    </tr>\n",
       "    <tr>\n",
       "      <td>3</td>\n",
       "      <td>F</td>\n",
       "      <td>75</td>\n",
       "      <td>78afa995795e4d85b5d9ceeca43f5fef</td>\n",
       "      <td>20170509</td>\n",
       "      <td>100000.0</td>\n",
       "    </tr>\n",
       "    <tr>\n",
       "      <td>4</td>\n",
       "      <td>None</td>\n",
       "      <td>118</td>\n",
       "      <td>a03223e636434f42ac4c3df47e8bac43</td>\n",
       "      <td>20170804</td>\n",
       "      <td>NaN</td>\n",
       "    </tr>\n",
       "  </tbody>\n",
       "</table>\n",
       "</div>"
      ],
      "text/plain": [
       "  gender  age                                id  became_member_on    income\n",
       "0   None  118  68be06ca386d4c31939f3a4f0e3dd783          20170212       NaN\n",
       "1      F   55  0610b486422d4921ae7d2bf64640c50b          20170715  112000.0\n",
       "2   None  118  38fe809add3b4fcf9315a9694bb96ff5          20180712       NaN\n",
       "3      F   75  78afa995795e4d85b5d9ceeca43f5fef          20170509  100000.0\n",
       "4   None  118  a03223e636434f42ac4c3df47e8bac43          20170804       NaN"
      ]
     },
     "execution_count": 7,
     "metadata": {},
     "output_type": "execute_result"
    }
   ],
   "source": [
    "# get overview of the data\n",
    "profile.head()"
   ]
  },
  {
   "cell_type": "code",
   "execution_count": 8,
   "metadata": {},
   "outputs": [
    {
     "name": "stdout",
     "output_type": "stream",
     "text": [
      "<class 'pandas.core.frame.DataFrame'>\n",
      "RangeIndex: 17000 entries, 0 to 16999\n",
      "Data columns (total 5 columns):\n",
      "gender              14825 non-null object\n",
      "age                 17000 non-null int64\n",
      "id                  17000 non-null object\n",
      "became_member_on    17000 non-null int64\n",
      "income              14825 non-null float64\n",
      "dtypes: float64(1), int64(2), object(2)\n",
      "memory usage: 664.2+ KB\n"
     ]
    }
   ],
   "source": [
    "profile.info()"
   ]
  },
  {
   "cell_type": "code",
   "execution_count": 9,
   "metadata": {},
   "outputs": [
    {
     "data": {
      "text/html": [
       "<div>\n",
       "<style scoped>\n",
       "    .dataframe tbody tr th:only-of-type {\n",
       "        vertical-align: middle;\n",
       "    }\n",
       "\n",
       "    .dataframe tbody tr th {\n",
       "        vertical-align: top;\n",
       "    }\n",
       "\n",
       "    .dataframe thead th {\n",
       "        text-align: right;\n",
       "    }\n",
       "</style>\n",
       "<table border=\"1\" class=\"dataframe\">\n",
       "  <thead>\n",
       "    <tr style=\"text-align: right;\">\n",
       "      <th></th>\n",
       "      <th>age</th>\n",
       "      <th>became_member_on</th>\n",
       "      <th>income</th>\n",
       "    </tr>\n",
       "  </thead>\n",
       "  <tbody>\n",
       "    <tr>\n",
       "      <td>count</td>\n",
       "      <td>17000.000000</td>\n",
       "      <td>1.700000e+04</td>\n",
       "      <td>14825.000000</td>\n",
       "    </tr>\n",
       "    <tr>\n",
       "      <td>mean</td>\n",
       "      <td>62.531412</td>\n",
       "      <td>2.016703e+07</td>\n",
       "      <td>65404.991568</td>\n",
       "    </tr>\n",
       "    <tr>\n",
       "      <td>std</td>\n",
       "      <td>26.738580</td>\n",
       "      <td>1.167750e+04</td>\n",
       "      <td>21598.299410</td>\n",
       "    </tr>\n",
       "    <tr>\n",
       "      <td>min</td>\n",
       "      <td>18.000000</td>\n",
       "      <td>2.013073e+07</td>\n",
       "      <td>30000.000000</td>\n",
       "    </tr>\n",
       "    <tr>\n",
       "      <td>25%</td>\n",
       "      <td>45.000000</td>\n",
       "      <td>2.016053e+07</td>\n",
       "      <td>49000.000000</td>\n",
       "    </tr>\n",
       "    <tr>\n",
       "      <td>50%</td>\n",
       "      <td>58.000000</td>\n",
       "      <td>2.017080e+07</td>\n",
       "      <td>64000.000000</td>\n",
       "    </tr>\n",
       "    <tr>\n",
       "      <td>75%</td>\n",
       "      <td>73.000000</td>\n",
       "      <td>2.017123e+07</td>\n",
       "      <td>80000.000000</td>\n",
       "    </tr>\n",
       "    <tr>\n",
       "      <td>max</td>\n",
       "      <td>118.000000</td>\n",
       "      <td>2.018073e+07</td>\n",
       "      <td>120000.000000</td>\n",
       "    </tr>\n",
       "  </tbody>\n",
       "</table>\n",
       "</div>"
      ],
      "text/plain": [
       "                age  became_member_on         income\n",
       "count  17000.000000      1.700000e+04   14825.000000\n",
       "mean      62.531412      2.016703e+07   65404.991568\n",
       "std       26.738580      1.167750e+04   21598.299410\n",
       "min       18.000000      2.013073e+07   30000.000000\n",
       "25%       45.000000      2.016053e+07   49000.000000\n",
       "50%       58.000000      2.017080e+07   64000.000000\n",
       "75%       73.000000      2.017123e+07   80000.000000\n",
       "max      118.000000      2.018073e+07  120000.000000"
      ]
     },
     "execution_count": 9,
     "metadata": {},
     "output_type": "execute_result"
    }
   ],
   "source": [
    "profile.describe()"
   ]
  },
  {
   "cell_type": "code",
   "execution_count": 10,
   "metadata": {},
   "outputs": [
    {
     "data": {
      "text/html": [
       "<div>\n",
       "<style scoped>\n",
       "    .dataframe tbody tr th:only-of-type {\n",
       "        vertical-align: middle;\n",
       "    }\n",
       "\n",
       "    .dataframe tbody tr th {\n",
       "        vertical-align: top;\n",
       "    }\n",
       "\n",
       "    .dataframe thead th {\n",
       "        text-align: right;\n",
       "    }\n",
       "</style>\n",
       "<table border=\"1\" class=\"dataframe\">\n",
       "  <thead>\n",
       "    <tr style=\"text-align: right;\">\n",
       "      <th></th>\n",
       "      <th>person</th>\n",
       "      <th>event</th>\n",
       "      <th>value</th>\n",
       "      <th>time</th>\n",
       "    </tr>\n",
       "  </thead>\n",
       "  <tbody>\n",
       "    <tr>\n",
       "      <td>0</td>\n",
       "      <td>78afa995795e4d85b5d9ceeca43f5fef</td>\n",
       "      <td>offer received</td>\n",
       "      <td>{'offer id': '9b98b8c7a33c4b65b9aebfe6a799e6d9'}</td>\n",
       "      <td>0</td>\n",
       "    </tr>\n",
       "    <tr>\n",
       "      <td>1</td>\n",
       "      <td>a03223e636434f42ac4c3df47e8bac43</td>\n",
       "      <td>offer received</td>\n",
       "      <td>{'offer id': '0b1e1539f2cc45b7b9fa7c272da2e1d7'}</td>\n",
       "      <td>0</td>\n",
       "    </tr>\n",
       "    <tr>\n",
       "      <td>2</td>\n",
       "      <td>e2127556f4f64592b11af22de27a7932</td>\n",
       "      <td>offer received</td>\n",
       "      <td>{'offer id': '2906b810c7d4411798c6938adc9daaa5'}</td>\n",
       "      <td>0</td>\n",
       "    </tr>\n",
       "    <tr>\n",
       "      <td>3</td>\n",
       "      <td>8ec6ce2a7e7949b1bf142def7d0e0586</td>\n",
       "      <td>offer received</td>\n",
       "      <td>{'offer id': 'fafdcd668e3743c1bb461111dcafc2a4'}</td>\n",
       "      <td>0</td>\n",
       "    </tr>\n",
       "    <tr>\n",
       "      <td>4</td>\n",
       "      <td>68617ca6246f4fbc85e91a2a49552598</td>\n",
       "      <td>offer received</td>\n",
       "      <td>{'offer id': '4d5c57ea9a6940dd891ad53e9dbe8da0'}</td>\n",
       "      <td>0</td>\n",
       "    </tr>\n",
       "  </tbody>\n",
       "</table>\n",
       "</div>"
      ],
      "text/plain": [
       "                             person           event  \\\n",
       "0  78afa995795e4d85b5d9ceeca43f5fef  offer received   \n",
       "1  a03223e636434f42ac4c3df47e8bac43  offer received   \n",
       "2  e2127556f4f64592b11af22de27a7932  offer received   \n",
       "3  8ec6ce2a7e7949b1bf142def7d0e0586  offer received   \n",
       "4  68617ca6246f4fbc85e91a2a49552598  offer received   \n",
       "\n",
       "                                              value  time  \n",
       "0  {'offer id': '9b98b8c7a33c4b65b9aebfe6a799e6d9'}     0  \n",
       "1  {'offer id': '0b1e1539f2cc45b7b9fa7c272da2e1d7'}     0  \n",
       "2  {'offer id': '2906b810c7d4411798c6938adc9daaa5'}     0  \n",
       "3  {'offer id': 'fafdcd668e3743c1bb461111dcafc2a4'}     0  \n",
       "4  {'offer id': '4d5c57ea9a6940dd891ad53e9dbe8da0'}     0  "
      ]
     },
     "execution_count": 10,
     "metadata": {},
     "output_type": "execute_result"
    }
   ],
   "source": [
    "# get overview of the data\n",
    "transcript.head()"
   ]
  },
  {
   "cell_type": "code",
   "execution_count": 11,
   "metadata": {},
   "outputs": [
    {
     "name": "stdout",
     "output_type": "stream",
     "text": [
      "<class 'pandas.core.frame.DataFrame'>\n",
      "RangeIndex: 306534 entries, 0 to 306533\n",
      "Data columns (total 4 columns):\n",
      "person    306534 non-null object\n",
      "event     306534 non-null object\n",
      "value     306534 non-null object\n",
      "time      306534 non-null int64\n",
      "dtypes: int64(1), object(3)\n",
      "memory usage: 9.4+ MB\n"
     ]
    }
   ],
   "source": [
    "transcript.info()"
   ]
  },
  {
   "cell_type": "code",
   "execution_count": 12,
   "metadata": {},
   "outputs": [
    {
     "data": {
      "text/html": [
       "<div>\n",
       "<style scoped>\n",
       "    .dataframe tbody tr th:only-of-type {\n",
       "        vertical-align: middle;\n",
       "    }\n",
       "\n",
       "    .dataframe tbody tr th {\n",
       "        vertical-align: top;\n",
       "    }\n",
       "\n",
       "    .dataframe thead th {\n",
       "        text-align: right;\n",
       "    }\n",
       "</style>\n",
       "<table border=\"1\" class=\"dataframe\">\n",
       "  <thead>\n",
       "    <tr style=\"text-align: right;\">\n",
       "      <th></th>\n",
       "      <th>time</th>\n",
       "    </tr>\n",
       "  </thead>\n",
       "  <tbody>\n",
       "    <tr>\n",
       "      <td>count</td>\n",
       "      <td>306534.000000</td>\n",
       "    </tr>\n",
       "    <tr>\n",
       "      <td>mean</td>\n",
       "      <td>366.382940</td>\n",
       "    </tr>\n",
       "    <tr>\n",
       "      <td>std</td>\n",
       "      <td>200.326314</td>\n",
       "    </tr>\n",
       "    <tr>\n",
       "      <td>min</td>\n",
       "      <td>0.000000</td>\n",
       "    </tr>\n",
       "    <tr>\n",
       "      <td>25%</td>\n",
       "      <td>186.000000</td>\n",
       "    </tr>\n",
       "    <tr>\n",
       "      <td>50%</td>\n",
       "      <td>408.000000</td>\n",
       "    </tr>\n",
       "    <tr>\n",
       "      <td>75%</td>\n",
       "      <td>528.000000</td>\n",
       "    </tr>\n",
       "    <tr>\n",
       "      <td>max</td>\n",
       "      <td>714.000000</td>\n",
       "    </tr>\n",
       "  </tbody>\n",
       "</table>\n",
       "</div>"
      ],
      "text/plain": [
       "                time\n",
       "count  306534.000000\n",
       "mean      366.382940\n",
       "std       200.326314\n",
       "min         0.000000\n",
       "25%       186.000000\n",
       "50%       408.000000\n",
       "75%       528.000000\n",
       "max       714.000000"
      ]
     },
     "execution_count": 12,
     "metadata": {},
     "output_type": "execute_result"
    }
   ],
   "source": [
    "transcript.describe()"
   ]
  },
  {
   "cell_type": "markdown",
   "metadata": {},
   "source": [
    "### clean portfolio data set\n",
    "\n",
    "- create a copy of the original dataframe for further implementation\n",
    "- convert the column 'Channels' into 4 different columns on the basis of different types of channel\n",
    "- rename the column name from 'ID' to 'offer_id'"
   ]
  },
  {
   "cell_type": "code",
   "execution_count": 13,
   "metadata": {},
   "outputs": [],
   "source": [
    "df_portfolio = portfolio.copy()"
   ]
  },
  {
   "cell_type": "code",
   "execution_count": 14,
   "metadata": {},
   "outputs": [],
   "source": [
    "dummy = pd.get_dummies(df_portfolio.channels.apply(pd.Series).stack()).sum(level=0)\n",
    "df_portfolio = pd.concat([df_portfolio, dummy], axis=1)\n",
    "df_portfolio = df_portfolio.drop(columns='channels')"
   ]
  },
  {
   "cell_type": "code",
   "execution_count": 15,
   "metadata": {},
   "outputs": [],
   "source": [
    "df_portfolio = df_portfolio.rename(columns={'id':'offer_id'})"
   ]
  },
  {
   "cell_type": "code",
   "execution_count": 16,
   "metadata": {
    "scrolled": true
   },
   "outputs": [
    {
     "data": {
      "text/html": [
       "<div>\n",
       "<style scoped>\n",
       "    .dataframe tbody tr th:only-of-type {\n",
       "        vertical-align: middle;\n",
       "    }\n",
       "\n",
       "    .dataframe tbody tr th {\n",
       "        vertical-align: top;\n",
       "    }\n",
       "\n",
       "    .dataframe thead th {\n",
       "        text-align: right;\n",
       "    }\n",
       "</style>\n",
       "<table border=\"1\" class=\"dataframe\">\n",
       "  <thead>\n",
       "    <tr style=\"text-align: right;\">\n",
       "      <th></th>\n",
       "      <th>reward</th>\n",
       "      <th>difficulty</th>\n",
       "      <th>duration</th>\n",
       "      <th>offer_type</th>\n",
       "      <th>offer_id</th>\n",
       "      <th>email</th>\n",
       "      <th>mobile</th>\n",
       "      <th>social</th>\n",
       "      <th>web</th>\n",
       "    </tr>\n",
       "  </thead>\n",
       "  <tbody>\n",
       "    <tr>\n",
       "      <td>0</td>\n",
       "      <td>10</td>\n",
       "      <td>10</td>\n",
       "      <td>7</td>\n",
       "      <td>bogo</td>\n",
       "      <td>ae264e3637204a6fb9bb56bc8210ddfd</td>\n",
       "      <td>1</td>\n",
       "      <td>1</td>\n",
       "      <td>1</td>\n",
       "      <td>0</td>\n",
       "    </tr>\n",
       "    <tr>\n",
       "      <td>1</td>\n",
       "      <td>10</td>\n",
       "      <td>10</td>\n",
       "      <td>5</td>\n",
       "      <td>bogo</td>\n",
       "      <td>4d5c57ea9a6940dd891ad53e9dbe8da0</td>\n",
       "      <td>1</td>\n",
       "      <td>1</td>\n",
       "      <td>1</td>\n",
       "      <td>1</td>\n",
       "    </tr>\n",
       "    <tr>\n",
       "      <td>2</td>\n",
       "      <td>0</td>\n",
       "      <td>0</td>\n",
       "      <td>4</td>\n",
       "      <td>informational</td>\n",
       "      <td>3f207df678b143eea3cee63160fa8bed</td>\n",
       "      <td>1</td>\n",
       "      <td>1</td>\n",
       "      <td>0</td>\n",
       "      <td>1</td>\n",
       "    </tr>\n",
       "    <tr>\n",
       "      <td>3</td>\n",
       "      <td>5</td>\n",
       "      <td>5</td>\n",
       "      <td>7</td>\n",
       "      <td>bogo</td>\n",
       "      <td>9b98b8c7a33c4b65b9aebfe6a799e6d9</td>\n",
       "      <td>1</td>\n",
       "      <td>1</td>\n",
       "      <td>0</td>\n",
       "      <td>1</td>\n",
       "    </tr>\n",
       "    <tr>\n",
       "      <td>4</td>\n",
       "      <td>5</td>\n",
       "      <td>20</td>\n",
       "      <td>10</td>\n",
       "      <td>discount</td>\n",
       "      <td>0b1e1539f2cc45b7b9fa7c272da2e1d7</td>\n",
       "      <td>1</td>\n",
       "      <td>0</td>\n",
       "      <td>0</td>\n",
       "      <td>1</td>\n",
       "    </tr>\n",
       "  </tbody>\n",
       "</table>\n",
       "</div>"
      ],
      "text/plain": [
       "   reward  difficulty  duration     offer_type  \\\n",
       "0      10          10         7           bogo   \n",
       "1      10          10         5           bogo   \n",
       "2       0           0         4  informational   \n",
       "3       5           5         7           bogo   \n",
       "4       5          20        10       discount   \n",
       "\n",
       "                           offer_id  email  mobile  social  web  \n",
       "0  ae264e3637204a6fb9bb56bc8210ddfd      1       1       1    0  \n",
       "1  4d5c57ea9a6940dd891ad53e9dbe8da0      1       1       1    1  \n",
       "2  3f207df678b143eea3cee63160fa8bed      1       1       0    1  \n",
       "3  9b98b8c7a33c4b65b9aebfe6a799e6d9      1       1       0    1  \n",
       "4  0b1e1539f2cc45b7b9fa7c272da2e1d7      1       0       0    1  "
      ]
     },
     "execution_count": 16,
     "metadata": {},
     "output_type": "execute_result"
    }
   ],
   "source": [
    "df_portfolio.head()"
   ]
  },
  {
   "cell_type": "markdown",
   "metadata": {},
   "source": [
    "### clean profile data set\n",
    "\n",
    "- convert the datatype of 'became_member_on' column and sort the date into proper format\n",
    "- change the column name from 'ID' to 'customer_id'"
   ]
  },
  {
   "cell_type": "code",
   "execution_count": 17,
   "metadata": {},
   "outputs": [],
   "source": [
    "df_profile = profile.copy()"
   ]
  },
  {
   "cell_type": "code",
   "execution_count": 18,
   "metadata": {},
   "outputs": [],
   "source": [
    "df_profile['became_member_on'] = pd.to_datetime(df_profile['became_member_on'], format='%Y%m%d')\n",
    "df_profile = df_profile.rename(columns={'id':'customer_id'})"
   ]
  },
  {
   "cell_type": "code",
   "execution_count": 19,
   "metadata": {
    "scrolled": true
   },
   "outputs": [
    {
     "data": {
      "text/html": [
       "<div>\n",
       "<style scoped>\n",
       "    .dataframe tbody tr th:only-of-type {\n",
       "        vertical-align: middle;\n",
       "    }\n",
       "\n",
       "    .dataframe tbody tr th {\n",
       "        vertical-align: top;\n",
       "    }\n",
       "\n",
       "    .dataframe thead th {\n",
       "        text-align: right;\n",
       "    }\n",
       "</style>\n",
       "<table border=\"1\" class=\"dataframe\">\n",
       "  <thead>\n",
       "    <tr style=\"text-align: right;\">\n",
       "      <th></th>\n",
       "      <th>gender</th>\n",
       "      <th>age</th>\n",
       "      <th>customer_id</th>\n",
       "      <th>became_member_on</th>\n",
       "      <th>income</th>\n",
       "    </tr>\n",
       "  </thead>\n",
       "  <tbody>\n",
       "    <tr>\n",
       "      <td>0</td>\n",
       "      <td>None</td>\n",
       "      <td>118</td>\n",
       "      <td>68be06ca386d4c31939f3a4f0e3dd783</td>\n",
       "      <td>2017-02-12</td>\n",
       "      <td>NaN</td>\n",
       "    </tr>\n",
       "    <tr>\n",
       "      <td>1</td>\n",
       "      <td>F</td>\n",
       "      <td>55</td>\n",
       "      <td>0610b486422d4921ae7d2bf64640c50b</td>\n",
       "      <td>2017-07-15</td>\n",
       "      <td>112000.0</td>\n",
       "    </tr>\n",
       "    <tr>\n",
       "      <td>2</td>\n",
       "      <td>None</td>\n",
       "      <td>118</td>\n",
       "      <td>38fe809add3b4fcf9315a9694bb96ff5</td>\n",
       "      <td>2018-07-12</td>\n",
       "      <td>NaN</td>\n",
       "    </tr>\n",
       "    <tr>\n",
       "      <td>3</td>\n",
       "      <td>F</td>\n",
       "      <td>75</td>\n",
       "      <td>78afa995795e4d85b5d9ceeca43f5fef</td>\n",
       "      <td>2017-05-09</td>\n",
       "      <td>100000.0</td>\n",
       "    </tr>\n",
       "    <tr>\n",
       "      <td>4</td>\n",
       "      <td>None</td>\n",
       "      <td>118</td>\n",
       "      <td>a03223e636434f42ac4c3df47e8bac43</td>\n",
       "      <td>2017-08-04</td>\n",
       "      <td>NaN</td>\n",
       "    </tr>\n",
       "    <tr>\n",
       "      <td>5</td>\n",
       "      <td>M</td>\n",
       "      <td>68</td>\n",
       "      <td>e2127556f4f64592b11af22de27a7932</td>\n",
       "      <td>2018-04-26</td>\n",
       "      <td>70000.0</td>\n",
       "    </tr>\n",
       "    <tr>\n",
       "      <td>6</td>\n",
       "      <td>None</td>\n",
       "      <td>118</td>\n",
       "      <td>8ec6ce2a7e7949b1bf142def7d0e0586</td>\n",
       "      <td>2017-09-25</td>\n",
       "      <td>NaN</td>\n",
       "    </tr>\n",
       "    <tr>\n",
       "      <td>7</td>\n",
       "      <td>None</td>\n",
       "      <td>118</td>\n",
       "      <td>68617ca6246f4fbc85e91a2a49552598</td>\n",
       "      <td>2017-10-02</td>\n",
       "      <td>NaN</td>\n",
       "    </tr>\n",
       "    <tr>\n",
       "      <td>8</td>\n",
       "      <td>M</td>\n",
       "      <td>65</td>\n",
       "      <td>389bc3fa690240e798340f5a15918d5c</td>\n",
       "      <td>2018-02-09</td>\n",
       "      <td>53000.0</td>\n",
       "    </tr>\n",
       "    <tr>\n",
       "      <td>9</td>\n",
       "      <td>None</td>\n",
       "      <td>118</td>\n",
       "      <td>8974fc5686fe429db53ddde067b88302</td>\n",
       "      <td>2016-11-22</td>\n",
       "      <td>NaN</td>\n",
       "    </tr>\n",
       "  </tbody>\n",
       "</table>\n",
       "</div>"
      ],
      "text/plain": [
       "  gender  age                       customer_id became_member_on    income\n",
       "0   None  118  68be06ca386d4c31939f3a4f0e3dd783       2017-02-12       NaN\n",
       "1      F   55  0610b486422d4921ae7d2bf64640c50b       2017-07-15  112000.0\n",
       "2   None  118  38fe809add3b4fcf9315a9694bb96ff5       2018-07-12       NaN\n",
       "3      F   75  78afa995795e4d85b5d9ceeca43f5fef       2017-05-09  100000.0\n",
       "4   None  118  a03223e636434f42ac4c3df47e8bac43       2017-08-04       NaN\n",
       "5      M   68  e2127556f4f64592b11af22de27a7932       2018-04-26   70000.0\n",
       "6   None  118  8ec6ce2a7e7949b1bf142def7d0e0586       2017-09-25       NaN\n",
       "7   None  118  68617ca6246f4fbc85e91a2a49552598       2017-10-02       NaN\n",
       "8      M   65  389bc3fa690240e798340f5a15918d5c       2018-02-09   53000.0\n",
       "9   None  118  8974fc5686fe429db53ddde067b88302       2016-11-22       NaN"
      ]
     },
     "execution_count": 19,
     "metadata": {},
     "output_type": "execute_result"
    }
   ],
   "source": [
    "df_profile.head(10)"
   ]
  },
  {
   "cell_type": "markdown",
   "metadata": {},
   "source": [
    "### clean transcript data set\n",
    "\n",
    "- change the column name from 'person' to 'customer_id'\n",
    "- convert the column 'Event' into 4 different columns on the basis of different types of event\n",
    "- convert the column 'Values' into 2 different column"
   ]
  },
  {
   "cell_type": "code",
   "execution_count": 20,
   "metadata": {},
   "outputs": [],
   "source": [
    "df_transcript = transcript.copy()\n",
    "df_transcript = df_transcript.rename(columns={'person':'customer_id'})\n",
    "df_transcript['event'] = df_transcript['event'].str.replace(' ', '-')"
   ]
  },
  {
   "cell_type": "code",
   "execution_count": 21,
   "metadata": {},
   "outputs": [],
   "source": [
    "dummy = pd.get_dummies(df_transcript['event'])\n",
    "df_transcript = pd.concat([df_transcript, dummy], axis=1)"
   ]
  },
  {
   "cell_type": "code",
   "execution_count": 22,
   "metadata": {},
   "outputs": [],
   "source": [
    "df_transcript['offer_id'] = [[*i.values()][0]if [*i.keys()][0] in ['offer id','offer_id'] else None for i in df_transcript.value]\n",
    "df_transcript['amount'] = [np.round([*i.values()][0], decimals=2)if [*i.keys()][0] == 'amount' else None for i in df_transcript.value]\n",
    "df_transcript = df_transcript.drop(columns='value')"
   ]
  },
  {
   "cell_type": "code",
   "execution_count": 23,
   "metadata": {
    "scrolled": true
   },
   "outputs": [
    {
     "data": {
      "text/html": [
       "<div>\n",
       "<style scoped>\n",
       "    .dataframe tbody tr th:only-of-type {\n",
       "        vertical-align: middle;\n",
       "    }\n",
       "\n",
       "    .dataframe tbody tr th {\n",
       "        vertical-align: top;\n",
       "    }\n",
       "\n",
       "    .dataframe thead th {\n",
       "        text-align: right;\n",
       "    }\n",
       "</style>\n",
       "<table border=\"1\" class=\"dataframe\">\n",
       "  <thead>\n",
       "    <tr style=\"text-align: right;\">\n",
       "      <th></th>\n",
       "      <th>customer_id</th>\n",
       "      <th>event</th>\n",
       "      <th>time</th>\n",
       "      <th>offer-completed</th>\n",
       "      <th>offer-received</th>\n",
       "      <th>offer-viewed</th>\n",
       "      <th>transaction</th>\n",
       "      <th>offer_id</th>\n",
       "      <th>amount</th>\n",
       "    </tr>\n",
       "  </thead>\n",
       "  <tbody>\n",
       "    <tr>\n",
       "      <td>0</td>\n",
       "      <td>78afa995795e4d85b5d9ceeca43f5fef</td>\n",
       "      <td>offer-received</td>\n",
       "      <td>0</td>\n",
       "      <td>0</td>\n",
       "      <td>1</td>\n",
       "      <td>0</td>\n",
       "      <td>0</td>\n",
       "      <td>9b98b8c7a33c4b65b9aebfe6a799e6d9</td>\n",
       "      <td>NaN</td>\n",
       "    </tr>\n",
       "    <tr>\n",
       "      <td>1</td>\n",
       "      <td>a03223e636434f42ac4c3df47e8bac43</td>\n",
       "      <td>offer-received</td>\n",
       "      <td>0</td>\n",
       "      <td>0</td>\n",
       "      <td>1</td>\n",
       "      <td>0</td>\n",
       "      <td>0</td>\n",
       "      <td>0b1e1539f2cc45b7b9fa7c272da2e1d7</td>\n",
       "      <td>NaN</td>\n",
       "    </tr>\n",
       "    <tr>\n",
       "      <td>2</td>\n",
       "      <td>e2127556f4f64592b11af22de27a7932</td>\n",
       "      <td>offer-received</td>\n",
       "      <td>0</td>\n",
       "      <td>0</td>\n",
       "      <td>1</td>\n",
       "      <td>0</td>\n",
       "      <td>0</td>\n",
       "      <td>2906b810c7d4411798c6938adc9daaa5</td>\n",
       "      <td>NaN</td>\n",
       "    </tr>\n",
       "    <tr>\n",
       "      <td>3</td>\n",
       "      <td>8ec6ce2a7e7949b1bf142def7d0e0586</td>\n",
       "      <td>offer-received</td>\n",
       "      <td>0</td>\n",
       "      <td>0</td>\n",
       "      <td>1</td>\n",
       "      <td>0</td>\n",
       "      <td>0</td>\n",
       "      <td>fafdcd668e3743c1bb461111dcafc2a4</td>\n",
       "      <td>NaN</td>\n",
       "    </tr>\n",
       "    <tr>\n",
       "      <td>4</td>\n",
       "      <td>68617ca6246f4fbc85e91a2a49552598</td>\n",
       "      <td>offer-received</td>\n",
       "      <td>0</td>\n",
       "      <td>0</td>\n",
       "      <td>1</td>\n",
       "      <td>0</td>\n",
       "      <td>0</td>\n",
       "      <td>4d5c57ea9a6940dd891ad53e9dbe8da0</td>\n",
       "      <td>NaN</td>\n",
       "    </tr>\n",
       "    <tr>\n",
       "      <td>5</td>\n",
       "      <td>389bc3fa690240e798340f5a15918d5c</td>\n",
       "      <td>offer-received</td>\n",
       "      <td>0</td>\n",
       "      <td>0</td>\n",
       "      <td>1</td>\n",
       "      <td>0</td>\n",
       "      <td>0</td>\n",
       "      <td>f19421c1d4aa40978ebb69ca19b0e20d</td>\n",
       "      <td>NaN</td>\n",
       "    </tr>\n",
       "    <tr>\n",
       "      <td>6</td>\n",
       "      <td>c4863c7985cf408faee930f111475da3</td>\n",
       "      <td>offer-received</td>\n",
       "      <td>0</td>\n",
       "      <td>0</td>\n",
       "      <td>1</td>\n",
       "      <td>0</td>\n",
       "      <td>0</td>\n",
       "      <td>2298d6c36e964ae4a3e7e9706d1fb8c2</td>\n",
       "      <td>NaN</td>\n",
       "    </tr>\n",
       "    <tr>\n",
       "      <td>7</td>\n",
       "      <td>2eeac8d8feae4a8cad5a6af0499a211d</td>\n",
       "      <td>offer-received</td>\n",
       "      <td>0</td>\n",
       "      <td>0</td>\n",
       "      <td>1</td>\n",
       "      <td>0</td>\n",
       "      <td>0</td>\n",
       "      <td>3f207df678b143eea3cee63160fa8bed</td>\n",
       "      <td>NaN</td>\n",
       "    </tr>\n",
       "    <tr>\n",
       "      <td>8</td>\n",
       "      <td>aa4862eba776480b8bb9c68455b8c2e1</td>\n",
       "      <td>offer-received</td>\n",
       "      <td>0</td>\n",
       "      <td>0</td>\n",
       "      <td>1</td>\n",
       "      <td>0</td>\n",
       "      <td>0</td>\n",
       "      <td>0b1e1539f2cc45b7b9fa7c272da2e1d7</td>\n",
       "      <td>NaN</td>\n",
       "    </tr>\n",
       "    <tr>\n",
       "      <td>9</td>\n",
       "      <td>31dda685af34476cad5bc968bdb01c53</td>\n",
       "      <td>offer-received</td>\n",
       "      <td>0</td>\n",
       "      <td>0</td>\n",
       "      <td>1</td>\n",
       "      <td>0</td>\n",
       "      <td>0</td>\n",
       "      <td>0b1e1539f2cc45b7b9fa7c272da2e1d7</td>\n",
       "      <td>NaN</td>\n",
       "    </tr>\n",
       "    <tr>\n",
       "      <td>10</td>\n",
       "      <td>744d603ef08c4f33af5a61c8c7628d1c</td>\n",
       "      <td>offer-received</td>\n",
       "      <td>0</td>\n",
       "      <td>0</td>\n",
       "      <td>1</td>\n",
       "      <td>0</td>\n",
       "      <td>0</td>\n",
       "      <td>0b1e1539f2cc45b7b9fa7c272da2e1d7</td>\n",
       "      <td>NaN</td>\n",
       "    </tr>\n",
       "    <tr>\n",
       "      <td>11</td>\n",
       "      <td>3d02345581554e81b7b289ab5e288078</td>\n",
       "      <td>offer-received</td>\n",
       "      <td>0</td>\n",
       "      <td>0</td>\n",
       "      <td>1</td>\n",
       "      <td>0</td>\n",
       "      <td>0</td>\n",
       "      <td>0b1e1539f2cc45b7b9fa7c272da2e1d7</td>\n",
       "      <td>NaN</td>\n",
       "    </tr>\n",
       "    <tr>\n",
       "      <td>12</td>\n",
       "      <td>4b0da7e80e5945209a1fdddfe813dbe0</td>\n",
       "      <td>offer-received</td>\n",
       "      <td>0</td>\n",
       "      <td>0</td>\n",
       "      <td>1</td>\n",
       "      <td>0</td>\n",
       "      <td>0</td>\n",
       "      <td>ae264e3637204a6fb9bb56bc8210ddfd</td>\n",
       "      <td>NaN</td>\n",
       "    </tr>\n",
       "    <tr>\n",
       "      <td>13</td>\n",
       "      <td>c27e0d6ab72c455a8bb66d980963de60</td>\n",
       "      <td>offer-received</td>\n",
       "      <td>0</td>\n",
       "      <td>0</td>\n",
       "      <td>1</td>\n",
       "      <td>0</td>\n",
       "      <td>0</td>\n",
       "      <td>3f207df678b143eea3cee63160fa8bed</td>\n",
       "      <td>NaN</td>\n",
       "    </tr>\n",
       "    <tr>\n",
       "      <td>14</td>\n",
       "      <td>d53717f5400c4e84affdaeda9dd926b3</td>\n",
       "      <td>offer-received</td>\n",
       "      <td>0</td>\n",
       "      <td>0</td>\n",
       "      <td>1</td>\n",
       "      <td>0</td>\n",
       "      <td>0</td>\n",
       "      <td>0b1e1539f2cc45b7b9fa7c272da2e1d7</td>\n",
       "      <td>NaN</td>\n",
       "    </tr>\n",
       "    <tr>\n",
       "      <td>15</td>\n",
       "      <td>f806632c011441378d4646567f357a21</td>\n",
       "      <td>offer-received</td>\n",
       "      <td>0</td>\n",
       "      <td>0</td>\n",
       "      <td>1</td>\n",
       "      <td>0</td>\n",
       "      <td>0</td>\n",
       "      <td>fafdcd668e3743c1bb461111dcafc2a4</td>\n",
       "      <td>NaN</td>\n",
       "    </tr>\n",
       "    <tr>\n",
       "      <td>16</td>\n",
       "      <td>d058f73bf8674a26a95227db098147b1</td>\n",
       "      <td>offer-received</td>\n",
       "      <td>0</td>\n",
       "      <td>0</td>\n",
       "      <td>1</td>\n",
       "      <td>0</td>\n",
       "      <td>0</td>\n",
       "      <td>0b1e1539f2cc45b7b9fa7c272da2e1d7</td>\n",
       "      <td>NaN</td>\n",
       "    </tr>\n",
       "    <tr>\n",
       "      <td>17</td>\n",
       "      <td>65aba5c617294649aeb624da249e1ee5</td>\n",
       "      <td>offer-received</td>\n",
       "      <td>0</td>\n",
       "      <td>0</td>\n",
       "      <td>1</td>\n",
       "      <td>0</td>\n",
       "      <td>0</td>\n",
       "      <td>2906b810c7d4411798c6938adc9daaa5</td>\n",
       "      <td>NaN</td>\n",
       "    </tr>\n",
       "    <tr>\n",
       "      <td>18</td>\n",
       "      <td>ebe7ef46ea6f4963a7dd49f501b26779</td>\n",
       "      <td>offer-received</td>\n",
       "      <td>0</td>\n",
       "      <td>0</td>\n",
       "      <td>1</td>\n",
       "      <td>0</td>\n",
       "      <td>0</td>\n",
       "      <td>9b98b8c7a33c4b65b9aebfe6a799e6d9</td>\n",
       "      <td>NaN</td>\n",
       "    </tr>\n",
       "    <tr>\n",
       "      <td>19</td>\n",
       "      <td>1e9420836d554513ab90eba98552d0a9</td>\n",
       "      <td>offer-received</td>\n",
       "      <td>0</td>\n",
       "      <td>0</td>\n",
       "      <td>1</td>\n",
       "      <td>0</td>\n",
       "      <td>0</td>\n",
       "      <td>ae264e3637204a6fb9bb56bc8210ddfd</td>\n",
       "      <td>NaN</td>\n",
       "    </tr>\n",
       "  </tbody>\n",
       "</table>\n",
       "</div>"
      ],
      "text/plain": [
       "                         customer_id           event  time  offer-completed  \\\n",
       "0   78afa995795e4d85b5d9ceeca43f5fef  offer-received     0                0   \n",
       "1   a03223e636434f42ac4c3df47e8bac43  offer-received     0                0   \n",
       "2   e2127556f4f64592b11af22de27a7932  offer-received     0                0   \n",
       "3   8ec6ce2a7e7949b1bf142def7d0e0586  offer-received     0                0   \n",
       "4   68617ca6246f4fbc85e91a2a49552598  offer-received     0                0   \n",
       "5   389bc3fa690240e798340f5a15918d5c  offer-received     0                0   \n",
       "6   c4863c7985cf408faee930f111475da3  offer-received     0                0   \n",
       "7   2eeac8d8feae4a8cad5a6af0499a211d  offer-received     0                0   \n",
       "8   aa4862eba776480b8bb9c68455b8c2e1  offer-received     0                0   \n",
       "9   31dda685af34476cad5bc968bdb01c53  offer-received     0                0   \n",
       "10  744d603ef08c4f33af5a61c8c7628d1c  offer-received     0                0   \n",
       "11  3d02345581554e81b7b289ab5e288078  offer-received     0                0   \n",
       "12  4b0da7e80e5945209a1fdddfe813dbe0  offer-received     0                0   \n",
       "13  c27e0d6ab72c455a8bb66d980963de60  offer-received     0                0   \n",
       "14  d53717f5400c4e84affdaeda9dd926b3  offer-received     0                0   \n",
       "15  f806632c011441378d4646567f357a21  offer-received     0                0   \n",
       "16  d058f73bf8674a26a95227db098147b1  offer-received     0                0   \n",
       "17  65aba5c617294649aeb624da249e1ee5  offer-received     0                0   \n",
       "18  ebe7ef46ea6f4963a7dd49f501b26779  offer-received     0                0   \n",
       "19  1e9420836d554513ab90eba98552d0a9  offer-received     0                0   \n",
       "\n",
       "    offer-received  offer-viewed  transaction  \\\n",
       "0                1             0            0   \n",
       "1                1             0            0   \n",
       "2                1             0            0   \n",
       "3                1             0            0   \n",
       "4                1             0            0   \n",
       "5                1             0            0   \n",
       "6                1             0            0   \n",
       "7                1             0            0   \n",
       "8                1             0            0   \n",
       "9                1             0            0   \n",
       "10               1             0            0   \n",
       "11               1             0            0   \n",
       "12               1             0            0   \n",
       "13               1             0            0   \n",
       "14               1             0            0   \n",
       "15               1             0            0   \n",
       "16               1             0            0   \n",
       "17               1             0            0   \n",
       "18               1             0            0   \n",
       "19               1             0            0   \n",
       "\n",
       "                            offer_id  amount  \n",
       "0   9b98b8c7a33c4b65b9aebfe6a799e6d9     NaN  \n",
       "1   0b1e1539f2cc45b7b9fa7c272da2e1d7     NaN  \n",
       "2   2906b810c7d4411798c6938adc9daaa5     NaN  \n",
       "3   fafdcd668e3743c1bb461111dcafc2a4     NaN  \n",
       "4   4d5c57ea9a6940dd891ad53e9dbe8da0     NaN  \n",
       "5   f19421c1d4aa40978ebb69ca19b0e20d     NaN  \n",
       "6   2298d6c36e964ae4a3e7e9706d1fb8c2     NaN  \n",
       "7   3f207df678b143eea3cee63160fa8bed     NaN  \n",
       "8   0b1e1539f2cc45b7b9fa7c272da2e1d7     NaN  \n",
       "9   0b1e1539f2cc45b7b9fa7c272da2e1d7     NaN  \n",
       "10  0b1e1539f2cc45b7b9fa7c272da2e1d7     NaN  \n",
       "11  0b1e1539f2cc45b7b9fa7c272da2e1d7     NaN  \n",
       "12  ae264e3637204a6fb9bb56bc8210ddfd     NaN  \n",
       "13  3f207df678b143eea3cee63160fa8bed     NaN  \n",
       "14  0b1e1539f2cc45b7b9fa7c272da2e1d7     NaN  \n",
       "15  fafdcd668e3743c1bb461111dcafc2a4     NaN  \n",
       "16  0b1e1539f2cc45b7b9fa7c272da2e1d7     NaN  \n",
       "17  2906b810c7d4411798c6938adc9daaa5     NaN  \n",
       "18  9b98b8c7a33c4b65b9aebfe6a799e6d9     NaN  \n",
       "19  ae264e3637204a6fb9bb56bc8210ddfd     NaN  "
      ]
     },
     "execution_count": 23,
     "metadata": {},
     "output_type": "execute_result"
    }
   ],
   "source": [
    "df_transcript.head(20)"
   ]
  },
  {
   "cell_type": "markdown",
   "metadata": {},
   "source": [
    "#### bringing it all together\n",
    "\n",
    "create one df to make better analytics"
   ]
  },
  {
   "cell_type": "code",
   "execution_count": 24,
   "metadata": {},
   "outputs": [],
   "source": [
    "df = pd.merge(df_profile, df_transcript, on='customer_id')"
   ]
  },
  {
   "cell_type": "code",
   "execution_count": 25,
   "metadata": {
    "scrolled": true
   },
   "outputs": [
    {
     "data": {
      "text/html": [
       "<div>\n",
       "<style scoped>\n",
       "    .dataframe tbody tr th:only-of-type {\n",
       "        vertical-align: middle;\n",
       "    }\n",
       "\n",
       "    .dataframe tbody tr th {\n",
       "        vertical-align: top;\n",
       "    }\n",
       "\n",
       "    .dataframe thead th {\n",
       "        text-align: right;\n",
       "    }\n",
       "</style>\n",
       "<table border=\"1\" class=\"dataframe\">\n",
       "  <thead>\n",
       "    <tr style=\"text-align: right;\">\n",
       "      <th></th>\n",
       "      <th>gender</th>\n",
       "      <th>age</th>\n",
       "      <th>customer_id</th>\n",
       "      <th>became_member_on</th>\n",
       "      <th>income</th>\n",
       "      <th>event</th>\n",
       "      <th>time</th>\n",
       "      <th>offer-completed</th>\n",
       "      <th>offer-received</th>\n",
       "      <th>offer-viewed</th>\n",
       "      <th>transaction</th>\n",
       "      <th>offer_id</th>\n",
       "      <th>amount</th>\n",
       "    </tr>\n",
       "  </thead>\n",
       "  <tbody>\n",
       "    <tr>\n",
       "      <td>0</td>\n",
       "      <td>None</td>\n",
       "      <td>118</td>\n",
       "      <td>68be06ca386d4c31939f3a4f0e3dd783</td>\n",
       "      <td>2017-02-12</td>\n",
       "      <td>NaN</td>\n",
       "      <td>offer-received</td>\n",
       "      <td>168</td>\n",
       "      <td>0</td>\n",
       "      <td>1</td>\n",
       "      <td>0</td>\n",
       "      <td>0</td>\n",
       "      <td>2906b810c7d4411798c6938adc9daaa5</td>\n",
       "      <td>NaN</td>\n",
       "    </tr>\n",
       "    <tr>\n",
       "      <td>1</td>\n",
       "      <td>None</td>\n",
       "      <td>118</td>\n",
       "      <td>68be06ca386d4c31939f3a4f0e3dd783</td>\n",
       "      <td>2017-02-12</td>\n",
       "      <td>NaN</td>\n",
       "      <td>offer-viewed</td>\n",
       "      <td>216</td>\n",
       "      <td>0</td>\n",
       "      <td>0</td>\n",
       "      <td>1</td>\n",
       "      <td>0</td>\n",
       "      <td>2906b810c7d4411798c6938adc9daaa5</td>\n",
       "      <td>NaN</td>\n",
       "    </tr>\n",
       "    <tr>\n",
       "      <td>2</td>\n",
       "      <td>None</td>\n",
       "      <td>118</td>\n",
       "      <td>68be06ca386d4c31939f3a4f0e3dd783</td>\n",
       "      <td>2017-02-12</td>\n",
       "      <td>NaN</td>\n",
       "      <td>offer-received</td>\n",
       "      <td>336</td>\n",
       "      <td>0</td>\n",
       "      <td>1</td>\n",
       "      <td>0</td>\n",
       "      <td>0</td>\n",
       "      <td>0b1e1539f2cc45b7b9fa7c272da2e1d7</td>\n",
       "      <td>NaN</td>\n",
       "    </tr>\n",
       "    <tr>\n",
       "      <td>3</td>\n",
       "      <td>None</td>\n",
       "      <td>118</td>\n",
       "      <td>68be06ca386d4c31939f3a4f0e3dd783</td>\n",
       "      <td>2017-02-12</td>\n",
       "      <td>NaN</td>\n",
       "      <td>offer-viewed</td>\n",
       "      <td>348</td>\n",
       "      <td>0</td>\n",
       "      <td>0</td>\n",
       "      <td>1</td>\n",
       "      <td>0</td>\n",
       "      <td>0b1e1539f2cc45b7b9fa7c272da2e1d7</td>\n",
       "      <td>NaN</td>\n",
       "    </tr>\n",
       "    <tr>\n",
       "      <td>4</td>\n",
       "      <td>None</td>\n",
       "      <td>118</td>\n",
       "      <td>68be06ca386d4c31939f3a4f0e3dd783</td>\n",
       "      <td>2017-02-12</td>\n",
       "      <td>NaN</td>\n",
       "      <td>transaction</td>\n",
       "      <td>360</td>\n",
       "      <td>0</td>\n",
       "      <td>0</td>\n",
       "      <td>0</td>\n",
       "      <td>1</td>\n",
       "      <td>None</td>\n",
       "      <td>0.35</td>\n",
       "    </tr>\n",
       "  </tbody>\n",
       "</table>\n",
       "</div>"
      ],
      "text/plain": [
       "  gender  age                       customer_id became_member_on  income  \\\n",
       "0   None  118  68be06ca386d4c31939f3a4f0e3dd783       2017-02-12     NaN   \n",
       "1   None  118  68be06ca386d4c31939f3a4f0e3dd783       2017-02-12     NaN   \n",
       "2   None  118  68be06ca386d4c31939f3a4f0e3dd783       2017-02-12     NaN   \n",
       "3   None  118  68be06ca386d4c31939f3a4f0e3dd783       2017-02-12     NaN   \n",
       "4   None  118  68be06ca386d4c31939f3a4f0e3dd783       2017-02-12     NaN   \n",
       "\n",
       "            event  time  offer-completed  offer-received  offer-viewed  \\\n",
       "0  offer-received   168                0               1             0   \n",
       "1    offer-viewed   216                0               0             1   \n",
       "2  offer-received   336                0               1             0   \n",
       "3    offer-viewed   348                0               0             1   \n",
       "4     transaction   360                0               0             0   \n",
       "\n",
       "   transaction                          offer_id  amount  \n",
       "0            0  2906b810c7d4411798c6938adc9daaa5     NaN  \n",
       "1            0  2906b810c7d4411798c6938adc9daaa5     NaN  \n",
       "2            0  0b1e1539f2cc45b7b9fa7c272da2e1d7     NaN  \n",
       "3            0  0b1e1539f2cc45b7b9fa7c272da2e1d7     NaN  \n",
       "4            1                              None    0.35  "
      ]
     },
     "execution_count": 25,
     "metadata": {},
     "output_type": "execute_result"
    }
   ],
   "source": [
    "df.head()"
   ]
  },
  {
   "cell_type": "code",
   "execution_count": 26,
   "metadata": {},
   "outputs": [],
   "source": [
    "df = pd.merge(df, df_portfolio, on='offer_id', how='left')"
   ]
  },
  {
   "cell_type": "code",
   "execution_count": 27,
   "metadata": {},
   "outputs": [
    {
     "data": {
      "text/html": [
       "<div>\n",
       "<style scoped>\n",
       "    .dataframe tbody tr th:only-of-type {\n",
       "        vertical-align: middle;\n",
       "    }\n",
       "\n",
       "    .dataframe tbody tr th {\n",
       "        vertical-align: top;\n",
       "    }\n",
       "\n",
       "    .dataframe thead th {\n",
       "        text-align: right;\n",
       "    }\n",
       "</style>\n",
       "<table border=\"1\" class=\"dataframe\">\n",
       "  <thead>\n",
       "    <tr style=\"text-align: right;\">\n",
       "      <th></th>\n",
       "      <th>gender</th>\n",
       "      <th>age</th>\n",
       "      <th>customer_id</th>\n",
       "      <th>became_member_on</th>\n",
       "      <th>income</th>\n",
       "      <th>event</th>\n",
       "      <th>time</th>\n",
       "      <th>offer-completed</th>\n",
       "      <th>offer-received</th>\n",
       "      <th>offer-viewed</th>\n",
       "      <th>...</th>\n",
       "      <th>offer_id</th>\n",
       "      <th>amount</th>\n",
       "      <th>reward</th>\n",
       "      <th>difficulty</th>\n",
       "      <th>duration</th>\n",
       "      <th>offer_type</th>\n",
       "      <th>email</th>\n",
       "      <th>mobile</th>\n",
       "      <th>social</th>\n",
       "      <th>web</th>\n",
       "    </tr>\n",
       "  </thead>\n",
       "  <tbody>\n",
       "    <tr>\n",
       "      <td>0</td>\n",
       "      <td>None</td>\n",
       "      <td>118</td>\n",
       "      <td>68be06ca386d4c31939f3a4f0e3dd783</td>\n",
       "      <td>2017-02-12</td>\n",
       "      <td>NaN</td>\n",
       "      <td>offer-received</td>\n",
       "      <td>168</td>\n",
       "      <td>0</td>\n",
       "      <td>1</td>\n",
       "      <td>0</td>\n",
       "      <td>...</td>\n",
       "      <td>2906b810c7d4411798c6938adc9daaa5</td>\n",
       "      <td>NaN</td>\n",
       "      <td>2.0</td>\n",
       "      <td>10.0</td>\n",
       "      <td>7.0</td>\n",
       "      <td>discount</td>\n",
       "      <td>1.0</td>\n",
       "      <td>1.0</td>\n",
       "      <td>0.0</td>\n",
       "      <td>1.0</td>\n",
       "    </tr>\n",
       "    <tr>\n",
       "      <td>1</td>\n",
       "      <td>None</td>\n",
       "      <td>118</td>\n",
       "      <td>68be06ca386d4c31939f3a4f0e3dd783</td>\n",
       "      <td>2017-02-12</td>\n",
       "      <td>NaN</td>\n",
       "      <td>offer-viewed</td>\n",
       "      <td>216</td>\n",
       "      <td>0</td>\n",
       "      <td>0</td>\n",
       "      <td>1</td>\n",
       "      <td>...</td>\n",
       "      <td>2906b810c7d4411798c6938adc9daaa5</td>\n",
       "      <td>NaN</td>\n",
       "      <td>2.0</td>\n",
       "      <td>10.0</td>\n",
       "      <td>7.0</td>\n",
       "      <td>discount</td>\n",
       "      <td>1.0</td>\n",
       "      <td>1.0</td>\n",
       "      <td>0.0</td>\n",
       "      <td>1.0</td>\n",
       "    </tr>\n",
       "    <tr>\n",
       "      <td>2</td>\n",
       "      <td>None</td>\n",
       "      <td>118</td>\n",
       "      <td>68be06ca386d4c31939f3a4f0e3dd783</td>\n",
       "      <td>2017-02-12</td>\n",
       "      <td>NaN</td>\n",
       "      <td>offer-received</td>\n",
       "      <td>336</td>\n",
       "      <td>0</td>\n",
       "      <td>1</td>\n",
       "      <td>0</td>\n",
       "      <td>...</td>\n",
       "      <td>0b1e1539f2cc45b7b9fa7c272da2e1d7</td>\n",
       "      <td>NaN</td>\n",
       "      <td>5.0</td>\n",
       "      <td>20.0</td>\n",
       "      <td>10.0</td>\n",
       "      <td>discount</td>\n",
       "      <td>1.0</td>\n",
       "      <td>0.0</td>\n",
       "      <td>0.0</td>\n",
       "      <td>1.0</td>\n",
       "    </tr>\n",
       "    <tr>\n",
       "      <td>3</td>\n",
       "      <td>None</td>\n",
       "      <td>118</td>\n",
       "      <td>68be06ca386d4c31939f3a4f0e3dd783</td>\n",
       "      <td>2017-02-12</td>\n",
       "      <td>NaN</td>\n",
       "      <td>offer-viewed</td>\n",
       "      <td>348</td>\n",
       "      <td>0</td>\n",
       "      <td>0</td>\n",
       "      <td>1</td>\n",
       "      <td>...</td>\n",
       "      <td>0b1e1539f2cc45b7b9fa7c272da2e1d7</td>\n",
       "      <td>NaN</td>\n",
       "      <td>5.0</td>\n",
       "      <td>20.0</td>\n",
       "      <td>10.0</td>\n",
       "      <td>discount</td>\n",
       "      <td>1.0</td>\n",
       "      <td>0.0</td>\n",
       "      <td>0.0</td>\n",
       "      <td>1.0</td>\n",
       "    </tr>\n",
       "    <tr>\n",
       "      <td>4</td>\n",
       "      <td>None</td>\n",
       "      <td>118</td>\n",
       "      <td>68be06ca386d4c31939f3a4f0e3dd783</td>\n",
       "      <td>2017-02-12</td>\n",
       "      <td>NaN</td>\n",
       "      <td>transaction</td>\n",
       "      <td>360</td>\n",
       "      <td>0</td>\n",
       "      <td>0</td>\n",
       "      <td>0</td>\n",
       "      <td>...</td>\n",
       "      <td>None</td>\n",
       "      <td>0.35</td>\n",
       "      <td>NaN</td>\n",
       "      <td>NaN</td>\n",
       "      <td>NaN</td>\n",
       "      <td>NaN</td>\n",
       "      <td>NaN</td>\n",
       "      <td>NaN</td>\n",
       "      <td>NaN</td>\n",
       "      <td>NaN</td>\n",
       "    </tr>\n",
       "  </tbody>\n",
       "</table>\n",
       "<p>5 rows × 21 columns</p>\n",
       "</div>"
      ],
      "text/plain": [
       "  gender  age                       customer_id became_member_on  income  \\\n",
       "0   None  118  68be06ca386d4c31939f3a4f0e3dd783       2017-02-12     NaN   \n",
       "1   None  118  68be06ca386d4c31939f3a4f0e3dd783       2017-02-12     NaN   \n",
       "2   None  118  68be06ca386d4c31939f3a4f0e3dd783       2017-02-12     NaN   \n",
       "3   None  118  68be06ca386d4c31939f3a4f0e3dd783       2017-02-12     NaN   \n",
       "4   None  118  68be06ca386d4c31939f3a4f0e3dd783       2017-02-12     NaN   \n",
       "\n",
       "            event  time  offer-completed  offer-received  offer-viewed  ...  \\\n",
       "0  offer-received   168                0               1             0  ...   \n",
       "1    offer-viewed   216                0               0             1  ...   \n",
       "2  offer-received   336                0               1             0  ...   \n",
       "3    offer-viewed   348                0               0             1  ...   \n",
       "4     transaction   360                0               0             0  ...   \n",
       "\n",
       "                           offer_id amount  reward  difficulty  duration  \\\n",
       "0  2906b810c7d4411798c6938adc9daaa5    NaN     2.0        10.0       7.0   \n",
       "1  2906b810c7d4411798c6938adc9daaa5    NaN     2.0        10.0       7.0   \n",
       "2  0b1e1539f2cc45b7b9fa7c272da2e1d7    NaN     5.0        20.0      10.0   \n",
       "3  0b1e1539f2cc45b7b9fa7c272da2e1d7    NaN     5.0        20.0      10.0   \n",
       "4                              None   0.35     NaN         NaN       NaN   \n",
       "\n",
       "   offer_type email  mobile  social  web  \n",
       "0    discount   1.0     1.0     0.0  1.0  \n",
       "1    discount   1.0     1.0     0.0  1.0  \n",
       "2    discount   1.0     0.0     0.0  1.0  \n",
       "3    discount   1.0     0.0     0.0  1.0  \n",
       "4         NaN   NaN     NaN     NaN  NaN  \n",
       "\n",
       "[5 rows x 21 columns]"
      ]
     },
     "execution_count": 27,
     "metadata": {},
     "output_type": "execute_result"
    }
   ],
   "source": [
    "df.head()"
   ]
  },
  {
   "cell_type": "markdown",
   "metadata": {},
   "source": [
    "## Data Exploration\n",
    "### Getting to know the data"
   ]
  },
  {
   "cell_type": "code",
   "execution_count": 28,
   "metadata": {},
   "outputs": [
    {
     "data": {
      "text/plain": [
       "(306534, 21)"
      ]
     },
     "execution_count": 28,
     "metadata": {},
     "output_type": "execute_result"
    }
   ],
   "source": [
    "df.shape"
   ]
  },
  {
   "cell_type": "code",
   "execution_count": 29,
   "metadata": {},
   "outputs": [
    {
     "data": {
      "text/plain": [
       "M    155690\n",
       "F    113101\n",
       "O      3971\n",
       "Name: gender, dtype: int64"
      ]
     },
     "execution_count": 29,
     "metadata": {},
     "output_type": "execute_result"
    }
   ],
   "source": [
    "df['gender'].value_counts()"
   ]
  },
  {
   "cell_type": "code",
   "execution_count": 30,
   "metadata": {},
   "outputs": [
    {
     "data": {
      "image/png": "[encoded data removed]",
      "text/plain": [
       "<Figure size 432x288 with 1 Axes>"
      ]
     },
     "metadata": {
      "needs_background": "light"
     },
     "output_type": "display_data"
    }
   ],
   "source": [
    "df['age'].hist();"
   ]
  },
  {
   "cell_type": "markdown",
   "metadata": {},
   "source": [
    "--> Seems that there could a potential error in the data as more than 30.000 records older than 110 in the data set seems unrealistic."
   ]
  },
  {
   "cell_type": "code",
   "execution_count": 31,
   "metadata": {},
   "outputs": [
    {
     "data": {
      "text/plain": [
       "17000"
      ]
     },
     "execution_count": 31,
     "metadata": {},
     "output_type": "execute_result"
    }
   ],
   "source": [
    "df['customer_id'].nunique()"
   ]
  },
  {
   "cell_type": "code",
   "execution_count": 32,
   "metadata": {},
   "outputs": [
    {
     "data": {
      "text/plain": [
       "33772"
      ]
     },
     "execution_count": 32,
     "metadata": {},
     "output_type": "execute_result"
    }
   ],
   "source": [
    "df[df['age']>=110].age.count()"
   ]
  },
  {
   "cell_type": "code",
   "execution_count": 33,
   "metadata": {},
   "outputs": [
    {
     "data": {
      "text/plain": [
       "2175"
      ]
     },
     "execution_count": 33,
     "metadata": {},
     "output_type": "execute_result"
    }
   ],
   "source": [
    "df[df['age']>=110].customer_id.nunique()"
   ]
  },
  {
   "cell_type": "code",
   "execution_count": 34,
   "metadata": {},
   "outputs": [
    {
     "data": {
      "text/plain": [
       "272762"
      ]
     },
     "execution_count": 34,
     "metadata": {},
     "output_type": "execute_result"
    }
   ],
   "source": [
    "df[df['age']<=110].age.count()"
   ]
  },
  {
   "cell_type": "code",
   "execution_count": 35,
   "metadata": {},
   "outputs": [
    {
     "data": {
      "text/plain": [
       "14825"
      ]
     },
     "execution_count": 35,
     "metadata": {},
     "output_type": "execute_result"
    }
   ],
   "source": [
    "df[df['age']<=110].customer_id.nunique()"
   ]
  },
  {
   "cell_type": "markdown",
   "metadata": {},
   "source": [
    "--> There are 2175 unique customers older than 110 compared to 33772 records. Compared to the users younger than 110 there is a difference in the ratio from records and unique customers which could lead to the assumption that either customers older than 110 are quite active and receive a lot of offers or there is a error in the data. From my point of view it is difficult to decide but it is quite unrealistic so for a better analysis I will replace the values with an age over 100 with NaN."
   ]
  },
  {
   "cell_type": "code",
   "execution_count": 36,
   "metadata": {},
   "outputs": [],
   "source": [
    "df['age'] = df['age'].apply(lambda x: np.nan if x >= 110 else x)"
   ]
  },
  {
   "cell_type": "code",
   "execution_count": 37,
   "metadata": {},
   "outputs": [
    {
     "data": {
      "image/png": "[encoded data removed]",
      "text/plain": [
       "<Figure size 432x288 with 1 Axes>"
      ]
     },
     "metadata": {
      "needs_background": "light"
     },
     "output_type": "display_data"
    }
   ],
   "source": [
    "df['age'].hist(bins=25);"
   ]
  },
  {
   "cell_type": "code",
   "execution_count": 38,
   "metadata": {},
   "outputs": [],
   "source": [
    "from datetime import date"
   ]
  },
  {
   "cell_type": "code",
   "execution_count": 39,
   "metadata": {},
   "outputs": [],
   "source": [
    "# investigate how long members have been members\n",
    "# create a new column with days of membership with regard to today\n",
    "df['memberdays'] = date.today() - pd.to_datetime(df['became_member_on']).dt.date\n",
    "df['memberdays'] = df['memberdays'].dt.days"
   ]
  },
  {
   "cell_type": "code",
   "execution_count": 40,
   "metadata": {},
   "outputs": [
    {
     "data": {
      "image/png": "[encoded data removed]",
      "text/plain": [
       "<Figure size 432x288 with 1 Axes>"
      ]
     },
     "metadata": {
      "needs_background": "light"
     },
     "output_type": "display_data"
    }
   ],
   "source": [
    "df['memberdays'].hist(bins=25);"
   ]
  },
  {
   "cell_type": "code",
   "execution_count": 41,
   "metadata": {
    "scrolled": true
   },
   "outputs": [
    {
     "data": {
      "text/plain": [
       "<matplotlib.axes._subplots.AxesSubplot at 0x19fcf259888>"
      ]
     },
     "execution_count": 41,
     "metadata": {},
     "output_type": "execute_result"
    },
    {
     "data": {
      "image/png": "[encoded data removed]",
      "text/plain": [
       "<Figure size 432x288 with 1 Axes>"
      ]
     },
     "metadata": {
      "needs_background": "light"
     },
     "output_type": "display_data"
    }
   ],
   "source": [
    "#explore the income variable\n",
    "df['income'].hist(bins=25)"
   ]
  },
  {
   "cell_type": "code",
   "execution_count": 42,
   "metadata": {},
   "outputs": [
    {
     "name": "stderr",
     "output_type": "stream",
     "text": [
      "C:\\ProgramData\\Anaconda3\\lib\\site-packages\\numpy\\lib\\histograms.py:824: RuntimeWarning: invalid value encountered in greater_equal\n",
      "  keep = (tmp_a >= first_edge)\n",
      "C:\\ProgramData\\Anaconda3\\lib\\site-packages\\numpy\\lib\\histograms.py:825: RuntimeWarning: invalid value encountered in less_equal\n",
      "  keep &= (tmp_a <= last_edge)\n",
      "C:\\ProgramData\\Anaconda3\\lib\\site-packages\\statsmodels\\nonparametric\\kde.py:447: RuntimeWarning: invalid value encountered in greater\n",
      "  X = X[np.logical_and(X > clip[0], X < clip[1])] # won't work for two columns.\n",
      "C:\\ProgramData\\Anaconda3\\lib\\site-packages\\statsmodels\\nonparametric\\kde.py:447: RuntimeWarning: invalid value encountered in less\n",
      "  X = X[np.logical_and(X > clip[0], X < clip[1])] # won't work for two columns.\n"
     ]
    },
    {
     "data": {
      "image/png": "[encoded data removed]",
      "text/plain": [
       "<Figure size 432x288 with 1 Axes>"
      ]
     },
     "metadata": {
      "needs_background": "light"
     },
     "output_type": "display_data"
    }
   ],
   "source": [
    "sns.distplot(df['income'], bins=50, hist_kws={'alpha': 0.4});"
   ]
  },
  {
   "cell_type": "code",
   "execution_count": 43,
   "metadata": {},
   "outputs": [
    {
     "data": {
      "text/plain": [
       "transaction        138953\n",
       "offer-received      76277\n",
       "offer-viewed        57725\n",
       "offer-completed     33579\n",
       "Name: event, dtype: int64"
      ]
     },
     "execution_count": 43,
     "metadata": {},
     "output_type": "execute_result"
    }
   ],
   "source": [
    "df['event'].value_counts()"
   ]
  },
  {
   "cell_type": "markdown",
   "metadata": {},
   "source": [
    "The numbers reveal that this data has to be carefully considered. Normally you would expect the following user journey. Once a user received an offer the user can view it in the next step. Afterwards the user can make a transactional action (click on it) and later on complete the offer. This user journey in mind would implicate the highest number of counts on offer received and decrease in the next steps. In this case it is possible that a user makes a transaction without even viewing or receiving the offer as the numbers indicate.\n",
    "For further analysis this is important to consider as it determines the actions to take."
   ]
  },
  {
   "cell_type": "code",
   "execution_count": 44,
   "metadata": {},
   "outputs": [
    {
     "data": {
      "text/plain": [
       "count    306534.000000\n",
       "mean        366.382940\n",
       "std         200.326314\n",
       "min           0.000000\n",
       "25%         186.000000\n",
       "50%         408.000000\n",
       "75%         528.000000\n",
       "max         714.000000\n",
       "Name: time, dtype: float64"
      ]
     },
     "execution_count": 44,
     "metadata": {},
     "output_type": "execute_result"
    }
   ],
   "source": [
    "df['time'].describe()"
   ]
  },
  {
   "cell_type": "code",
   "execution_count": 45,
   "metadata": {},
   "outputs": [
    {
     "data": {
      "text/plain": [
       "<matplotlib.axes._subplots.AxesSubplot at 0x19fcf3744c8>"
      ]
     },
     "execution_count": 45,
     "metadata": {},
     "output_type": "execute_result"
    },
    {
     "data": {
      "image/png": "[encoded data removed]",
      "text/plain": [
       "<Figure size 432x288 with 1 Axes>"
      ]
     },
     "metadata": {
      "needs_background": "light"
     },
     "output_type": "display_data"
    }
   ],
   "source": [
    "df['time'].hist()"
   ]
  },
  {
   "cell_type": "markdown",
   "metadata": {},
   "source": [
    "It can be seen that not all users take actions in the same time frame. One possible reason could be that there are users that use the app frequently and respond in a shorter time frame, but that these users are also more likely to use the offer as they use the app more frequently. This needs further investigations."
   ]
  },
  {
   "cell_type": "code",
   "execution_count": 46,
   "metadata": {},
   "outputs": [
    {
     "data": {
      "text/plain": [
       "count    138953.000000\n",
       "mean         12.777356\n",
       "std          30.250529\n",
       "min           0.050000\n",
       "25%           2.780000\n",
       "50%           8.890000\n",
       "75%          18.070000\n",
       "max        1062.280000\n",
       "Name: amount, dtype: float64"
      ]
     },
     "execution_count": 46,
     "metadata": {},
     "output_type": "execute_result"
    }
   ],
   "source": [
    "df['amount'].describe()"
   ]
  },
  {
   "cell_type": "code",
   "execution_count": 47,
   "metadata": {},
   "outputs": [
    {
     "data": {
      "text/plain": [
       "(0, 60)"
      ]
     },
     "execution_count": 47,
     "metadata": {},
     "output_type": "execute_result"
    },
    {
     "data": {
      "image/png": "[encoded data removed]",
      "text/plain": [
       "<Figure size 432x288 with 1 Axes>"
      ]
     },
     "metadata": {
      "needs_background": "light"
     },
     "output_type": "display_data"
    }
   ],
   "source": [
    "df['amount'].hist(bins=[0,5, 10,15, 20,25, 30,35, 40,45, 50,55, 60]);\n",
    "plt.xlim(0,60)"
   ]
  },
  {
   "cell_type": "markdown",
   "metadata": {},
   "source": [
    "Most purchases made are below 5 dollars. The amount spend constantly decreases in terms of frequency."
   ]
  },
  {
   "cell_type": "code",
   "execution_count": 48,
   "metadata": {},
   "outputs": [
    {
     "data": {
      "text/plain": [
       "count    167581.000000\n",
       "mean          7.850401\n",
       "std           5.048944\n",
       "min           0.000000\n",
       "25%           5.000000\n",
       "50%          10.000000\n",
       "75%          10.000000\n",
       "max          20.000000\n",
       "Name: difficulty, dtype: float64"
      ]
     },
     "execution_count": 48,
     "metadata": {},
     "output_type": "execute_result"
    }
   ],
   "source": [
    "df['difficulty'].describe()"
   ]
  },
  {
   "cell_type": "code",
   "execution_count": 49,
   "metadata": {},
   "outputs": [
    {
     "data": {
      "text/plain": [
       "<matplotlib.axes._subplots.AxesSubplot at 0x19fcf45c188>"
      ]
     },
     "execution_count": 49,
     "metadata": {},
     "output_type": "execute_result"
    },
    {
     "data": {
      "image/png": "[encoded data removed]",
      "text/plain": [
       "<Figure size 432x288 with 1 Axes>"
      ]
     },
     "metadata": {
      "needs_background": "light"
     },
     "output_type": "display_data"
    }
   ],
   "source": [
    "df['difficulty'].hist()"
   ]
  },
  {
   "cell_type": "markdown",
   "metadata": {},
   "source": [
    "There is a clear spread in the difficulty of offers. "
   ]
  },
  {
   "cell_type": "code",
   "execution_count": 50,
   "metadata": {},
   "outputs": [
    {
     "data": {
      "text/plain": [
       "count    167581.00000\n",
       "mean          4.41991\n",
       "std           3.37336\n",
       "min           0.00000\n",
       "25%           2.00000\n",
       "50%           5.00000\n",
       "75%           5.00000\n",
       "max          10.00000\n",
       "Name: reward, dtype: float64"
      ]
     },
     "execution_count": 50,
     "metadata": {},
     "output_type": "execute_result"
    }
   ],
   "source": [
    "df['reward'].describe()"
   ]
  },
  {
   "cell_type": "code",
   "execution_count": 51,
   "metadata": {},
   "outputs": [
    {
     "data": {
      "text/plain": [
       "<matplotlib.axes._subplots.AxesSubplot at 0x19fcf451848>"
      ]
     },
     "execution_count": 51,
     "metadata": {},
     "output_type": "execute_result"
    },
    {
     "data": {
      "image/png": "[encoded data removed]",
      "text/plain": [
       "<Figure size 432x288 with 1 Axes>"
      ]
     },
     "metadata": {
      "needs_background": "light"
     },
     "output_type": "display_data"
    }
   ],
   "source": [
    "df['reward'].hist()"
   ]
  },
  {
   "cell_type": "markdown",
   "metadata": {},
   "source": [
    "It seems that difficulty and reward have the same spread so the variables could depend on each other."
   ]
  },
  {
   "cell_type": "code",
   "execution_count": 52,
   "metadata": {},
   "outputs": [
    {
     "data": {
      "text/plain": [
       "count    167581.000000\n",
       "mean          6.610737\n",
       "std           2.136130\n",
       "min           3.000000\n",
       "25%           5.000000\n",
       "50%           7.000000\n",
       "75%           7.000000\n",
       "max          10.000000\n",
       "Name: duration, dtype: float64"
      ]
     },
     "execution_count": 52,
     "metadata": {},
     "output_type": "execute_result"
    }
   ],
   "source": [
    "df['duration'].describe()"
   ]
  },
  {
   "cell_type": "code",
   "execution_count": 53,
   "metadata": {},
   "outputs": [
    {
     "data": {
      "text/plain": [
       "<matplotlib.axes._subplots.AxesSubplot at 0x19fcf54f7c8>"
      ]
     },
     "execution_count": 53,
     "metadata": {},
     "output_type": "execute_result"
    },
    {
     "data": {
      "image/png": "[encoded data removed]",
      "text/plain": [
       "<Figure size 432x288 with 1 Axes>"
      ]
     },
     "metadata": {
      "needs_background": "light"
     },
     "output_type": "display_data"
    }
   ],
   "source": [
    "df['duration'].hist()"
   ]
  },
  {
   "cell_type": "markdown",
   "metadata": {},
   "source": [
    "There is some variance in the duration variable which could be interesting for further investigation. Users that open the offer earlier might be using the app more frequently which could indicate that they already have a different purchasing behaviour. "
   ]
  },
  {
   "cell_type": "code",
   "execution_count": 54,
   "metadata": {},
   "outputs": [
    {
     "data": {
      "text/plain": [
       "bogo             71617\n",
       "discount         69898\n",
       "informational    26066\n",
       "Name: offer_type, dtype: int64"
      ]
     },
     "execution_count": 54,
     "metadata": {},
     "output_type": "execute_result"
    }
   ],
   "source": [
    "df['offer_type'].value_counts()"
   ]
  },
  {
   "cell_type": "code",
   "execution_count": 55,
   "metadata": {},
   "outputs": [
    {
     "data": {
      "text/plain": [
       "148805"
      ]
     },
     "execution_count": 55,
     "metadata": {},
     "output_type": "execute_result"
    }
   ],
   "source": [
    "df[df['email']>0].age.count()"
   ]
  },
  {
   "cell_type": "code",
   "execution_count": 56,
   "metadata": {},
   "outputs": [
    {
     "data": {
      "text/plain": [
       "97960"
      ]
     },
     "execution_count": 56,
     "metadata": {},
     "output_type": "execute_result"
    }
   ],
   "source": [
    "df[df['social']>0].age.count()"
   ]
  },
  {
   "cell_type": "code",
   "execution_count": 57,
   "metadata": {},
   "outputs": [
    {
     "data": {
      "text/plain": [
       "136478"
      ]
     },
     "execution_count": 57,
     "metadata": {},
     "output_type": "execute_result"
    }
   ],
   "source": [
    "df[df['mobile']>0].age.count()"
   ]
  },
  {
   "cell_type": "code",
   "execution_count": 58,
   "metadata": {},
   "outputs": [
    {
     "data": {
      "text/plain": [
       "120048"
      ]
     },
     "execution_count": 58,
     "metadata": {},
     "output_type": "execute_result"
    }
   ],
   "source": [
    "df[df['web']>0].age.count()"
   ]
  },
  {
   "cell_type": "markdown",
   "metadata": {},
   "source": [
    "There is some difference in which channel is used to promote the offer. It could a variable of interest for further information."
   ]
  },
  {
   "cell_type": "code",
   "execution_count": 59,
   "metadata": {},
   "outputs": [
    {
     "data": {
      "image/png": "[encoded data removed]",
      "text/plain": [
       "<Figure size 432x288 with 1 Axes>"
      ]
     },
     "metadata": {
      "needs_background": "light"
     },
     "output_type": "display_data"
    }
   ],
   "source": [
    "df['offer_type'].value_counts().plot.barh(title=' Distribution of offer types');"
   ]
  },
  {
   "cell_type": "markdown",
   "metadata": {},
   "source": [
    "#### Conclusion\n",
    "After the data is cleaned and explored it is time to ask the right questions in order to come up with insights that can be used to increase the performance of offers."
   ]
  },
  {
   "cell_type": "markdown",
   "metadata": {},
   "source": [
    "## Data Analysis"
   ]
  },
  {
   "cell_type": "markdown",
   "metadata": {},
   "source": [
    "First, it is necessary to understand which value this analysis can bring to Starbucks. The objective from Starbucks is to send out offers as efficient as possible and target offer types and characteristica to certain user groups. In the end it is all about the money a user spends by using an offer. So this analysis focuses on descriptive and advanced statistical analysis to investigate which differences in the data can be observed and which variables play together. To do it in a structured way I will answer the following questions:\n",
    "\n",
    "- Does user characateristica (age, gender, days of membership, income) influence how users use the offers? \n",
    "- Are there channels that are more effective than others or can be related to a special group of users?\n",
    "- Does the offer type play a crucial role in how users act on the offer?\n",
    "\n",
    "With this questions answered, Starbucks could roll out there new offer strategy with a more targeted approach to increase the effectiveness."
   ]
  },
  {
   "cell_type": "markdown",
   "metadata": {},
   "source": [
    "#### Does user characateristica (age, gender, days of membership, income) influence how users use the offers?"
   ]
  },
  {
   "cell_type": "code",
   "execution_count": 60,
   "metadata": {},
   "outputs": [],
   "source": [
    "male_total = df[(df['gender']=='M')].gender.count()\n",
    "female_total = df[(df['gender']=='F')].gender.count()\n",
    "nongender_total = df[(df['gender']=='O')].gender.count()\n",
    "total = df.shape[0]"
   ]
  },
  {
   "cell_type": "code",
   "execution_count": 61,
   "metadata": {},
   "outputs": [
    {
     "data": {
      "text/plain": [
       "306534"
      ]
     },
     "execution_count": 61,
     "metadata": {},
     "output_type": "execute_result"
    }
   ],
   "source": [
    "total"
   ]
  },
  {
   "cell_type": "code",
   "execution_count": 62,
   "metadata": {},
   "outputs": [],
   "source": [
    "rel_m_or = df[(df['offer-received']==1)&(df['gender']=='M')].gender.count() / total\n",
    "rel_f_or = df[(df['offer-received']==1)&(df['gender']=='F')].gender.count() / total\n",
    "rel_o_or = df[(df['offer-received']==1)&(df['gender']=='O')].gender.count() / total\n",
    "\n",
    "rel_m_ov = df[(df['offer-viewed']==1)&(df['gender']=='M')].gender.count() / total\n",
    "rel_f_ov = df[(df['offer-viewed']==1)&(df['gender']=='F')].gender.count() / total\n",
    "rel_o_ov = df[(df['offer-viewed']==1)&(df['gender']=='O')].gender.count() / total\n",
    "\n",
    "rel_m_t = df[(df['transaction']==1)&(df['gender']=='M')].gender.count() / total\n",
    "rel_f_t = df[(df['transaction']==1)&(df['gender']=='F')].gender.count() / total\n",
    "rel_o_t = df[(df['transaction']==1)&(df['gender']=='O')].gender.count() / total\n",
    "\n",
    "rel_m_oc = df[(df['offer-completed']==1)&(df['gender']=='M')].gender.count() / total\n",
    "rel_f_oc = df[(df['offer-completed']==1)&(df['gender']=='F')].gender.count() / total\n",
    "rel_o_oc = df[(df['offer-completed']==1)&(df['gender']=='O')].gender.count() / total"
   ]
  },
  {
   "cell_type": "code",
   "execution_count": 63,
   "metadata": {},
   "outputs": [],
   "source": [
    "male_values = [rel_m_or, rel_m_ov, rel_m_t, rel_m_oc]\n",
    "female_values = [rel_f_or, rel_f_ov, rel_f_t, rel_f_oc]\n",
    "o_values = [rel_o_or, rel_o_ov, rel_o_t, rel_o_oc]"
   ]
  },
  {
   "cell_type": "code",
   "execution_count": 64,
   "metadata": {
    "scrolled": true
   },
   "outputs": [
    {
     "data": {
      "image/png": "[encoded data removed]",
      "text/plain": [
       "<Figure size 1080x360 with 1 Axes>"
      ]
     },
     "metadata": {
      "needs_background": "light"
     },
     "output_type": "display_data"
    }
   ],
   "source": [
    "labels = ['Offer received', 'Offer viewed', 'Transaction', 'Offer completed']\n",
    "#male_values = [0.5733597991007654 , 0.5676093060569595 , 0.5872520309462153 , 0.5075206509678215]\n",
    "#female_values = [0.4128659719402716  ,0.4168872843963097  ,0.3983800834160233 , 0.47703735667611885 ]\n",
    "#o_values = [0.013774228958963023, 0.015503409546730846, 0.014367885637761481 , 0.015441992356059671]\n",
    "\n",
    "x = np.arange(len(labels))  # the label locations\n",
    "width = 0.2  # the width of the bars\n",
    "\n",
    "fig, ax = plt.subplots(figsize=(15,5))\n",
    "rects1 = ax.bar(x - width/3, male_values, width, label='Men')\n",
    "rects2 = ax.bar(x + width/3, female_values, width, label='Women')\n",
    "rects3 = ax.bar(x + width/2, o_values, width, label='o')\n",
    "\n",
    "# Add some text for labels, title and custom x-axis tick labels, etc.\n",
    "ax.set_ylabel('Relative actions')\n",
    "ax.set_title('Relative offer actions by gender')\n",
    "ax.set_xticks(x)\n",
    "ax.set_xticklabels(labels)\n",
    "ax.legend()\n",
    "\n",
    "\n",
    "\n",
    "fig.tight_layout();\n",
    "\n",
    "plt.show();"
   ]
  },
  {
   "cell_type": "code",
   "execution_count": 65,
   "metadata": {},
   "outputs": [
    {
     "name": "stdout",
     "output_type": "stream",
     "text": [
      "0.7200818274803955 0.7344616797993004 0.6783800862708464 0.9399368395481598\n"
     ]
    }
   ],
   "source": [
    "rel_diff_or = rel_f_or / rel_m_or\n",
    "rel_diff_ov = rel_f_ov / rel_m_ov\n",
    "rel_diff_t  = rel_f_t / rel_m_t\n",
    "rel_diff_oc = rel_f_oc / rel_m_oc\n",
    "print(rel_diff_or, rel_diff_ov, rel_diff_t, rel_diff_oc)"
   ]
  },
  {
   "cell_type": "markdown",
   "metadata": {},
   "source": [
    "Analysing how the user grouped by gender proceed in the steps / events shows that in a relative way, more men than women are getting an offer. This ration stays about the same until the step offer completed. Compared to the total numbers of records it can be seen that men and women have almost the same ratio in completing an offer which shows, compared to an existing difference before, that women are more likely to complete an offer."
   ]
  },
  {
   "cell_type": "markdown",
   "metadata": {},
   "source": [
    "The same can be seen when looking at absolute numbers. More men than women receiving an offer but women have almost the same amount of offer completions. This could be also due to women per se are just more using the app so it is important to see how many offers completed did not receive an offer."
   ]
  },
  {
   "cell_type": "code",
   "execution_count": 66,
   "metadata": {},
   "outputs": [
    {
     "data": {
      "text/plain": [
       "Text(0, 0.5, '$')"
      ]
     },
     "execution_count": 66,
     "metadata": {},
     "output_type": "execute_result"
    },
    {
     "data": {
      "image/png": "[encoded data removed]",
      "text/plain": [
       "<Figure size 1152x360 with 1 Axes>"
      ]
     },
     "metadata": {
      "needs_background": "light"
     },
     "output_type": "display_data"
    }
   ],
   "source": [
    "plt.figure(figsize=(16,5))\n",
    "\n",
    "plt.subplot(121)\n",
    "gender_groupby = df.groupby('gender')\n",
    "gender_transacts = gender_groupby.transaction.sum()\n",
    "gender_expense = gender_groupby.amount.sum()\n",
    "(gender_expense / gender_transacts).reindex(['M', 'F', 'O']).plot(kind='bar', rot=0, color='tab:blue');\n",
    "plt.title('Average Transaction Value');\n",
    "plt.xlabel('');\n",
    "plt.grid();\n",
    "plt.ylabel('$')"
   ]
  },
  {
   "cell_type": "markdown",
   "metadata": {},
   "source": [
    "To support this implications we can also see that women have a higher average transaction value which makes them a more valuable customer source."
   ]
  },
  {
   "cell_type": "code",
   "execution_count": 67,
   "metadata": {
    "scrolled": true
   },
   "outputs": [
    {
     "data": {
      "text/plain": [
       "Index(['gender', 'age', 'customer_id', 'became_member_on', 'income', 'event',\n",
       "       'time', 'offer-completed', 'offer-received', 'offer-viewed',\n",
       "       'transaction', 'offer_id', 'amount', 'reward', 'difficulty', 'duration',\n",
       "       'offer_type', 'email', 'mobile', 'social', 'web', 'memberdays'],\n",
       "      dtype='object')"
      ]
     },
     "execution_count": 67,
     "metadata": {},
     "output_type": "execute_result"
    }
   ],
   "source": [
    "df.columns"
   ]
  },
  {
   "cell_type": "code",
   "execution_count": 68,
   "metadata": {},
   "outputs": [
    {
     "data": {
      "text/plain": [
       "66501"
      ]
     },
     "execution_count": 68,
     "metadata": {},
     "output_type": "execute_result"
    }
   ],
   "source": [
    "df[df['offer-received']==1].age.count()"
   ]
  },
  {
   "cell_type": "code",
   "execution_count": 69,
   "metadata": {},
   "outputs": [
    {
     "data": {
      "text/plain": [
       "49860"
      ]
     },
     "execution_count": 69,
     "metadata": {},
     "output_type": "execute_result"
    }
   ],
   "source": [
    "df[df['offer-viewed']==1].age.count()"
   ]
  },
  {
   "cell_type": "code",
   "execution_count": 70,
   "metadata": {},
   "outputs": [
    {
     "data": {
      "text/plain": [
       "123957"
      ]
     },
     "execution_count": 70,
     "metadata": {},
     "output_type": "execute_result"
    }
   ],
   "source": [
    "df[df['transaction']==1].age.count()"
   ]
  },
  {
   "cell_type": "code",
   "execution_count": 71,
   "metadata": {},
   "outputs": [
    {
     "data": {
      "text/plain": [
       "32444"
      ]
     },
     "execution_count": 71,
     "metadata": {},
     "output_type": "execute_result"
    }
   ],
   "source": [
    "df[df['offer-completed']==1].age.count()"
   ]
  },
  {
   "cell_type": "markdown",
   "metadata": {},
   "source": [
    "Following the logic of user steps and a decreasing number in every step, the data in transaction is not as we would expect it. The other data flow can be seen as steps in a user journey when receiving an offer. So for further analysis we will neglect the transation column."
   ]
  },
  {
   "cell_type": "code",
   "execution_count": 72,
   "metadata": {},
   "outputs": [
    {
     "data": {
      "text/plain": [
       "53.840696284673086"
      ]
     },
     "execution_count": 72,
     "metadata": {},
     "output_type": "execute_result"
    }
   ],
   "source": [
    "df.age.mean()"
   ]
  },
  {
   "cell_type": "code",
   "execution_count": 73,
   "metadata": {},
   "outputs": [
    {
     "data": {
      "text/plain": [
       "54.369257605148796"
      ]
     },
     "execution_count": 73,
     "metadata": {},
     "output_type": "execute_result"
    }
   ],
   "source": [
    "df[df['offer-received']==1].age.mean()"
   ]
  },
  {
   "cell_type": "code",
   "execution_count": 74,
   "metadata": {},
   "outputs": [
    {
     "data": {
      "text/plain": [
       "54.644645006016844"
      ]
     },
     "execution_count": 74,
     "metadata": {},
     "output_type": "execute_result"
    }
   ],
   "source": [
    "df[df['offer-viewed']==1].age.mean()"
   ]
  },
  {
   "cell_type": "code",
   "execution_count": 75,
   "metadata": {},
   "outputs": [
    {
     "data": {
      "text/plain": [
       "55.826624337319686"
      ]
     },
     "execution_count": 75,
     "metadata": {},
     "output_type": "execute_result"
    }
   ],
   "source": [
    "df[df['offer-completed']==1].age.mean()"
   ]
  },
  {
   "cell_type": "markdown",
   "metadata": {},
   "source": [
    "It tends the older a user gets the more users will complete an offer."
   ]
  },
  {
   "cell_type": "code",
   "execution_count": 76,
   "metadata": {},
   "outputs": [
    {
     "data": {
      "text/plain": [
       "65371.61847190268"
      ]
     },
     "execution_count": 76,
     "metadata": {},
     "output_type": "execute_result"
    }
   ],
   "source": [
    "df[df['offer-received']==1].income.mean()"
   ]
  },
  {
   "cell_type": "code",
   "execution_count": 77,
   "metadata": {},
   "outputs": [
    {
     "data": {
      "text/plain": [
       "65841.59647011633"
      ]
     },
     "execution_count": 77,
     "metadata": {},
     "output_type": "execute_result"
    }
   ],
   "source": [
    "df[df['offer-viewed']==1].income.mean()"
   ]
  },
  {
   "cell_type": "code",
   "execution_count": 78,
   "metadata": {},
   "outputs": [
    {
     "data": {
      "text/plain": [
       "69430.80384662804"
      ]
     },
     "execution_count": 78,
     "metadata": {},
     "output_type": "execute_result"
    }
   ],
   "source": [
    "df[df['offer-completed']==1].income.mean()"
   ]
  },
  {
   "cell_type": "markdown",
   "metadata": {},
   "source": [
    "For the income variable it can be observed a similar tendency that the income mean is higher from offer completion events compared to offer received and viewed."
   ]
  },
  {
   "cell_type": "markdown",
   "metadata": {},
   "source": [
    "Let's take a look if the data changes when we split the date into male, female and others."
   ]
  },
  {
   "cell_type": "code",
   "execution_count": 79,
   "metadata": {},
   "outputs": [
    {
     "data": {
      "text/plain": [
       "gender\n",
       "F    56.735564\n",
       "M    51.730580\n",
       "O    54.120625\n",
       "Name: age, dtype: float64"
      ]
     },
     "execution_count": 79,
     "metadata": {},
     "output_type": "execute_result"
    }
   ],
   "source": [
    "df.groupby('gender').age.mean()"
   ]
  },
  {
   "cell_type": "code",
   "execution_count": 80,
   "metadata": {
    "scrolled": true
   },
   "outputs": [
    {
     "data": {
      "text/plain": [
       "gender\n",
       "F    57.469806\n",
       "M    52.127987\n",
       "O    54.728166\n",
       "Name: age, dtype: float64"
      ]
     },
     "execution_count": 80,
     "metadata": {},
     "output_type": "execute_result"
    }
   ],
   "source": [
    "df[df['offer-received']==1].groupby('gender').age.mean()"
   ]
  },
  {
   "cell_type": "code",
   "execution_count": 81,
   "metadata": {},
   "outputs": [
    {
     "data": {
      "text/plain": [
       "gender\n",
       "F    57.452179\n",
       "M    52.564609\n",
       "O    55.304010\n",
       "Name: age, dtype: float64"
      ]
     },
     "execution_count": 81,
     "metadata": {},
     "output_type": "execute_result"
    }
   ],
   "source": [
    "df[df['offer-viewed']==1].groupby('gender').age.mean()"
   ]
  },
  {
   "cell_type": "code",
   "execution_count": 82,
   "metadata": {
    "scrolled": true
   },
   "outputs": [
    {
     "data": {
      "text/plain": [
       "gender\n",
       "F    57.972605\n",
       "M    53.819507\n",
       "O    55.499002\n",
       "Name: age, dtype: float64"
      ]
     },
     "execution_count": 82,
     "metadata": {},
     "output_type": "execute_result"
    }
   ],
   "source": [
    "df[df['offer-completed']==1].groupby('gender').age.mean()"
   ]
  },
  {
   "cell_type": "code",
   "execution_count": 83,
   "metadata": {},
   "outputs": [
    {
     "data": {
      "image/png": "[encoded data removed]",
      "text/plain": [
       "<Figure size 1080x360 with 1 Axes>"
      ]
     },
     "metadata": {
      "needs_background": "light"
     },
     "output_type": "display_data"
    }
   ],
   "source": [
    "\n",
    "labels = ['General','Offer received', 'Offer viewed', 'Offer completed']\n",
    "men_means = [df.groupby('gender').age.mean()[1], df[df['offer-received']==1].groupby('gender').age.mean()[1], df[df['offer-viewed']==1].groupby('gender').age.mean()[1], df[df['offer-completed']==1].groupby('gender').age.mean()[1]]\n",
    "women_means = [df.groupby('gender').age.mean()[0], df[df['offer-received']==1].groupby('gender').age.mean()[0], df[df['offer-viewed']==1].groupby('gender').age.mean()[0], df[df['offer-completed']==1].groupby('gender').age.mean()[0]]\n",
    "other_means = [df.groupby('gender').age.mean()[2], df[df['offer-received']==1].groupby('gender').age.mean()[2], df[df['offer-viewed']==1].groupby('gender').age.mean()[2], df[df['offer-completed']==1].groupby('gender').age.mean()[2]]\n",
    "\n",
    "x = np.arange(len(labels))  # the label locations\n",
    "width = 0.2  # the width of the bars\n",
    "\n",
    "fig, ax = plt.subplots(figsize=(15,5))\n",
    "rects1 = ax.bar(x - 0.2, men_means, width, label='Men')\n",
    "rects2 = ax.bar(x + 0, women_means, width, label='Women')\n",
    "rects3 = ax.bar(x + 0.2, other_means, width, label='Women')\n",
    "\n",
    "# Add some text for labels, title and custom x-axis tick labels, etc.\n",
    "ax.set_ylabel('Age')\n",
    "ax.set_title('Mean age per gender in user journey')\n",
    "ax.set_xticks(x)\n",
    "ax.set_xticklabels(labels)\n",
    "ax.legend()\n",
    "\n",
    "\n",
    "fig.tight_layout()\n",
    "\n",
    "plt.show()"
   ]
  },
  {
   "cell_type": "code",
   "execution_count": 84,
   "metadata": {},
   "outputs": [
    {
     "data": {
      "text/plain": [
       "gender\n",
       "F    69546.750250\n",
       "M    60589.087289\n",
       "O    62897.758751\n",
       "Name: income, dtype: float64"
      ]
     },
     "execution_count": 84,
     "metadata": {},
     "output_type": "execute_result"
    }
   ],
   "source": [
    "df.groupby('gender').income.mean()"
   ]
  },
  {
   "cell_type": "code",
   "execution_count": 85,
   "metadata": {},
   "outputs": [
    {
     "data": {
      "text/plain": [
       "gender\n",
       "F    71238.599942\n",
       "M    61199.979019\n",
       "O    63162.663755\n",
       "Name: income, dtype: float64"
      ]
     },
     "execution_count": 85,
     "metadata": {},
     "output_type": "execute_result"
    }
   ],
   "source": [
    "df[df['offer-received']==1].groupby('gender').income.mean()"
   ]
  },
  {
   "cell_type": "code",
   "execution_count": 86,
   "metadata": {},
   "outputs": [
    {
     "data": {
      "text/plain": [
       "gender\n",
       "F    70999.855672\n",
       "M    62065.333380\n",
       "O    65391.979301\n",
       "Name: income, dtype: float64"
      ]
     },
     "execution_count": 86,
     "metadata": {},
     "output_type": "execute_result"
    }
   ],
   "source": [
    "df[df['offer-viewed']==1].groupby('gender').income.mean()"
   ]
  },
  {
   "cell_type": "code",
   "execution_count": 87,
   "metadata": {},
   "outputs": [
    {
     "data": {
      "text/plain": [
       "gender\n",
       "F    73313.303612\n",
       "M    65911.150249\n",
       "O    65169.660679\n",
       "Name: income, dtype: float64"
      ]
     },
     "execution_count": 87,
     "metadata": {},
     "output_type": "execute_result"
    }
   ],
   "source": [
    "df[df['offer-completed']==1].groupby('gender').income.mean()"
   ]
  },
  {
   "cell_type": "code",
   "execution_count": 88,
   "metadata": {},
   "outputs": [
    {
     "data": {
      "image/png": "[encoded data removed]",
      "text/plain": [
       "<Figure size 1080x360 with 1 Axes>"
      ]
     },
     "metadata": {
      "needs_background": "light"
     },
     "output_type": "display_data"
    }
   ],
   "source": [
    "\n",
    "labels = ['General','Offer received', 'Offer viewed', 'Offer completed']\n",
    "men_means = [df.groupby('gender').income.mean()[1], df[df['offer-received']==1].groupby('gender').income.mean()[1], df[df['offer-viewed']==1].groupby('gender').income.mean()[1], df[df['offer-completed']==1].groupby('gender').income.mean()[1]]\n",
    "women_means = [df.groupby('gender').income.mean()[0], df[df['offer-received']==1].groupby('gender').income.mean()[0], df[df['offer-viewed']==1].groupby('gender').income.mean()[0], df[df['offer-completed']==1].groupby('gender').income.mean()[0]]\n",
    "other_means = [df.groupby('gender').income.mean()[2], df[df['offer-received']==1].groupby('gender').income.mean()[2], df[df['offer-viewed']==1].groupby('gender').income.mean()[2], df[df['offer-completed']==1].groupby('gender').income.mean()[2]]\n",
    "\n",
    "x = np.arange(len(labels))  # the label locations\n",
    "width = 0.2  # the width of the bars\n",
    "\n",
    "fig, ax = plt.subplots(figsize=(15,5))\n",
    "rects1 = ax.bar(x - 0.2, men_means, width, label='Men')\n",
    "rects2 = ax.bar(x + 0, women_means, width, label='Women')\n",
    "rects3 = ax.bar(x + 0.2, other_means, width, label='Women')\n",
    "\n",
    "# Add some text for labels, title and custom x-axis tick labels, etc.\n",
    "ax.set_ylabel('Mean Income')\n",
    "ax.set_title('Mean income per gender in user journey')\n",
    "ax.set_xticks(x)\n",
    "ax.set_xticklabels(labels)\n",
    "ax.legend()\n",
    "\n",
    "\n",
    "fig.tight_layout()\n",
    "\n",
    "plt.show()"
   ]
  },
  {
   "cell_type": "markdown",
   "metadata": {},
   "source": [
    "##### Conclusion\n",
    "Taking user characteristics into account first it seems that the mean age increases independently in every user step. Taking a closer look at the dependancy on the gender variable shows that age only shows a small difference. Looking at the income variable there is an observable change during the offer completion step where the income of male and female is higher than in the other steps. Especially for men there is a 8 - 9% increase in income.\n",
    "This implies that income could be a good variable to target the offer strategy."
   ]
  },
  {
   "cell_type": "markdown",
   "metadata": {},
   "source": [
    "#### Are there channels that are more effective than others or can be related to a special group of users?"
   ]
  },
  {
   "cell_type": "code",
   "execution_count": 89,
   "metadata": {},
   "outputs": [],
   "source": [
    "completion_ratio_email = df[(df['offer-completed']==1)&(df['email']==1)].customer_id.count() / df[(df['offer-received']==1)&(df['email']==1)].customer_id.count()\n",
    "completion_ratio_social = df[(df['offer-completed']==1)&(df['social']==1)].customer_id.count() / df[(df['offer-received']==1)&(df['social']==1)].customer_id.count()\n",
    "completion_ratio_mobile = df[(df['offer-completed']==1)&(df['mobile']==1)].customer_id.count() / df[(df['offer-received']==1)&(df['mobile']==1)].customer_id.count()\n",
    "completion_ratio_web = df[(df['offer-completed']==1)&(df['web']==1)].customer_id.count() / df[(df['offer-received']==1)&(df['web']==1)].customer_id.count()"
   ]
  },
  {
   "cell_type": "code",
   "execution_count": 90,
   "metadata": {},
   "outputs": [
    {
     "name": "stdout",
     "output_type": "stream",
     "text": [
      "0.4402244451145168 0.4769389050631526 0.4395778979434185 0.49000836051868\n"
     ]
    }
   ],
   "source": [
    "print(completion_ratio_email, completion_ratio_social, completion_ratio_mobile, completion_ratio_web)"
   ]
  },
  {
   "cell_type": "code",
   "execution_count": 91,
   "metadata": {},
   "outputs": [
    {
     "data": {
      "image/png": "[encoded data removed]",
      "text/plain": [
       "<Figure size 432x288 with 1 Axes>"
      ]
     },
     "metadata": {
      "needs_background": "light"
     },
     "output_type": "display_data"
    }
   ],
   "source": [
    "\n",
    "fig = plt.figure()\n",
    "ax = fig.add_axes([0,0,1,1])\n",
    "labels = ['Email', 'Social', 'Mobile', 'Web']\n",
    "completion_rates = [completion_ratio_email, completion_ratio_social, completion_ratio_mobile, completion_ratio_web]\n",
    "ax.bar(labels,completion_rates)\n",
    "plt.show()"
   ]
  },
  {
   "cell_type": "markdown",
   "metadata": {},
   "source": [
    "It can be seen that Social and Web have higher completion rates than the Email and Mobile when taking the events offers received and completed into account."
   ]
  },
  {
   "cell_type": "code",
   "execution_count": 92,
   "metadata": {},
   "outputs": [
    {
     "data": {
      "text/plain": [
       "54.369257605148796"
      ]
     },
     "execution_count": 92,
     "metadata": {},
     "output_type": "execute_result"
    }
   ],
   "source": [
    "df[(df['offer-received']==1)&(df['email']==1)].age.mean()"
   ]
  },
  {
   "cell_type": "code",
   "execution_count": 93,
   "metadata": {},
   "outputs": [
    {
     "data": {
      "text/plain": [
       "55.826624337319686"
      ]
     },
     "execution_count": 93,
     "metadata": {},
     "output_type": "execute_result"
    }
   ],
   "source": [
    "df[(df['offer-completed']==1)&(df['email']==1)].age.mean()"
   ]
  },
  {
   "cell_type": "code",
   "execution_count": 94,
   "metadata": {},
   "outputs": [
    {
     "data": {
      "text/plain": [
       "54.36538364906286"
      ]
     },
     "execution_count": 94,
     "metadata": {},
     "output_type": "execute_result"
    }
   ],
   "source": [
    "df[(df['offer-received']==1)&(df['social']==1)].age.mean()"
   ]
  },
  {
   "cell_type": "code",
   "execution_count": 95,
   "metadata": {},
   "outputs": [
    {
     "data": {
      "text/plain": [
       "55.73930053914786"
      ]
     },
     "execution_count": 95,
     "metadata": {},
     "output_type": "execute_result"
    }
   ],
   "source": [
    "df[(df['offer-completed']==1)&(df['social']==1)].age.mean()"
   ]
  },
  {
   "cell_type": "code",
   "execution_count": 96,
   "metadata": {},
   "outputs": [
    {
     "data": {
      "text/plain": [
       "54.36786281890422"
      ]
     },
     "execution_count": 96,
     "metadata": {},
     "output_type": "execute_result"
    }
   ],
   "source": [
    "df[(df['offer-received']==1)&(df['mobile']==1)].age.mean()"
   ]
  },
  {
   "cell_type": "code",
   "execution_count": 97,
   "metadata": {},
   "outputs": [
    {
     "data": {
      "text/plain": [
       "55.72861174203317"
      ]
     },
     "execution_count": 97,
     "metadata": {},
     "output_type": "execute_result"
    }
   ],
   "source": [
    "df[(df['offer-completed']==1)&(df['mobile']==1)].age.mean()"
   ]
  },
  {
   "cell_type": "code",
   "execution_count": 98,
   "metadata": {},
   "outputs": [
    {
     "data": {
      "text/plain": [
       "54.36693935119887"
      ]
     },
     "execution_count": 98,
     "metadata": {},
     "output_type": "execute_result"
    }
   ],
   "source": [
    "df[(df['offer-received']==1)&(df['web']==1)].age.mean()"
   ]
  },
  {
   "cell_type": "code",
   "execution_count": 99,
   "metadata": {},
   "outputs": [
    {
     "data": {
      "text/plain": [
       "55.72904436030152"
      ]
     },
     "execution_count": 99,
     "metadata": {},
     "output_type": "execute_result"
    }
   ],
   "source": [
    "df[(df['offer-completed']==1)&(df['web']==1)].age.mean()"
   ]
  },
  {
   "cell_type": "markdown",
   "metadata": {},
   "source": [
    "In all of the channels used it seems that older users tend to have a higher completion rate. Looking at different channels there can be no completion rate difference observed depending on the age of users."
   ]
  },
  {
   "cell_type": "code",
   "execution_count": 100,
   "metadata": {},
   "outputs": [
    {
     "data": {
      "text/plain": [
       "65371.61847190268"
      ]
     },
     "execution_count": 100,
     "metadata": {},
     "output_type": "execute_result"
    }
   ],
   "source": [
    "df[(df['offer-received']==1)&(df['email']==1)].income.mean()"
   ]
  },
  {
   "cell_type": "code",
   "execution_count": 101,
   "metadata": {},
   "outputs": [
    {
     "data": {
      "text/plain": [
       "69430.80384662804"
      ]
     },
     "execution_count": 101,
     "metadata": {},
     "output_type": "execute_result"
    }
   ],
   "source": [
    "df[(df['offer-completed']==1)&(df['email']==1)].income.mean()"
   ]
  },
  {
   "cell_type": "code",
   "execution_count": 102,
   "metadata": {},
   "outputs": [
    {
     "data": {
      "text/plain": [
       "65456.107733279736"
      ]
     },
     "execution_count": 102,
     "metadata": {},
     "output_type": "execute_result"
    }
   ],
   "source": [
    "df[(df['offer-received']==1)&(df['social']==1)].income.mean()"
   ]
  },
  {
   "cell_type": "code",
   "execution_count": 103,
   "metadata": {},
   "outputs": [
    {
     "data": {
      "text/plain": [
       "69218.23560284365"
      ]
     },
     "execution_count": 103,
     "metadata": {},
     "output_type": "execute_result"
    }
   ],
   "source": [
    "df[(df['offer-completed']==1)&(df['social']==1)].income.mean()"
   ]
  },
  {
   "cell_type": "code",
   "execution_count": 104,
   "metadata": {},
   "outputs": [
    {
     "data": {
      "text/plain": [
       "65393.22459222083"
      ]
     },
     "execution_count": 104,
     "metadata": {},
     "output_type": "execute_result"
    }
   ],
   "source": [
    "df[(df['offer-received']==1)&(df['mobile']==1)].income.mean()"
   ]
  },
  {
   "cell_type": "code",
   "execution_count": 105,
   "metadata": {},
   "outputs": [
    {
     "data": {
      "text/plain": [
       "69145.84623855737"
      ]
     },
     "execution_count": 105,
     "metadata": {},
     "output_type": "execute_result"
    }
   ],
   "source": [
    "df[(df['offer-completed']==1)&(df['mobile']==1)].income.mean()"
   ]
  },
  {
   "cell_type": "code",
   "execution_count": 106,
   "metadata": {},
   "outputs": [
    {
     "data": {
      "text/plain": [
       "65323.196991067234"
      ]
     },
     "execution_count": 106,
     "metadata": {},
     "output_type": "execute_result"
    }
   ],
   "source": [
    "df[(df['offer-received']==1)&(df['web']==1)].income.mean()"
   ]
  },
  {
   "cell_type": "code",
   "execution_count": 107,
   "metadata": {},
   "outputs": [
    {
     "data": {
      "text/plain": [
       "69081.7730225449"
      ]
     },
     "execution_count": 107,
     "metadata": {},
     "output_type": "execute_result"
    }
   ],
   "source": [
    "df[(df['offer-completed']==1)&(df['web']==1)].income.mean()"
   ]
  },
  {
   "cell_type": "markdown",
   "metadata": {},
   "source": [
    "For income hte same is observed. This could also be because of the random selection of the experiment so no user groups are more presented than another in one special channel."
   ]
  },
  {
   "cell_type": "markdown",
   "metadata": {},
   "source": [
    "##### Conclusion\n",
    "There are some channels that perform better than others. In this data especially the channel web and to some extend social have higher completion rates. For further strategies it could be a good starting point to focus on this channels."
   ]
  },
  {
   "cell_type": "markdown",
   "metadata": {},
   "source": [
    "#### Does the offer type play a crucial role in how users act on the offer?"
   ]
  },
  {
   "cell_type": "code",
   "execution_count": 108,
   "metadata": {},
   "outputs": [
    {
     "data": {
      "text/plain": [
       "offer_type     gender\n",
       "bogo           M         15208\n",
       "               F         10975\n",
       "               O           354\n",
       "discount       M         15354\n",
       "               F         10943\n",
       "               O           367\n",
       "informational  M          7567\n",
       "               F          5538\n",
       "               O           195\n",
       "Name: gender, dtype: int64"
      ]
     },
     "execution_count": 108,
     "metadata": {},
     "output_type": "execute_result"
    }
   ],
   "source": [
    "df[df['offer-received']==1].groupby('offer_type').gender.value_counts()"
   ]
  },
  {
   "cell_type": "code",
   "execution_count": 109,
   "metadata": {},
   "outputs": [
    {
     "data": {
      "text/plain": [
       "offer_type  gender\n",
       "bogo        M         7512\n",
       "            F         7501\n",
       "            O          245\n",
       "discount    M         8954\n",
       "            F         7976\n",
       "            O          256\n",
       "Name: gender, dtype: int64"
      ]
     },
     "execution_count": 109,
     "metadata": {},
     "output_type": "execute_result"
    }
   ],
   "source": [
    "df[df['offer-completed']==1].groupby('offer_type').gender.value_counts()"
   ]
  },
  {
   "cell_type": "markdown",
   "metadata": {},
   "source": [
    "We see that male receive more offers than females in absolute terms but they have about the same numbers of offers completion which implies that women have a much higher completion rate depending on the offer types. Discounts have a small advantage compared to bogo."
   ]
  },
  {
   "cell_type": "code",
   "execution_count": 110,
   "metadata": {},
   "outputs": [
    {
     "data": {
      "text/plain": [
       "<matplotlib.legend.Legend at 0x19fcf376608>"
      ]
     },
     "execution_count": 110,
     "metadata": {},
     "output_type": "execute_result"
    },
    {
     "data": {
      "image/png": "[encoded data removed]",
      "text/plain": [
       "<Figure size 1080x360 with 1 Axes>"
      ]
     },
     "metadata": {
      "needs_background": "light"
     },
     "output_type": "display_data"
    }
   ],
   "source": [
    "plt.figure(figsize=(15, 5))\n",
    "sns.countplot(x= \"offer_type\", hue= \"gender\", data=df)\n",
    "sns.set(style=\"darkgrid\")\n",
    "plt.title('Gender distribution in offer types')\n",
    "plt.ylabel('Count')\n",
    "plt.xlabel('Offer Type')\n",
    "plt.legend(title='Gender')"
   ]
  },
  {
   "cell_type": "code",
   "execution_count": 111,
   "metadata": {
    "scrolled": true
   },
   "outputs": [
    {
     "data": {
      "text/plain": [
       "<matplotlib.legend.Legend at 0x19fcf0eec88>"
      ]
     },
     "execution_count": 111,
     "metadata": {},
     "output_type": "execute_result"
    },
    {
     "data": {
      "image/png": "[encoded data removed]",
      "text/plain": [
       "<Figure size 1080x360 with 1 Axes>"
      ]
     },
     "metadata": {},
     "output_type": "display_data"
    }
   ],
   "source": [
    "plt.figure(figsize=(15, 5))\n",
    "sns.countplot(x= \"event\", hue= \"offer_type\", data=df)\n",
    "sns.set(style=\"darkgrid\")\n",
    "plt.title('Distribution of offer types in events')\n",
    "plt.ylabel('Count')\n",
    "plt.xlabel('Event')\n",
    "plt.legend(title='Offer Type')"
   ]
  },
  {
   "cell_type": "code",
   "execution_count": 112,
   "metadata": {},
   "outputs": [
    {
     "data": {
      "text/html": [
       "<div>\n",
       "<style scoped>\n",
       "    .dataframe tbody tr th:only-of-type {\n",
       "        vertical-align: middle;\n",
       "    }\n",
       "\n",
       "    .dataframe tbody tr th {\n",
       "        vertical-align: top;\n",
       "    }\n",
       "\n",
       "    .dataframe thead th {\n",
       "        text-align: right;\n",
       "    }\n",
       "</style>\n",
       "<table border=\"1\" class=\"dataframe\">\n",
       "  <thead>\n",
       "    <tr style=\"text-align: right;\">\n",
       "      <th></th>\n",
       "      <th>gender</th>\n",
       "      <th>age</th>\n",
       "      <th>customer_id</th>\n",
       "      <th>became_member_on</th>\n",
       "      <th>income</th>\n",
       "      <th>event</th>\n",
       "      <th>time</th>\n",
       "      <th>offer-completed</th>\n",
       "      <th>offer-received</th>\n",
       "      <th>offer-viewed</th>\n",
       "      <th>...</th>\n",
       "      <th>amount</th>\n",
       "      <th>reward</th>\n",
       "      <th>difficulty</th>\n",
       "      <th>duration</th>\n",
       "      <th>offer_type</th>\n",
       "      <th>email</th>\n",
       "      <th>mobile</th>\n",
       "      <th>social</th>\n",
       "      <th>web</th>\n",
       "      <th>memberdays</th>\n",
       "    </tr>\n",
       "  </thead>\n",
       "  <tbody>\n",
       "    <tr>\n",
       "      <td>0</td>\n",
       "      <td>None</td>\n",
       "      <td>NaN</td>\n",
       "      <td>68be06ca386d4c31939f3a4f0e3dd783</td>\n",
       "      <td>2017-02-12</td>\n",
       "      <td>NaN</td>\n",
       "      <td>offer-received</td>\n",
       "      <td>168</td>\n",
       "      <td>0</td>\n",
       "      <td>1</td>\n",
       "      <td>0</td>\n",
       "      <td>...</td>\n",
       "      <td>NaN</td>\n",
       "      <td>2.0</td>\n",
       "      <td>10.0</td>\n",
       "      <td>7.0</td>\n",
       "      <td>discount</td>\n",
       "      <td>1.0</td>\n",
       "      <td>1.0</td>\n",
       "      <td>0.0</td>\n",
       "      <td>1.0</td>\n",
       "      <td>1655</td>\n",
       "    </tr>\n",
       "    <tr>\n",
       "      <td>1</td>\n",
       "      <td>None</td>\n",
       "      <td>NaN</td>\n",
       "      <td>68be06ca386d4c31939f3a4f0e3dd783</td>\n",
       "      <td>2017-02-12</td>\n",
       "      <td>NaN</td>\n",
       "      <td>offer-viewed</td>\n",
       "      <td>216</td>\n",
       "      <td>0</td>\n",
       "      <td>0</td>\n",
       "      <td>1</td>\n",
       "      <td>...</td>\n",
       "      <td>NaN</td>\n",
       "      <td>2.0</td>\n",
       "      <td>10.0</td>\n",
       "      <td>7.0</td>\n",
       "      <td>discount</td>\n",
       "      <td>1.0</td>\n",
       "      <td>1.0</td>\n",
       "      <td>0.0</td>\n",
       "      <td>1.0</td>\n",
       "      <td>1655</td>\n",
       "    </tr>\n",
       "    <tr>\n",
       "      <td>2</td>\n",
       "      <td>None</td>\n",
       "      <td>NaN</td>\n",
       "      <td>68be06ca386d4c31939f3a4f0e3dd783</td>\n",
       "      <td>2017-02-12</td>\n",
       "      <td>NaN</td>\n",
       "      <td>offer-received</td>\n",
       "      <td>336</td>\n",
       "      <td>0</td>\n",
       "      <td>1</td>\n",
       "      <td>0</td>\n",
       "      <td>...</td>\n",
       "      <td>NaN</td>\n",
       "      <td>5.0</td>\n",
       "      <td>20.0</td>\n",
       "      <td>10.0</td>\n",
       "      <td>discount</td>\n",
       "      <td>1.0</td>\n",
       "      <td>0.0</td>\n",
       "      <td>0.0</td>\n",
       "      <td>1.0</td>\n",
       "      <td>1655</td>\n",
       "    </tr>\n",
       "    <tr>\n",
       "      <td>3</td>\n",
       "      <td>None</td>\n",
       "      <td>NaN</td>\n",
       "      <td>68be06ca386d4c31939f3a4f0e3dd783</td>\n",
       "      <td>2017-02-12</td>\n",
       "      <td>NaN</td>\n",
       "      <td>offer-viewed</td>\n",
       "      <td>348</td>\n",
       "      <td>0</td>\n",
       "      <td>0</td>\n",
       "      <td>1</td>\n",
       "      <td>...</td>\n",
       "      <td>NaN</td>\n",
       "      <td>5.0</td>\n",
       "      <td>20.0</td>\n",
       "      <td>10.0</td>\n",
       "      <td>discount</td>\n",
       "      <td>1.0</td>\n",
       "      <td>0.0</td>\n",
       "      <td>0.0</td>\n",
       "      <td>1.0</td>\n",
       "      <td>1655</td>\n",
       "    </tr>\n",
       "    <tr>\n",
       "      <td>4</td>\n",
       "      <td>None</td>\n",
       "      <td>NaN</td>\n",
       "      <td>68be06ca386d4c31939f3a4f0e3dd783</td>\n",
       "      <td>2017-02-12</td>\n",
       "      <td>NaN</td>\n",
       "      <td>transaction</td>\n",
       "      <td>360</td>\n",
       "      <td>0</td>\n",
       "      <td>0</td>\n",
       "      <td>0</td>\n",
       "      <td>...</td>\n",
       "      <td>0.35</td>\n",
       "      <td>NaN</td>\n",
       "      <td>NaN</td>\n",
       "      <td>NaN</td>\n",
       "      <td>NaN</td>\n",
       "      <td>NaN</td>\n",
       "      <td>NaN</td>\n",
       "      <td>NaN</td>\n",
       "      <td>NaN</td>\n",
       "      <td>1655</td>\n",
       "    </tr>\n",
       "  </tbody>\n",
       "</table>\n",
       "<p>5 rows × 22 columns</p>\n",
       "</div>"
      ],
      "text/plain": [
       "  gender  age                       customer_id became_member_on  income  \\\n",
       "0   None  NaN  68be06ca386d4c31939f3a4f0e3dd783       2017-02-12     NaN   \n",
       "1   None  NaN  68be06ca386d4c31939f3a4f0e3dd783       2017-02-12     NaN   \n",
       "2   None  NaN  68be06ca386d4c31939f3a4f0e3dd783       2017-02-12     NaN   \n",
       "3   None  NaN  68be06ca386d4c31939f3a4f0e3dd783       2017-02-12     NaN   \n",
       "4   None  NaN  68be06ca386d4c31939f3a4f0e3dd783       2017-02-12     NaN   \n",
       "\n",
       "            event  time  offer-completed  offer-received  offer-viewed  ...  \\\n",
       "0  offer-received   168                0               1             0  ...   \n",
       "1    offer-viewed   216                0               0             1  ...   \n",
       "2  offer-received   336                0               1             0  ...   \n",
       "3    offer-viewed   348                0               0             1  ...   \n",
       "4     transaction   360                0               0             0  ...   \n",
       "\n",
       "   amount reward  difficulty  duration  offer_type  email mobile  social  web  \\\n",
       "0     NaN    2.0        10.0       7.0    discount    1.0    1.0     0.0  1.0   \n",
       "1     NaN    2.0        10.0       7.0    discount    1.0    1.0     0.0  1.0   \n",
       "2     NaN    5.0        20.0      10.0    discount    1.0    0.0     0.0  1.0   \n",
       "3     NaN    5.0        20.0      10.0    discount    1.0    0.0     0.0  1.0   \n",
       "4    0.35    NaN         NaN       NaN         NaN    NaN    NaN     NaN  NaN   \n",
       "\n",
       "   memberdays  \n",
       "0        1655  \n",
       "1        1655  \n",
       "2        1655  \n",
       "3        1655  \n",
       "4        1655  \n",
       "\n",
       "[5 rows x 22 columns]"
      ]
     },
     "execution_count": 112,
     "metadata": {},
     "output_type": "execute_result"
    }
   ],
   "source": [
    "df.head()"
   ]
  },
  {
   "cell_type": "code",
   "execution_count": 113,
   "metadata": {},
   "outputs": [],
   "source": [
    "bogo_completed = df[(df['offer-completed']==1)&(df['offer_type']=='bogo')].offer_id.count()\n",
    "bogo_received = df[(df['offer-received']==1)&(df['offer_type']=='bogo')].offer_id.count()\n",
    "bogo_viewed = df[(df['offer-viewed']==1)&(df['offer_type']=='bogo')].offer_id.count()\n",
    "\n",
    "discount_completed = df[(df['offer-completed']==1)&(df['offer_type']=='discount')].offer_id.count()\n",
    "discount_received = df[(df['offer-received']==1)&(df['offer_type']=='discount')].offer_id.count()\n",
    "discount_viewed = df[(df['offer-viewed']==1)&(df['offer_type']=='discount')].offer_id.count()"
   ]
  },
  {
   "cell_type": "code",
   "execution_count": 114,
   "metadata": {},
   "outputs": [
    {
     "data": {
      "text/plain": [
       "15669"
      ]
     },
     "execution_count": 114,
     "metadata": {},
     "output_type": "execute_result"
    }
   ],
   "source": [
    "bogo_completed"
   ]
  },
  {
   "cell_type": "code",
   "execution_count": 115,
   "metadata": {},
   "outputs": [
    {
     "data": {
      "image/png": "[encoded data removed]",
      "text/plain": [
       "<Figure size 1080x360 with 1 Axes>"
      ]
     },
     "metadata": {},
     "output_type": "display_data"
    }
   ],
   "source": [
    "# get a clear visualization if discount has a higher completion rate\n",
    "\n",
    "labels = ['received --> completed', 'viewed --> completed']\n",
    "bogo_performance = [bogo_completed/bogo_received, bogo_completed/bogo_viewed]\n",
    "discount_performance = [discount_completed/discount_received, discount_completed/discount_viewed]\n",
    "\n",
    "x = np.arange(len(labels)) \n",
    "width = 0.3\n",
    "\n",
    "fig, ax = plt.subplots(figsize=(15,5))\n",
    "rects1 = ax.bar(x - width/2, bogo_performance, width, label='bogo')\n",
    "rects2 = ax.bar(x + width/2, discount_performance, width, label='discount')\n",
    "\n",
    "ax.set_ylabel('Percentage')\n",
    "ax.set_title('Comparison of effectiveness of bogo and discount offers')\n",
    "ax.set_xticks(x)\n",
    "ax.set_xticklabels(labels)\n",
    "ax.legend()\n",
    "\n",
    "plt.show()"
   ]
  },
  {
   "cell_type": "markdown",
   "metadata": {},
   "source": [
    "##### Conclusion\n",
    "This graph shows that there are about the same amount of offer types getting send to users. Looking at the user journey it first seems that bogos are more effective as they get seen more times. Looking at which offer types leads to offer completion clearly states that discounts lead to more offer completion and therefore are more effective. It can be even said that once a discount is viewed it has a pretty high success rate."
   ]
  },
  {
   "cell_type": "code",
   "execution_count": 116,
   "metadata": {
    "scrolled": false
   },
   "outputs": [
    {
     "data": {
      "text/html": [
       "<div>\n",
       "<style scoped>\n",
       "    .dataframe tbody tr th:only-of-type {\n",
       "        vertical-align: middle;\n",
       "    }\n",
       "\n",
       "    .dataframe tbody tr th {\n",
       "        vertical-align: top;\n",
       "    }\n",
       "\n",
       "    .dataframe thead th {\n",
       "        text-align: right;\n",
       "    }\n",
       "</style>\n",
       "<table border=\"1\" class=\"dataframe\">\n",
       "  <thead>\n",
       "    <tr style=\"text-align: right;\">\n",
       "      <th></th>\n",
       "      <th>gender</th>\n",
       "      <th>age</th>\n",
       "      <th>customer_id</th>\n",
       "      <th>became_member_on</th>\n",
       "      <th>income</th>\n",
       "      <th>event</th>\n",
       "      <th>time</th>\n",
       "      <th>offer-completed</th>\n",
       "      <th>offer-received</th>\n",
       "      <th>offer-viewed</th>\n",
       "      <th>...</th>\n",
       "      <th>amount</th>\n",
       "      <th>reward</th>\n",
       "      <th>difficulty</th>\n",
       "      <th>duration</th>\n",
       "      <th>offer_type</th>\n",
       "      <th>email</th>\n",
       "      <th>mobile</th>\n",
       "      <th>social</th>\n",
       "      <th>web</th>\n",
       "      <th>memberdays</th>\n",
       "    </tr>\n",
       "  </thead>\n",
       "  <tbody>\n",
       "    <tr>\n",
       "      <td>0</td>\n",
       "      <td>None</td>\n",
       "      <td>NaN</td>\n",
       "      <td>68be06ca386d4c31939f3a4f0e3dd783</td>\n",
       "      <td>2017-02-12</td>\n",
       "      <td>NaN</td>\n",
       "      <td>offer-received</td>\n",
       "      <td>168</td>\n",
       "      <td>0</td>\n",
       "      <td>1</td>\n",
       "      <td>0</td>\n",
       "      <td>...</td>\n",
       "      <td>NaN</td>\n",
       "      <td>2.0</td>\n",
       "      <td>10.0</td>\n",
       "      <td>7.0</td>\n",
       "      <td>discount</td>\n",
       "      <td>1.0</td>\n",
       "      <td>1.0</td>\n",
       "      <td>0.0</td>\n",
       "      <td>1.0</td>\n",
       "      <td>1655</td>\n",
       "    </tr>\n",
       "    <tr>\n",
       "      <td>1</td>\n",
       "      <td>None</td>\n",
       "      <td>NaN</td>\n",
       "      <td>68be06ca386d4c31939f3a4f0e3dd783</td>\n",
       "      <td>2017-02-12</td>\n",
       "      <td>NaN</td>\n",
       "      <td>offer-viewed</td>\n",
       "      <td>216</td>\n",
       "      <td>0</td>\n",
       "      <td>0</td>\n",
       "      <td>1</td>\n",
       "      <td>...</td>\n",
       "      <td>NaN</td>\n",
       "      <td>2.0</td>\n",
       "      <td>10.0</td>\n",
       "      <td>7.0</td>\n",
       "      <td>discount</td>\n",
       "      <td>1.0</td>\n",
       "      <td>1.0</td>\n",
       "      <td>0.0</td>\n",
       "      <td>1.0</td>\n",
       "      <td>1655</td>\n",
       "    </tr>\n",
       "    <tr>\n",
       "      <td>2</td>\n",
       "      <td>None</td>\n",
       "      <td>NaN</td>\n",
       "      <td>68be06ca386d4c31939f3a4f0e3dd783</td>\n",
       "      <td>2017-02-12</td>\n",
       "      <td>NaN</td>\n",
       "      <td>offer-received</td>\n",
       "      <td>336</td>\n",
       "      <td>0</td>\n",
       "      <td>1</td>\n",
       "      <td>0</td>\n",
       "      <td>...</td>\n",
       "      <td>NaN</td>\n",
       "      <td>5.0</td>\n",
       "      <td>20.0</td>\n",
       "      <td>10.0</td>\n",
       "      <td>discount</td>\n",
       "      <td>1.0</td>\n",
       "      <td>0.0</td>\n",
       "      <td>0.0</td>\n",
       "      <td>1.0</td>\n",
       "      <td>1655</td>\n",
       "    </tr>\n",
       "    <tr>\n",
       "      <td>3</td>\n",
       "      <td>None</td>\n",
       "      <td>NaN</td>\n",
       "      <td>68be06ca386d4c31939f3a4f0e3dd783</td>\n",
       "      <td>2017-02-12</td>\n",
       "      <td>NaN</td>\n",
       "      <td>offer-viewed</td>\n",
       "      <td>348</td>\n",
       "      <td>0</td>\n",
       "      <td>0</td>\n",
       "      <td>1</td>\n",
       "      <td>...</td>\n",
       "      <td>NaN</td>\n",
       "      <td>5.0</td>\n",
       "      <td>20.0</td>\n",
       "      <td>10.0</td>\n",
       "      <td>discount</td>\n",
       "      <td>1.0</td>\n",
       "      <td>0.0</td>\n",
       "      <td>0.0</td>\n",
       "      <td>1.0</td>\n",
       "      <td>1655</td>\n",
       "    </tr>\n",
       "    <tr>\n",
       "      <td>4</td>\n",
       "      <td>None</td>\n",
       "      <td>NaN</td>\n",
       "      <td>68be06ca386d4c31939f3a4f0e3dd783</td>\n",
       "      <td>2017-02-12</td>\n",
       "      <td>NaN</td>\n",
       "      <td>transaction</td>\n",
       "      <td>360</td>\n",
       "      <td>0</td>\n",
       "      <td>0</td>\n",
       "      <td>0</td>\n",
       "      <td>...</td>\n",
       "      <td>0.35</td>\n",
       "      <td>NaN</td>\n",
       "      <td>NaN</td>\n",
       "      <td>NaN</td>\n",
       "      <td>NaN</td>\n",
       "      <td>NaN</td>\n",
       "      <td>NaN</td>\n",
       "      <td>NaN</td>\n",
       "      <td>NaN</td>\n",
       "      <td>1655</td>\n",
       "    </tr>\n",
       "  </tbody>\n",
       "</table>\n",
       "<p>5 rows × 22 columns</p>\n",
       "</div>"
      ],
      "text/plain": [
       "  gender  age                       customer_id became_member_on  income  \\\n",
       "0   None  NaN  68be06ca386d4c31939f3a4f0e3dd783       2017-02-12     NaN   \n",
       "1   None  NaN  68be06ca386d4c31939f3a4f0e3dd783       2017-02-12     NaN   \n",
       "2   None  NaN  68be06ca386d4c31939f3a4f0e3dd783       2017-02-12     NaN   \n",
       "3   None  NaN  68be06ca386d4c31939f3a4f0e3dd783       2017-02-12     NaN   \n",
       "4   None  NaN  68be06ca386d4c31939f3a4f0e3dd783       2017-02-12     NaN   \n",
       "\n",
       "            event  time  offer-completed  offer-received  offer-viewed  ...  \\\n",
       "0  offer-received   168                0               1             0  ...   \n",
       "1    offer-viewed   216                0               0             1  ...   \n",
       "2  offer-received   336                0               1             0  ...   \n",
       "3    offer-viewed   348                0               0             1  ...   \n",
       "4     transaction   360                0               0             0  ...   \n",
       "\n",
       "   amount reward  difficulty  duration  offer_type  email mobile  social  web  \\\n",
       "0     NaN    2.0        10.0       7.0    discount    1.0    1.0     0.0  1.0   \n",
       "1     NaN    2.0        10.0       7.0    discount    1.0    1.0     0.0  1.0   \n",
       "2     NaN    5.0        20.0      10.0    discount    1.0    0.0     0.0  1.0   \n",
       "3     NaN    5.0        20.0      10.0    discount    1.0    0.0     0.0  1.0   \n",
       "4    0.35    NaN         NaN       NaN         NaN    NaN    NaN     NaN  NaN   \n",
       "\n",
       "   memberdays  \n",
       "0        1655  \n",
       "1        1655  \n",
       "2        1655  \n",
       "3        1655  \n",
       "4        1655  \n",
       "\n",
       "[5 rows x 22 columns]"
      ]
     },
     "execution_count": 116,
     "metadata": {},
     "output_type": "execute_result"
    }
   ],
   "source": [
    "df.head()"
   ]
  },
  {
   "cell_type": "code",
   "execution_count": 117,
   "metadata": {},
   "outputs": [],
   "source": [
    "customer_ids = pd.unique(df['customer_id'])\n",
    "offer_ids = pd.unique(df['offer_id'])"
   ]
  },
  {
   "cell_type": "code",
   "execution_count": 118,
   "metadata": {},
   "outputs": [
    {
     "data": {
      "text/plain": [
       "array(['2906b810c7d4411798c6938adc9daaa5',\n",
       "       '0b1e1539f2cc45b7b9fa7c272da2e1d7', None,\n",
       "       'fafdcd668e3743c1bb461111dcafc2a4',\n",
       "       '2298d6c36e964ae4a3e7e9706d1fb8c2',\n",
       "       '9b98b8c7a33c4b65b9aebfe6a799e6d9',\n",
       "       '3f207df678b143eea3cee63160fa8bed',\n",
       "       '5a8bc65990b245e5a138643cd4eb9837',\n",
       "       'ae264e3637204a6fb9bb56bc8210ddfd',\n",
       "       'f19421c1d4aa40978ebb69ca19b0e20d',\n",
       "       '4d5c57ea9a6940dd891ad53e9dbe8da0'], dtype=object)"
      ]
     },
     "execution_count": 118,
     "metadata": {},
     "output_type": "execute_result"
    }
   ],
   "source": [
    "offer_ids"
   ]
  },
  {
   "cell_type": "code",
   "execution_count": 119,
   "metadata": {},
   "outputs": [
    {
     "data": {
      "text/plain": [
       "3"
      ]
     },
     "execution_count": 119,
     "metadata": {},
     "output_type": "execute_result"
    }
   ],
   "source": [
    "df[(df.offer_id=='f19421c1d4aa40978ebb69ca19b0e20d')&(df.customer_id=='78afa995795e4d85b5d9ceeca43f5fef')]['offer-completed'].shape[0]"
   ]
  },
  {
   "cell_type": "code",
   "execution_count": 120,
   "metadata": {},
   "outputs": [
    {
     "data": {
      "text/plain": [
       "1"
      ]
     },
     "execution_count": 120,
     "metadata": {},
     "output_type": "execute_result"
    }
   ],
   "source": [
    "df[(df.offer_id=='f19421c1d4aa40978ebb69ca19b0e20d')&(df.customer_id=='78afa995795e4d85b5d9ceeca43f5fef')]['offer-completed'].sum()"
   ]
  },
  {
   "cell_type": "code",
   "execution_count": 121,
   "metadata": {},
   "outputs": [],
   "source": [
    "df['offer_success'] = 0\n",
    "df['offer_failure'] = 0"
   ]
  },
  {
   "cell_type": "code",
   "execution_count": 122,
   "metadata": {},
   "outputs": [],
   "source": [
    "# build a success and failure column\n",
    "\n",
    "\n",
    "#for offer in offer_ids:\n",
    " #   for customer in customer_ids:\n",
    "  #      if df[(df.offer_id==offer)&(df.customer_id==customer)]['offer-completed'].sum() == df[(df.offer_id==offer)&(df.customer_id==customer)]['offer-received'].sum():\n",
    "   #         df[(df.offer_id==offer)&(df.customer_id==customer)]['offer_success'] == 1\n",
    "    #    else:\n",
    "     #       continue"
   ]
  },
  {
   "cell_type": "markdown",
   "metadata": {},
   "source": [
    "## Conclusion\n",
    "To see the bigger picture it was necessary to deep dive into the data and into single steps. For me starting point of the analysis was to see if the user journey from receiving an offer to viewing and completing it has some special characteristics to inform further offer strategies.\n",
    "\n",
    "Looking at a user level it can be seen that women tend to be a more lucrative source for Starbucks as they tend to have a higher completion rate of the offers and also have a higher average transaction value. Also income seems to increase for the users that complete an offer. Interestingly men have a slightly higher increase which could make men with a higher income a potential target for new offers.\n",
    "\n",
    "In general it can be said that the web channel has the best performance in completion rate follwed by social. Also interestingly there can be no differences be detected in user characteristics which leads me to the implication that the web channel just has a better performance.\n",
    "\n",
    "In the end looking at the offer types discount have a better performance than bogo which could Starbucks lead to the implication that for further strategies discounts are the most effective way when it comes down to offer completion ratio.\n",
    "\n",
    "To sum up, to increase the offer effectiveness Starbucks could focus on female users using the web channel and offering more discounts."
   ]
  },
  {
   "cell_type": "markdown",
   "metadata": {},
   "source": [
    "# Data Modeling"
   ]
  },
  {
   "cell_type": "code",
   "execution_count": 123,
   "metadata": {},
   "outputs": [
    {
     "name": "stderr",
     "output_type": "stream",
     "text": [
      "C:\\ProgramData\\Anaconda3\\lib\\site-packages\\ipykernel_launcher.py:4: SettingWithCopyWarning: \n",
      "A value is trying to be set on a copy of a slice from a DataFrame.\n",
      "Try using .loc[row_indexer,col_indexer] = value instead\n",
      "\n",
      "See the caveats in the documentation: http://pandas.pydata.org/pandas-docs/stable/user_guide/indexing.html#returning-a-view-versus-a-copy\n",
      "  after removing the cwd from sys.path.\n"
     ]
    }
   ],
   "source": [
    "# extract the rows that are related to offer action\n",
    "data = transcript[transcript['value'].apply(lambda x: True if ('offer id' in x) or ('offer_id' in x) else False)]\n",
    "    # extract the offer id from value column\n",
    "data['offer_id'] = data['value'].apply(lambda x: x['offer id'] if ('offer id' in x) else x['offer_id'])"
   ]
  },
  {
   "cell_type": "code",
   "execution_count": 126,
   "metadata": {},
   "outputs": [],
   "source": [
    "def create_user_item_matrix(data, filename):\n",
    "    '''\n",
    "    INPUT: dataframe, filename for saving\n",
    "    OUTPUT: user item matrix\n",
    "    '''\n",
    "\n",
    "    # user item matrix\n",
    "    ui_matrix = data.groupby(['person', 'offer_id'])['event'].agg(lambda x: np.nan).unstack()\n",
    "    # as explained before only bogo and discount are from interest\n",
    "    ui_matrix.drop(list(portfolio[portfolio['offer_type']=='informational']['id']), axis=1, inplace=True)\n",
    "    \n",
    "    for offer_id in ui_matrix.columns:\n",
    "        print(offer_id)\n",
    "        i = 0\n",
    "        for person in ui_matrix.index:\n",
    "            i += 1\n",
    "            \n",
    "            tracking_events = []\n",
    "\n",
    "            for event in data[(data['offer_id']==offer_id) & (data['person']==person)]['event']:\n",
    "                    tracking_events.append(event)\n",
    "            if len(tracking_events) >= 3:\n",
    "                ui_matrix.loc[person, offer_id] = 0\n",
    "                for i in range(len(tracking_events)-2):\n",
    "                    # check for logical transaction\n",
    "                    if (tracking_events[i] == 'offer received') & (tracking_events[i+1] == 'offer viewed') & (tracking_events[i+2] == 'offer completed'):\n",
    "                                ui_matrix.loc[person, offer_id] += 1\n",
    "                    elif len(tracking_events) > 0:\n",
    "                        ui_matrix.loc[person, offer_id] = 0\n",
    "    \n",
    "    # save in file\n",
    "    fh = open(filename, 'wb')\n",
    "    pickle.dump(ui_matrix,fh)\n",
    "    fh.close()\n",
    "    \n",
    "    return ui_matrix"
   ]
  },
  {
   "cell_type": "code",
   "execution_count": 127,
   "metadata": {},
   "outputs": [
    {
     "name": "stdout",
     "output_type": "stream",
     "text": [
      "0b1e1539f2cc45b7b9fa7c272da2e1d7\n",
      "2298d6c36e964ae4a3e7e9706d1fb8c2\n",
      "2906b810c7d4411798c6938adc9daaa5\n",
      "4d5c57ea9a6940dd891ad53e9dbe8da0\n",
      "9b98b8c7a33c4b65b9aebfe6a799e6d9\n",
      "ae264e3637204a6fb9bb56bc8210ddfd\n",
      "f19421c1d4aa40978ebb69ca19b0e20d\n",
      "fafdcd668e3743c1bb461111dcafc2a4\n"
     ]
    }
   ],
   "source": [
    "full_df = create_user_item_matrix(data, 'user_item_matrix.p')"
   ]
  },
  {
   "cell_type": "code",
   "execution_count": 128,
   "metadata": {},
   "outputs": [
    {
     "data": {
      "text/plain": [
       "(108927, 58654)"
      ]
     },
     "execution_count": 128,
     "metadata": {},
     "output_type": "execute_result"
    }
   ],
   "source": [
    "train_size = int(data.shape[0]*0.65)\n",
    "test_size = data.shape[0] - train_size\n",
    "train_size, test_size"
   ]
  },
  {
   "cell_type": "code",
   "execution_count": 129,
   "metadata": {},
   "outputs": [],
   "source": [
    "train_offer = data[:train_size]"
   ]
  },
  {
   "cell_type": "code",
   "execution_count": 130,
   "metadata": {},
   "outputs": [],
   "source": [
    "test_offer = data[train_size:]"
   ]
  },
  {
   "cell_type": "code",
   "execution_count": 131,
   "metadata": {},
   "outputs": [
    {
     "name": "stdout",
     "output_type": "stream",
     "text": [
      "0b1e1539f2cc45b7b9fa7c272da2e1d7\n",
      "2298d6c36e964ae4a3e7e9706d1fb8c2\n",
      "2906b810c7d4411798c6938adc9daaa5\n",
      "4d5c57ea9a6940dd891ad53e9dbe8da0\n",
      "9b98b8c7a33c4b65b9aebfe6a799e6d9\n",
      "ae264e3637204a6fb9bb56bc8210ddfd\n",
      "f19421c1d4aa40978ebb69ca19b0e20d\n",
      "fafdcd668e3743c1bb461111dcafc2a4\n"
     ]
    }
   ],
   "source": [
    "train_df = create_user_item_matrix(train_offer, 'train_df.p')"
   ]
  },
  {
   "cell_type": "code",
   "execution_count": 132,
   "metadata": {},
   "outputs": [
    {
     "name": "stdout",
     "output_type": "stream",
     "text": [
      "0b1e1539f2cc45b7b9fa7c272da2e1d7\n",
      "2298d6c36e964ae4a3e7e9706d1fb8c2\n",
      "2906b810c7d4411798c6938adc9daaa5\n",
      "4d5c57ea9a6940dd891ad53e9dbe8da0\n",
      "9b98b8c7a33c4b65b9aebfe6a799e6d9\n",
      "ae264e3637204a6fb9bb56bc8210ddfd\n",
      "f19421c1d4aa40978ebb69ca19b0e20d\n",
      "fafdcd668e3743c1bb461111dcafc2a4\n"
     ]
    }
   ],
   "source": [
    "test_df = create_user_item_matrix(test_offer, 'test_df.p')"
   ]
  },
  {
   "cell_type": "code",
   "execution_count": 133,
   "metadata": {},
   "outputs": [],
   "source": [
    "def FunkSVD(matrix, latent_features=10, learning_rate=0.01, iters=300):\n",
    "    '''\n",
    "       Matrix factorization\n",
    "       INPUT: user item matrix, latent features number, learning rate, iterations\n",
    "       OUTPU: user latent feature matrix, latent features by offer\n",
    "    '''\n",
    "    \n",
    "    # setup values\n",
    "    n_users = matrix.shape[0]\n",
    "    n_offers = matrix.shape[1]\n",
    "    num_complete = np.count_nonzero(~np.isnan(matrix))\n",
    "    \n",
    "    # initialize with random values\n",
    "    user_matrix = np.random.rand(n_users, latent_features)\n",
    "    offer_matrix = np.random.rand(latent_features, n_offers)\n",
    "    \n",
    "    # initialize sse first iteration\n",
    "    sse_accumulated = 0\n",
    "    \n",
    "    # keep track of iteration and MSE\n",
    "    print(\"Iterations | Mean Squared Error \")\n",
    "    \n",
    "    for iteration in range(iters):\n",
    "\n",
    "        # update our sse\n",
    "        old_sse = sse_accumulated\n",
    "        sse_accumulated = 0\n",
    "        \n",
    "        # For each user-offer pair\n",
    "        for i in range(n_users):\n",
    "            for j in range(n_offers):\n",
    "                \n",
    "                # if the rating exists\n",
    "                if matrix[i, j] >= 0:\n",
    "                    \n",
    "                    # compute the error \n",
    "                    diff = matrix[i, j] - np.dot(user_matrix[i, :], offer_matrix[:, j])\n",
    "                    \n",
    "                    # Keep track of the sum of squared errors\n",
    "                    sse_accumulated += diff**2\n",
    "                    \n",
    "                    # update values\n",
    "                    for k in range(latent_features):\n",
    "                        user_matrix[i, k] += learning_rate * (2*diff*offer_matrix[k, j])\n",
    "                        offer_matrix[k, j] += learning_rate * (2*diff*user_matrix[i, k])\n",
    "\n",
    "        # print results\n",
    "        print(\"%d \\t\\t %f\" % (iteration+1, sse_accumulated / num_complete))\n",
    "        \n",
    "    return user_matrix, offer_matrix"
   ]
  },
  {
   "cell_type": "code",
   "execution_count": 134,
   "metadata": {},
   "outputs": [
    {
     "name": "stdout",
     "output_type": "stream",
     "text": [
      "Iterations | Mean Squared Error \n",
      "1 \t\t 0.260520\n",
      "2 \t\t 0.206696\n",
      "3 \t\t 0.205186\n",
      "4 \t\t 0.203716\n",
      "5 \t\t 0.202237\n",
      "6 \t\t 0.200751\n",
      "7 \t\t 0.199254\n",
      "8 \t\t 0.197746\n",
      "9 \t\t 0.196223\n",
      "10 \t\t 0.194683\n",
      "11 \t\t 0.193124\n",
      "12 \t\t 0.191542\n",
      "13 \t\t 0.189935\n",
      "14 \t\t 0.188299\n",
      "15 \t\t 0.186630\n",
      "16 \t\t 0.184926\n",
      "17 \t\t 0.183183\n",
      "18 \t\t 0.181395\n",
      "19 \t\t 0.179560\n",
      "20 \t\t 0.177673\n",
      "21 \t\t 0.175730\n",
      "22 \t\t 0.173727\n",
      "23 \t\t 0.171659\n",
      "24 \t\t 0.169523\n",
      "25 \t\t 0.167314\n",
      "26 \t\t 0.165030\n",
      "27 \t\t 0.162667\n",
      "28 \t\t 0.160222\n",
      "29 \t\t 0.157694\n",
      "30 \t\t 0.155082\n",
      "31 \t\t 0.152384\n",
      "32 \t\t 0.149601\n",
      "33 \t\t 0.146734\n",
      "34 \t\t 0.143785\n",
      "35 \t\t 0.140758\n",
      "36 \t\t 0.137657\n",
      "37 \t\t 0.134486\n",
      "38 \t\t 0.131253\n",
      "39 \t\t 0.127963\n",
      "40 \t\t 0.124625\n",
      "41 \t\t 0.121247\n",
      "42 \t\t 0.117838\n",
      "43 \t\t 0.114407\n",
      "44 \t\t 0.110965\n",
      "45 \t\t 0.107521\n",
      "46 \t\t 0.104084\n",
      "47 \t\t 0.100664\n",
      "48 \t\t 0.097270\n",
      "49 \t\t 0.093911\n",
      "50 \t\t 0.090594\n",
      "51 \t\t 0.087327\n",
      "52 \t\t 0.084117\n",
      "53 \t\t 0.080970\n",
      "54 \t\t 0.077890\n",
      "55 \t\t 0.074882\n",
      "56 \t\t 0.071949\n",
      "57 \t\t 0.069094\n",
      "58 \t\t 0.066320\n",
      "59 \t\t 0.063628\n",
      "60 \t\t 0.061019\n",
      "61 \t\t 0.058494\n",
      "62 \t\t 0.056052\n",
      "63 \t\t 0.053694\n",
      "64 \t\t 0.051419\n",
      "65 \t\t 0.049225\n",
      "66 \t\t 0.047111\n",
      "67 \t\t 0.045077\n",
      "68 \t\t 0.043120\n",
      "69 \t\t 0.041238\n",
      "70 \t\t 0.039431\n",
      "71 \t\t 0.037695\n",
      "72 \t\t 0.036029\n",
      "73 \t\t 0.034430\n",
      "74 \t\t 0.032898\n",
      "75 \t\t 0.031429\n",
      "76 \t\t 0.030021\n",
      "77 \t\t 0.028672\n",
      "78 \t\t 0.027381\n",
      "79 \t\t 0.026145\n",
      "80 \t\t 0.024962\n",
      "81 \t\t 0.023830\n",
      "82 \t\t 0.022747\n",
      "83 \t\t 0.021712\n",
      "84 \t\t 0.020722\n",
      "85 \t\t 0.019776\n",
      "86 \t\t 0.018872\n",
      "87 \t\t 0.018008\n",
      "88 \t\t 0.017183\n",
      "89 \t\t 0.016395\n",
      "90 \t\t 0.015643\n",
      "91 \t\t 0.014924\n",
      "92 \t\t 0.014238\n",
      "93 \t\t 0.013583\n",
      "94 \t\t 0.012959\n",
      "95 \t\t 0.012363\n",
      "96 \t\t 0.011794\n",
      "97 \t\t 0.011252\n",
      "98 \t\t 0.010734\n",
      "99 \t\t 0.010241\n",
      "100 \t\t 0.009770\n"
     ]
    }
   ],
   "source": [
    "# Create user-by-item matrix\n",
    "train_data_np = np.array(train_df)\n",
    "\n",
    "# Fit FunkSVD with parameters \n",
    "user_matrix, offer_matrix = FunkSVD(train_data_np, latent_features=15, learning_rate=0.01, iters=100)"
   ]
  },
  {
   "cell_type": "code",
   "execution_count": 135,
   "metadata": {},
   "outputs": [
    {
     "name": "stdout",
     "output_type": "stream",
     "text": [
      "Iterations | Mean Squared Error \n",
      "1 \t\t 0.235701\n",
      "2 \t\t 0.206924\n",
      "3 \t\t 0.204906\n",
      "4 \t\t 0.202902\n",
      "5 \t\t 0.200909\n",
      "6 \t\t 0.198927\n",
      "7 \t\t 0.196958\n",
      "8 \t\t 0.194998\n",
      "9 \t\t 0.193046\n",
      "10 \t\t 0.191101\n",
      "11 \t\t 0.189161\n",
      "12 \t\t 0.187224\n",
      "13 \t\t 0.185288\n",
      "14 \t\t 0.183351\n",
      "15 \t\t 0.181411\n",
      "16 \t\t 0.179465\n",
      "17 \t\t 0.177511\n",
      "18 \t\t 0.175547\n",
      "19 \t\t 0.173569\n",
      "20 \t\t 0.171576\n",
      "21 \t\t 0.169564\n",
      "22 \t\t 0.167530\n",
      "23 \t\t 0.165473\n",
      "24 \t\t 0.163387\n",
      "25 \t\t 0.161272\n",
      "26 \t\t 0.159124\n",
      "27 \t\t 0.156940\n",
      "28 \t\t 0.154718\n",
      "29 \t\t 0.152456\n",
      "30 \t\t 0.150151\n",
      "31 \t\t 0.147802\n",
      "32 \t\t 0.145408\n",
      "33 \t\t 0.142968\n",
      "34 \t\t 0.140481\n",
      "35 \t\t 0.137948\n",
      "36 \t\t 0.135370\n",
      "37 \t\t 0.132747\n",
      "38 \t\t 0.130082\n",
      "39 \t\t 0.127379\n",
      "40 \t\t 0.124639\n",
      "41 \t\t 0.121868\n",
      "42 \t\t 0.119069\n",
      "43 \t\t 0.116248\n",
      "44 \t\t 0.113410\n",
      "45 \t\t 0.110561\n",
      "46 \t\t 0.107708\n",
      "47 \t\t 0.104856\n",
      "48 \t\t 0.102012\n",
      "49 \t\t 0.099182\n",
      "50 \t\t 0.096371\n",
      "51 \t\t 0.093587\n",
      "52 \t\t 0.090834\n",
      "53 \t\t 0.088118\n",
      "54 \t\t 0.085443\n",
      "55 \t\t 0.082814\n",
      "56 \t\t 0.080234\n",
      "57 \t\t 0.077706\n",
      "58 \t\t 0.075234\n",
      "59 \t\t 0.072820\n",
      "60 \t\t 0.070464\n",
      "61 \t\t 0.068170\n",
      "62 \t\t 0.065936\n",
      "63 \t\t 0.063765\n",
      "64 \t\t 0.061655\n",
      "65 \t\t 0.059607\n",
      "66 \t\t 0.057619\n",
      "67 \t\t 0.055692\n",
      "68 \t\t 0.053824\n",
      "69 \t\t 0.052014\n",
      "70 \t\t 0.050260\n",
      "71 \t\t 0.048562\n",
      "72 \t\t 0.046918\n",
      "73 \t\t 0.045325\n",
      "74 \t\t 0.043784\n",
      "75 \t\t 0.042292\n",
      "76 \t\t 0.040847\n",
      "77 \t\t 0.039448\n",
      "78 \t\t 0.038095\n",
      "79 \t\t 0.036784\n",
      "80 \t\t 0.035516\n",
      "81 \t\t 0.034288\n",
      "82 \t\t 0.033100\n",
      "83 \t\t 0.031950\n",
      "84 \t\t 0.030837\n",
      "85 \t\t 0.029760\n",
      "86 \t\t 0.028717\n",
      "87 \t\t 0.027709\n",
      "88 \t\t 0.026733\n",
      "89 \t\t 0.025789\n",
      "90 \t\t 0.024876\n",
      "91 \t\t 0.023993\n",
      "92 \t\t 0.023139\n",
      "93 \t\t 0.022314\n",
      "94 \t\t 0.021516\n",
      "95 \t\t 0.020744\n",
      "96 \t\t 0.019999\n",
      "97 \t\t 0.019279\n",
      "98 \t\t 0.018583\n",
      "99 \t\t 0.017912\n",
      "100 \t\t 0.017263\n"
     ]
    }
   ],
   "source": [
    "# latent feature. (n = 10)\n",
    "user_mat_10, offer_mat_10 = FunkSVD(train_data_np, latent_features=10, learning_rate=0.01, iters=100)"
   ]
  },
  {
   "cell_type": "code",
   "execution_count": 136,
   "metadata": {},
   "outputs": [
    {
     "name": "stdout",
     "output_type": "stream",
     "text": [
      "Iterations | Mean Squared Error \n",
      "1 \t\t 0.232248\n",
      "2 \t\t 0.219837\n",
      "3 \t\t 0.215798\n",
      "4 \t\t 0.211884\n",
      "5 \t\t 0.208065\n",
      "6 \t\t 0.204336\n",
      "7 \t\t 0.200697\n",
      "8 \t\t 0.197144\n",
      "9 \t\t 0.193676\n",
      "10 \t\t 0.190290\n",
      "11 \t\t 0.186985\n",
      "12 \t\t 0.183758\n",
      "13 \t\t 0.180606\n",
      "14 \t\t 0.177528\n",
      "15 \t\t 0.174522\n",
      "16 \t\t 0.171584\n",
      "17 \t\t 0.168713\n",
      "18 \t\t 0.165906\n",
      "19 \t\t 0.163161\n",
      "20 \t\t 0.160476\n",
      "21 \t\t 0.157848\n",
      "22 \t\t 0.155275\n",
      "23 \t\t 0.152754\n",
      "24 \t\t 0.150284\n",
      "25 \t\t 0.147862\n",
      "26 \t\t 0.145486\n",
      "27 \t\t 0.143153\n",
      "28 \t\t 0.140862\n",
      "29 \t\t 0.138609\n",
      "30 \t\t 0.136393\n",
      "31 \t\t 0.134211\n",
      "32 \t\t 0.132062\n",
      "33 \t\t 0.129944\n",
      "34 \t\t 0.127853\n",
      "35 \t\t 0.125789\n",
      "36 \t\t 0.123749\n",
      "37 \t\t 0.121732\n",
      "38 \t\t 0.119735\n",
      "39 \t\t 0.117757\n",
      "40 \t\t 0.115797\n",
      "41 \t\t 0.113852\n",
      "42 \t\t 0.111922\n",
      "43 \t\t 0.110004\n",
      "44 \t\t 0.108099\n",
      "45 \t\t 0.106205\n",
      "46 \t\t 0.104320\n",
      "47 \t\t 0.102445\n",
      "48 \t\t 0.100578\n",
      "49 \t\t 0.098720\n",
      "50 \t\t 0.096870\n",
      "51 \t\t 0.095028\n",
      "52 \t\t 0.093195\n",
      "53 \t\t 0.091370\n",
      "54 \t\t 0.089553\n",
      "55 \t\t 0.087747\n",
      "56 \t\t 0.085950\n",
      "57 \t\t 0.084165\n",
      "58 \t\t 0.082391\n",
      "59 \t\t 0.080631\n",
      "60 \t\t 0.078885\n",
      "61 \t\t 0.077155\n",
      "62 \t\t 0.075442\n",
      "63 \t\t 0.073747\n",
      "64 \t\t 0.072072\n",
      "65 \t\t 0.070417\n",
      "66 \t\t 0.068785\n",
      "67 \t\t 0.067175\n",
      "68 \t\t 0.065591\n",
      "69 \t\t 0.064032\n",
      "70 \t\t 0.062499\n",
      "71 \t\t 0.060995\n",
      "72 \t\t 0.059518\n",
      "73 \t\t 0.058071\n",
      "74 \t\t 0.056653\n",
      "75 \t\t 0.055265\n",
      "76 \t\t 0.053907\n",
      "77 \t\t 0.052580\n",
      "78 \t\t 0.051284\n",
      "79 \t\t 0.050018\n",
      "80 \t\t 0.048783\n",
      "81 \t\t 0.047578\n",
      "82 \t\t 0.046403\n",
      "83 \t\t 0.045259\n",
      "84 \t\t 0.044143\n",
      "85 \t\t 0.043057\n",
      "86 \t\t 0.041999\n",
      "87 \t\t 0.040969\n",
      "88 \t\t 0.039966\n",
      "89 \t\t 0.038990\n",
      "90 \t\t 0.038041\n",
      "91 \t\t 0.037117\n",
      "92 \t\t 0.036217\n",
      "93 \t\t 0.035342\n",
      "94 \t\t 0.034490\n",
      "95 \t\t 0.033662\n",
      "96 \t\t 0.032856\n",
      "97 \t\t 0.032071\n",
      "98 \t\t 0.031308\n",
      "99 \t\t 0.030565\n",
      "100 \t\t 0.029842\n"
     ]
    }
   ],
   "source": [
    "# latent feature. (n = 5)\n",
    "user_mat_5, offer_mat_5 = FunkSVD(train_data_np, latent_features=5, learning_rate=0.01, iters=100)"
   ]
  },
  {
   "cell_type": "code",
   "execution_count": 137,
   "metadata": {},
   "outputs": [],
   "source": [
    "def predict_reaction(user_matrix, offer_matrix, user_id, offer_id):\n",
    "    '''\n",
    "    INPUT: user matrix, offer matrix, user id offer id\n",
    "    OUTPUT: predicition for a reaction of user and offer\n",
    "\n",
    "    '''\n",
    "    try:\n",
    "        user_ids_series = np.array(train_df.index)\n",
    "        offer_ids_series = np.array(train_df.columns)\n",
    "\n",
    "        # User row and offer Column\n",
    "        user_row = np.where(user_ids_series == user_id)[0][0]\n",
    "        offer_col = np.where(offer_ids_series == offer_id)[0][0]\n",
    "\n",
    "        # Take  product of that row and column in U and V to make prediction\n",
    "        pred = np.dot(user_matrix[user_row, :], offer_matrix[:, offer_col])\n",
    "\n",
    "        return pred\n",
    "    except:\n",
    "        return None"
   ]
  },
  {
   "cell_type": "code",
   "execution_count": 138,
   "metadata": {},
   "outputs": [],
   "source": [
    "def validate(test_df, user_matrix, offer_matrix):\n",
    "    '''Measure the SME for  prediction'''\n",
    "    num = np.count_nonzero(~np.isnan(test_df))\n",
    "    \n",
    "    sse_accum = 0\n",
    "    \n",
    "    for user_id in test_df.index:\n",
    "        for offer_id in test_df.columns:\n",
    "            if ~np.isnan(test_df.loc[user_id, offer_id]):\n",
    "                predict_value = predict_reaction(user_matrix, offer_matrix, user_id, offer_id)\n",
    "                if predict_value != None:\n",
    "                    # compute the error \n",
    "                    diff = test_df.loc[user_id, offer_id] - predict_reaction(user_matrix, offer_matrix, user_id, offer_id)\n",
    "\n",
    "                    # Keep track of the sum of squared errors for the matrix\n",
    "                    sse_accum += diff**2\n",
    "    \n",
    "    print(sse_accum / num)"
   ]
  },
  {
   "cell_type": "code",
   "execution_count": 139,
   "metadata": {},
   "outputs": [
    {
     "name": "stdout",
     "output_type": "stream",
     "text": [
      "0.33248006963869053\n"
     ]
    }
   ],
   "source": [
    "validate(test_df, user_matrix, offer_matrix)"
   ]
  },
  {
   "cell_type": "code",
   "execution_count": 140,
   "metadata": {},
   "outputs": [
    {
     "name": "stdout",
     "output_type": "stream",
     "text": [
      "0.3052345642432763\n"
     ]
    }
   ],
   "source": [
    "validate(test_df, user_mat_10, offer_mat_10)"
   ]
  },
  {
   "cell_type": "code",
   "execution_count": 141,
   "metadata": {},
   "outputs": [
    {
     "name": "stdout",
     "output_type": "stream",
     "text": [
      "0.2862156203728207\n"
     ]
    }
   ],
   "source": [
    "validate(test_df, user_mat_5, offer_mat_5)"
   ]
  },
  {
   "cell_type": "code",
   "execution_count": 142,
   "metadata": {},
   "outputs": [],
   "source": [
    "\n",
    "def best_offer(user_item_matrix):\n",
    "    \n",
    "    # which offer sells best\n",
    "\n",
    "    offer_gain = []\n",
    "    for offer_id in user_item_matrix.columns:\n",
    "        offer_gain.append([offer_id, transcript[(transcript['person'].isin(list(user_item_matrix[user_item_matrix[offer_id]>=1].index)))&(transcript['event']=='transaction')]['value'].apply(lambda x: x['amount']).sum()])\n",
    "\n",
    "    offer_value = pd.DataFrame(offer_gain, columns=['offer_id', 'gain'])\n",
    "    offer_value['gain'] = pd.to_numeric(offer_value['gain'])\n",
    "    offer_value.sort_values(by='gain', ascending=False, inplace=True)\n",
    "    print(offer_value)\n",
    "    \n",
    "    best_sale = offer_value.plot(kind='bar', title='Sale Amount of Different Offers')\n",
    "    best_sale.set_xlabel('Offer number')\n",
    "    best_sale.set_ylabel('Sale Amount')\n",
    "    \n",
    "    return offer_value"
   ]
  },
  {
   "cell_type": "code",
   "execution_count": 143,
   "metadata": {},
   "outputs": [
    {
     "name": "stdout",
     "output_type": "stream",
     "text": [
      "                           offer_id       gain\n",
      "7  fafdcd668e3743c1bb461111dcafc2a4  565322.41\n",
      "1  2298d6c36e964ae4a3e7e9706d1fb8c2  510032.91\n",
      "6  f19421c1d4aa40978ebb69ca19b0e20d  448752.65\n",
      "3  4d5c57ea9a6940dd891ad53e9dbe8da0  412942.89\n",
      "5  ae264e3637204a6fb9bb56bc8210ddfd  393014.96\n",
      "2  2906b810c7d4411798c6938adc9daaa5  277442.13\n",
      "4  9b98b8c7a33c4b65b9aebfe6a799e6d9  272571.93\n",
      "0  0b1e1539f2cc45b7b9fa7c272da2e1d7  191448.73\n"
     ]
    },
    {
     "data": {
      "text/html": [
       "<div>\n",
       "<style scoped>\n",
       "    .dataframe tbody tr th:only-of-type {\n",
       "        vertical-align: middle;\n",
       "    }\n",
       "\n",
       "    .dataframe tbody tr th {\n",
       "        vertical-align: top;\n",
       "    }\n",
       "\n",
       "    .dataframe thead th {\n",
       "        text-align: right;\n",
       "    }\n",
       "</style>\n",
       "<table border=\"1\" class=\"dataframe\">\n",
       "  <thead>\n",
       "    <tr style=\"text-align: right;\">\n",
       "      <th></th>\n",
       "      <th>offer_id</th>\n",
       "      <th>gain</th>\n",
       "    </tr>\n",
       "  </thead>\n",
       "  <tbody>\n",
       "    <tr>\n",
       "      <td>7</td>\n",
       "      <td>fafdcd668e3743c1bb461111dcafc2a4</td>\n",
       "      <td>565322.41</td>\n",
       "    </tr>\n",
       "    <tr>\n",
       "      <td>1</td>\n",
       "      <td>2298d6c36e964ae4a3e7e9706d1fb8c2</td>\n",
       "      <td>510032.91</td>\n",
       "    </tr>\n",
       "    <tr>\n",
       "      <td>6</td>\n",
       "      <td>f19421c1d4aa40978ebb69ca19b0e20d</td>\n",
       "      <td>448752.65</td>\n",
       "    </tr>\n",
       "    <tr>\n",
       "      <td>3</td>\n",
       "      <td>4d5c57ea9a6940dd891ad53e9dbe8da0</td>\n",
       "      <td>412942.89</td>\n",
       "    </tr>\n",
       "    <tr>\n",
       "      <td>5</td>\n",
       "      <td>ae264e3637204a6fb9bb56bc8210ddfd</td>\n",
       "      <td>393014.96</td>\n",
       "    </tr>\n",
       "    <tr>\n",
       "      <td>2</td>\n",
       "      <td>2906b810c7d4411798c6938adc9daaa5</td>\n",
       "      <td>277442.13</td>\n",
       "    </tr>\n",
       "    <tr>\n",
       "      <td>4</td>\n",
       "      <td>9b98b8c7a33c4b65b9aebfe6a799e6d9</td>\n",
       "      <td>272571.93</td>\n",
       "    </tr>\n",
       "    <tr>\n",
       "      <td>0</td>\n",
       "      <td>0b1e1539f2cc45b7b9fa7c272da2e1d7</td>\n",
       "      <td>191448.73</td>\n",
       "    </tr>\n",
       "  </tbody>\n",
       "</table>\n",
       "</div>"
      ],
      "text/plain": [
       "                           offer_id       gain\n",
       "7  fafdcd668e3743c1bb461111dcafc2a4  565322.41\n",
       "1  2298d6c36e964ae4a3e7e9706d1fb8c2  510032.91\n",
       "6  f19421c1d4aa40978ebb69ca19b0e20d  448752.65\n",
       "3  4d5c57ea9a6940dd891ad53e9dbe8da0  412942.89\n",
       "5  ae264e3637204a6fb9bb56bc8210ddfd  393014.96\n",
       "2  2906b810c7d4411798c6938adc9daaa5  277442.13\n",
       "4  9b98b8c7a33c4b65b9aebfe6a799e6d9  272571.93\n",
       "0  0b1e1539f2cc45b7b9fa7c272da2e1d7  191448.73"
      ]
     },
     "execution_count": 143,
     "metadata": {},
     "output_type": "execute_result"
    },
    {
     "data": {
      "image/png": "[encoded data removed]",
      "text/plain": [
       "<Figure size 432x288 with 1 Axes>"
      ]
     },
     "metadata": {},
     "output_type": "display_data"
    }
   ],
   "source": [
    "best_offer(full_df)"
   ]
  },
  {
   "cell_type": "code",
   "execution_count": 144,
   "metadata": {},
   "outputs": [],
   "source": [
    "def recommendation_offer(user_id, user_matrix, offer_matrix):\n",
    "    recommend = {}\n",
    "    for offer_id in train_df.columns:\n",
    "        pred_val = predict_reaction(user_matrix, offer_matrix, user_id, offer_id)\n",
    "        if pred_val != None:\n",
    "            recommend[offer_id] = pred_val\n",
    "        else:\n",
    "            break\n",
    "    if pred_val == None:\n",
    "        print(\"No user with this id found. Offer is the most successfull offer\")\n",
    "        top_offer = best_offer(full_df)\n",
    "        for offer_id in top_offer['offer_id']:\n",
    "            print(\"offer id: \", offer_id)\n",
    "    else:\n",
    "        print(\"recommend offer for user \", user_id)\n",
    "        for offer_id, pred_val in sorted(recommend.items(), key=lambda kv:(kv[1], kv[0]), reverse=True):\n",
    "            print(\"offer id: \", offer_id, \" predicted value: \", round(pred_val,2))"
   ]
  },
  {
   "cell_type": "code",
   "execution_count": 145,
   "metadata": {},
   "outputs": [
    {
     "name": "stdout",
     "output_type": "stream",
     "text": [
      "recommend offer for user  a03223e636434f42ac4c3df47e8bac43\n",
      "offer id:  2298d6c36e964ae4a3e7e9706d1fb8c2  predicted value:  1.6\n",
      "offer id:  ae264e3637204a6fb9bb56bc8210ddfd  predicted value:  0.86\n",
      "offer id:  fafdcd668e3743c1bb461111dcafc2a4  predicted value:  0.77\n",
      "offer id:  f19421c1d4aa40978ebb69ca19b0e20d  predicted value:  0.42\n",
      "offer id:  4d5c57ea9a6940dd891ad53e9dbe8da0  predicted value:  0.38\n",
      "offer id:  2906b810c7d4411798c6938adc9daaa5  predicted value:  0.35\n",
      "offer id:  9b98b8c7a33c4b65b9aebfe6a799e6d9  predicted value:  -0.09\n",
      "offer id:  0b1e1539f2cc45b7b9fa7c272da2e1d7  predicted value:  -0.39\n"
     ]
    }
   ],
   "source": [
    "recommendation_offer('a03223e636434f42ac4c3df47e8bac43', user_matrix, offer_matrix)"
   ]
  },
  {
   "cell_type": "code",
   "execution_count": 146,
   "metadata": {},
   "outputs": [
    {
     "name": "stdout",
     "output_type": "stream",
     "text": [
      "No user with this id found. Offer is the most successfull offer\n",
      "                           offer_id       gain\n",
      "7  fafdcd668e3743c1bb461111dcafc2a4  565322.41\n",
      "1  2298d6c36e964ae4a3e7e9706d1fb8c2  510032.91\n",
      "6  f19421c1d4aa40978ebb69ca19b0e20d  448752.65\n",
      "3  4d5c57ea9a6940dd891ad53e9dbe8da0  412942.89\n",
      "5  ae264e3637204a6fb9bb56bc8210ddfd  393014.96\n",
      "2  2906b810c7d4411798c6938adc9daaa5  277442.13\n",
      "4  9b98b8c7a33c4b65b9aebfe6a799e6d9  272571.93\n",
      "0  0b1e1539f2cc45b7b9fa7c272da2e1d7  191448.73\n",
      "offer id:  fafdcd668e3743c1bb461111dcafc2a4\n",
      "offer id:  2298d6c36e964ae4a3e7e9706d1fb8c2\n",
      "offer id:  f19421c1d4aa40978ebb69ca19b0e20d\n",
      "offer id:  4d5c57ea9a6940dd891ad53e9dbe8da0\n",
      "offer id:  ae264e3637204a6fb9bb56bc8210ddfd\n",
      "offer id:  2906b810c7d4411798c6938adc9daaa5\n",
      "offer id:  9b98b8c7a33c4b65b9aebfe6a799e6d9\n",
      "offer id:  0b1e1539f2cc45b7b9fa7c272da2e1d7\n"
     ]
    },
    {
     "data": {
      "image/png": "[encoded data removed]",
      "text/plain": [
       "<Figure size 432x288 with 1 Axes>"
      ]
     },
     "metadata": {},
     "output_type": "display_data"
    }
   ],
   "source": [
    "recommendation_offer('new', user_matrix, offer_matrix)"
   ]
  },
  {
   "cell_type": "code",
   "execution_count": 147,
   "metadata": {},
   "outputs": [],
   "source": [
    "def gender_offer(full_df):\n",
    "   \n",
    "    # Which offer type responds to which gender\n",
    "   \n",
    "    \n",
    "    # initialize \n",
    "    gender_response = pd.DataFrame(data=[[0,0],[0,0],[0,0]], index=['M', 'F', 'O'], columns=['bogo', 'discount'])\n",
    "    gender_sent = pd.DataFrame(data=[[0,0],[0,0],[0,0]], index=['M', 'F', 'O'], columns=['bogo', 'discount'])\n",
    "\n",
    "    #count number of completed offer per gender\n",
    "    for offer_type in ['bogo', 'discount']:\n",
    "        for offer_id in portfolio[portfolio['offer_type']==offer_type]['id']:\n",
    "            gender_response[offer_type] = gender_response[offer_type].add(profile[profile['id'].isin(full_df[full_df[offer_id]>0].index)]['gender'].value_counts(), fill_value=0)\n",
    "            gender_sent[offer_type] = gender_sent[offer_type].add(profile[profile['id'].isin(full_df[full_df[offer_id]>=0].index)]['gender'].value_counts(), fill_value=0)\n",
    "        \n",
    "    gender_offer = (gender_response / gender_sent * 100).plot(kind='bar', title='Percentage of customer response')\n",
    "    gender_offer.set_xlabel(\"Gender\")\n",
    "    gender_offer.set_ylabel(\"Percentage\")"
   ]
  },
  {
   "cell_type": "code",
   "execution_count": 148,
   "metadata": {},
   "outputs": [
    {
     "data": {
      "image/png": "[encoded data removed]",
      "text/plain": [
       "<Figure size 432x288 with 1 Axes>"
      ]
     },
     "metadata": {},
     "output_type": "display_data"
    }
   ],
   "source": [
    "gender_offer(full_df)"
   ]
  }
 ],
 "metadata": {
  "kernelspec": {
   "display_name": "Python 3",
   "language": "python",
   "name": "python3"
  },
  "language_info": {
   "codemirror_mode": {
    "name": "ipython",
    "version": 3
   },
   "file_extension": ".py",
   "mimetype": "text/x-python",
   "name": "python",
   "nbconvert_exporter": "python",
   "pygments_lexer": "ipython3",
   "version": "3.7.4"
  }
 },
 "nbformat": 4,
 "nbformat_minor": 2
}
